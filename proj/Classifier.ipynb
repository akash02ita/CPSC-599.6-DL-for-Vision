{
  "nbformat": 4,
  "nbformat_minor": 0,
  "metadata": {
    "colab": {
      "provenance": [],
      "authorship_tag": "ABX9TyP0tSJMKhtgheay8novIOwf",
      "include_colab_link": true
    },
    "kernelspec": {
      "name": "python3",
      "display_name": "Python 3"
    },
    "language_info": {
      "name": "python"
    }
  },
  "cells": [
    {
      "cell_type": "markdown",
      "metadata": {
        "id": "view-in-github",
        "colab_type": "text"
      },
      "source": [
        "<a href=\"https://colab.research.google.com/github/akash02ita/CPSC-599.6-DL-for-Vision/blob/proj/proj/Classifier.ipynb\" target=\"_parent\"><img src=\"https://colab.research.google.com/assets/colab-badge.svg\" alt=\"Open In Colab\"/></a>"
      ]
    },
    {
      "cell_type": "code",
      "execution_count": 1,
      "metadata": {
        "colab": {
          "base_uri": "https://localhost:8080/"
        },
        "id": "KCq_kESAEg5M",
        "outputId": "3a40ae3f-0172-4df0-a887-16e6126f76ea"
      },
      "outputs": [
        {
          "output_type": "stream",
          "name": "stdout",
          "text": [
            "Cloning into 'myrepo'...\n",
            "remote: Enumerating objects: 85, done.\u001b[K\n",
            "remote: Counting objects: 100% (85/85), done.\u001b[K\n",
            "remote: Compressing objects: 100% (67/67), done.\u001b[K\n",
            "remote: Total 85 (delta 10), reused 23 (delta 0), pack-reused 0\u001b[K\n",
            "Unpacking objects: 100% (85/85), 15.08 MiB | 4.98 MiB/s, done.\n"
          ]
        }
      ],
      "source": [
        "!git clone --branch proj https://github.com/akash02ita/CPSC-599.6-DL-for-Vision.git myrepo\n",
        "!cp myrepo/proj/CustomDataset.ipynb ."
      ]
    },
    {
      "cell_type": "code",
      "source": [
        "__BACKUP__NAME__ = __name__\n",
        "__name__ = \"NOT MAIN\" # import jupyter methods without running test scripts\n",
        "%run CustomDataset.ipynb\n",
        "__name__ = __BACKUP__NAME__"
      ],
      "metadata": {
        "id": "bJXOqi8_Fbif"
      },
      "execution_count": 2,
      "outputs": []
    }
  ]
}