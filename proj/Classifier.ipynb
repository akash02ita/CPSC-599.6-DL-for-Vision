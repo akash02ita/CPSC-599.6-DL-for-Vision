{
  "nbformat": 4,
  "nbformat_minor": 0,
  "metadata": {
    "colab": {
      "provenance": [],
      "authorship_tag": "ABX9TyMaMWq3ARE55ChvtUnGMfZd",
      "include_colab_link": true
    },
    "kernelspec": {
      "name": "python3",
      "display_name": "Python 3"
    },
    "language_info": {
      "name": "python"
    }
  },
  "cells": [
    {
      "cell_type": "markdown",
      "metadata": {
        "id": "view-in-github",
        "colab_type": "text"
      },
      "source": [
        "<a href=\"https://colab.research.google.com/github/akash02ita/CPSC-599.6-DL-for-Vision/blob/proj/proj/Classifier.ipynb\" target=\"_parent\"><img src=\"https://colab.research.google.com/assets/colab-badge.svg\" alt=\"Open In Colab\"/></a>"
      ]
    },
    {
      "cell_type": "code",
      "execution_count": 1,
      "metadata": {
        "colab": {
          "base_uri": "https://localhost:8080/"
        },
        "id": "KCq_kESAEg5M",
        "outputId": "85946ebe-82e3-46f6-8d33-2963508eb0cc"
      },
      "outputs": [
        {
          "output_type": "stream",
          "name": "stdout",
          "text": [
            "Cloning into 'myrepo'...\n",
            "remote: Enumerating objects: 101, done.\u001b[K\n",
            "remote: Counting objects: 100% (101/101), done.\u001b[K\n",
            "remote: Compressing objects: 100% (83/83), done.\u001b[K\n",
            "remote: Total 101 (delta 12), reused 23 (delta 0), pack-reused 0\u001b[K\n",
            "Receiving objects: 100% (101/101), 17.53 MiB | 16.98 MiB/s, done.\n",
            "Resolving deltas: 100% (12/12), done.\n"
          ]
        }
      ],
      "source": [
        "!git clone --branch proj https://github.com/akash02ita/CPSC-599.6-DL-for-Vision.git myrepo\n",
        "!cp myrepo/proj/CustomDataset.ipynb ."
      ]
    },
    {
      "cell_type": "code",
      "source": [
        "__BACKUP__NAME__ = __name__\n",
        "__name__ = \"NOT MAIN\" # import jupyter methods without running test scripts\n",
        "%run CustomDataset.ipynb\n",
        "__name__ = __BACKUP__NAME__"
      ],
      "metadata": {
        "id": "bJXOqi8_Fbif"
      },
      "execution_count": 2,
      "outputs": []
    },
    {
      "cell_type": "markdown",
      "source": [
        "# Setup Custom Dataset"
      ],
      "metadata": {
        "id": "2BXOv_nxNfkB"
      }
    },
    {
      "cell_type": "code",
      "source": [
        "from google.colab import drive\n",
        "import shutil, zipfile\n",
        "\n",
        "if __name__ == \"__main__\":\n",
        "  # Mount the folder\n",
        "  drive.mount('/content/drive', force_remount=True)"
      ],
      "metadata": {
        "colab": {
          "base_uri": "https://localhost:8080/"
        },
        "id": "JvcJJbdMOK0Z",
        "outputId": "77c846e5-5ffd-4d19-b7c9-294550289240"
      },
      "execution_count": 3,
      "outputs": [
        {
          "output_type": "stream",
          "name": "stdout",
          "text": [
            "Mounted at /content/drive\n"
          ]
        }
      ]
    },
    {
      "cell_type": "markdown",
      "source": [
        "## Setup handwritten text database"
      ],
      "metadata": {
        "id": "NEQn28m8NXRX"
      }
    },
    {
      "cell_type": "code",
      "source": [
        "DATASET_PATH = \"/content/drive/MyDrive/599 Project/custom-dataset-script\"\n",
        "\n",
        "handwritten_zip_path = \"/content/drive/MyDrive/599 Project/custom-dataset-script/handwritten-text-images-database.zip\"\n",
        "extract_zip_to(handwritten_zip_path, \".\")"
      ],
      "metadata": {
        "colab": {
          "base_uri": "https://localhost:8080/",
          "height": 36
        },
        "id": "EKqmQ5-oUwBj",
        "outputId": "d16aee69-6692-401c-fd27-ae77cc5e4ab9"
      },
      "execution_count": 4,
      "outputs": [
        {
          "output_type": "execute_result",
          "data": {
            "text/plain": [
              "'.'"
            ],
            "application/vnd.google.colaboratory.intrinsic+json": {
              "type": "string"
            }
          },
          "metadata": {},
          "execution_count": 4
        }
      ]
    },
    {
      "cell_type": "code",
      "source": [
        "# 'en_test' folder not present.\n",
        "# train_handwritten = TextDataset(\"database/en_train_filtered\", \"database/en_train_filtered/labels.csv\")\n",
        "# val_handwritten = TextDataset(\"database/en_val\", \"database/en_val/labels.csv\")\n",
        "\n",
        "# split the texts into training, validation and test (60, 20, 20)\n",
        "handwritten_dataset = TextDataset(\"database/en_train_filtered\", \"database/en_train_filtered/labels.csv\")\n",
        "from torch.utils.data import random_split\n",
        "\n",
        "train_size = int(0.6 * len(handwritten_dataset))\n",
        "val_size = int(0.2 * len(handwritten_dataset))\n",
        "test_size = len(handwritten_dataset) - train_size - val_size\n",
        "\n",
        "train_handwritten, val_handwritten, test_handwritten = random_split(handwritten_dataset, [train_size, val_size, test_size])\n",
        "print(len(train_handwritten),len(val_handwritten),len(test_handwritten))"
      ],
      "metadata": {
        "colab": {
          "base_uri": "https://localhost:8080/"
        },
        "id": "3UH1rnFLNWMu",
        "outputId": "1c36759f-cc7b-4aaa-9756-ce9b41efec09"
      },
      "execution_count": 5,
      "outputs": [
        {
          "output_type": "stream",
          "name": "stdout",
          "text": [
            "11999 3999 4001\n"
          ]
        }
      ]
    },
    {
      "cell_type": "code",
      "source": [],
      "metadata": {
        "id": "N6P4Oi4_gCIY"
      },
      "execution_count": 5,
      "outputs": []
    },
    {
      "cell_type": "markdown",
      "source": [
        "## Setup printed text database"
      ],
      "metadata": {
        "id": "7GhX8dHINie8"
      }
    },
    {
      "cell_type": "code",
      "source": [
        "\"\"\"\n",
        "!pip install english-words\n",
        "from english_words import get_english_words_set\n",
        "!pip install essential_generators\n",
        "from essential_generators import DocumentGenerator\n",
        "\"\"\"\n",
        "!pip install nltk\n",
        "import nltk\n",
        "nltk.download('words')\n",
        "from nltk.corpus import words\n",
        "from random import sample"
      ],
      "metadata": {
        "colab": {
          "base_uri": "https://localhost:8080/"
        },
        "id": "vx7zTgfRUubN",
        "outputId": "7c5ecf08-1a75-44bd-be9d-3eeb9eefae9e"
      },
      "execution_count": 6,
      "outputs": [
        {
          "output_type": "stream",
          "name": "stdout",
          "text": [
            "Looking in indexes: https://pypi.org/simple, https://us-python.pkg.dev/colab-wheels/public/simple/\n",
            "Requirement already satisfied: nltk in /usr/local/lib/python3.9/dist-packages (3.8.1)\n",
            "Requirement already satisfied: regex>=2021.8.3 in /usr/local/lib/python3.9/dist-packages (from nltk) (2022.10.31)\n",
            "Requirement already satisfied: tqdm in /usr/local/lib/python3.9/dist-packages (from nltk) (4.65.0)\n",
            "Requirement already satisfied: click in /usr/local/lib/python3.9/dist-packages (from nltk) (8.1.3)\n",
            "Requirement already satisfied: joblib in /usr/local/lib/python3.9/dist-packages (from nltk) (1.2.0)\n"
          ]
        },
        {
          "output_type": "stream",
          "name": "stderr",
          "text": [
            "[nltk_data] Downloading package words to /root/nltk_data...\n",
            "[nltk_data]   Unzipping corpora/words.zip.\n"
          ]
        }
      ]
    },
    {
      "cell_type": "code",
      "source": [
        "# https://stackoverflow.com/questions/55200307/generate-a-string-of-n-random-english-words-with-nltk-python\n",
        "def random_sentence(n):\n",
        "    return ' '.join(sample(words.words(), n)) # calling it too many times is  inefficient\n",
        "    # maybe better to use a prexisting word database (althougt not neeeded as sentences.txt has already been generated, and only once is required)"
      ],
      "metadata": {
        "id": "ucLi7wn9W6v2"
      },
      "execution_count": 7,
      "outputs": []
    },
    {
      "cell_type": "code",
      "source": [
        "import random, shutil\n",
        "# GENERATE_SENTENCES = input(\"Do you want to generate sentences? (y/n) \") == \"y\"\n",
        "GENERATE_SENTENCES = False # already generated before. Hardcode to false to be safe\n",
        "PRINTED_TEXTS_PATH = DATASET_PATH # \"/content/drive/MyDrive/599 Project/custom-dataset-script\"\n",
        "class Sentence:\n",
        "  def __init__(self, tot_sentences=1, min_length=1, max_length=3):\n",
        "    assert 1 <= min_length <= max_length\n",
        "    # initialize sentences\n",
        "    self.tot_sentences = tot_sentences\n",
        "    self.sentences = [\"\"]*tot_sentences\n",
        "    for i in range(tot_sentences):\n",
        "      sentence_length = random.randint(min_length,max_length)\n",
        "      self.sentences[i] = random_sentence(sentence_length)\n",
        "  def __len__(self):\n",
        "    return self.tot_sentences\n",
        "  def __getitem__(self, i):\n",
        "    return self.sentences[i]\n",
        "  def __str__(self):\n",
        "    return str(self.sentences)\n",
        "\n",
        "if GENERATE_SENTENCES:\n",
        "  texts = Sentence(10000)\n",
        "  # texts = Sentence(100)\n",
        "  print(\"total sentences:\", len(texts))\n",
        "  # print(texts)\n",
        "\n",
        "  # export to file\n",
        "  with open('sentences.txt', 'w') as file:\n",
        "    for sentence in texts:\n",
        "      file.write(sentence+\"\\n\")\n",
        "  # copy file to drive\n",
        "  shutil.copy(\"sentences.txt\", PRINTED_TEXTS_PATH)\n",
        "\n",
        "# copy file from drive\n",
        "shutil.copy(os.path.join(DATASET_PATH, \"sentences.txt\"),\".\")"
      ],
      "metadata": {
        "colab": {
          "base_uri": "https://localhost:8080/",
          "height": 36
        },
        "id": "zTBXpH8dNkl_",
        "outputId": "25fbea9a-10fd-448a-ee86-6354e466e3df"
      },
      "execution_count": 8,
      "outputs": [
        {
          "output_type": "execute_result",
          "data": {
            "text/plain": [
              "'./sentences.txt'"
            ],
            "application/vnd.google.colaboratory.intrinsic+json": {
              "type": "string"
            }
          },
          "metadata": {},
          "execution_count": 8
        }
      ]
    },
    {
      "cell_type": "code",
      "source": [
        "with open('sentences.txt', 'r') as file:\n",
        "  texts = list(map(lambda t: t.rstrip('\\n'), file.readlines()))\n",
        "\n",
        "# split the texts into training, validation and test (60, 20, 20)\n",
        "from torch.utils.data import random_split\n",
        "\n",
        "train_size = int(0.6 * len(texts))\n",
        "val_size = int(0.2 * len(texts))\n",
        "test_size = len(texts) - train_size - val_size\n",
        "\n",
        "sentences = texts\n",
        "print(len(sentences))"
      ],
      "metadata": {
        "colab": {
          "base_uri": "https://localhost:8080/"
        },
        "id": "9xH8YdAIZdCE",
        "outputId": "af99f125-6bf1-49be-fa3b-d5e68f1317f6"
      },
      "execution_count": 9,
      "outputs": [
        {
          "output_type": "stream",
          "name": "stdout",
          "text": [
            "10000\n"
          ]
        }
      ]
    },
    {
      "cell_type": "code",
      "source": [
        "# setup one font\n",
        "extract_zip_to(\"/content/drive/MyDrive/599 Project/custom-dataset-script/fonts/roboto.zip\", \"./fonts\")\n",
        "FONT_PATH =  \"./fonts/Roboto-Regular.ttf\"\n",
        "\n",
        "# GENERATE_PRINTED_IMAGES = input(\"Do you want to generate printed images? (y/n) \") == \"y\"\n",
        "GENERATE_PRINTED_IMAGES = False # from now and on, to directly extract instead of re-generating\n",
        "\n",
        "import shutil, os\n",
        "def zip_to(src, dest):\n",
        "  # create zip file with the nested folder as the folder `src`\n",
        "  # so that when extracting `src` folder is extracted instead of `src/*` files\n",
        "  shutil.make_archive(dest, 'zip', \".\", src)\n",
        "\n",
        "\n",
        "if GENERATE_PRINTED_IMAGES:\n",
        "  # generate printed images\n",
        "  generatePrintedImages(\"printed_text_dataset\", FONT_PATH, sentences)\n",
        "\n",
        "  # zip and save all them on drive\n",
        "  zip_to(\"printed_text_dataset\", os.path.join(DATASET_PATH, \"printed_text_dataset\"))  \n",
        "\n",
        "# extract zip files from drive \n",
        "print(os.listdir(DATASET_PATH))\n",
        "extract_zip_to(os.path.join(DATASET_PATH, \"printed_text_dataset.zip\"), \".\")\n",
        "print(os.listdir(DATASET_PATH))"
      ],
      "metadata": {
        "colab": {
          "base_uri": "https://localhost:8080/"
        },
        "id": "A6kkZ0bNhYg8",
        "outputId": "a097bddf-da71-49d7-81e1-6be370de9d19"
      },
      "execution_count": 10,
      "outputs": [
        {
          "output_type": "stream",
          "name": "stdout",
          "text": [
            "Do you want to generate printed images? (y/n) y\n",
            "['handwritten-text-images-database.zip', 'handwritten-text-images-labels.csv', 'sample images', 'fonts', 'Custom Dataset.ipynb', 'sentences.txt', 'train_text_printed.zip', 'val_text_printed.zip', 'test_text_printed.zip', 'printed_text_dataset.zip']\n",
            "['handwritten-text-images-database.zip', 'handwritten-text-images-labels.csv', 'sample images', 'fonts', 'Custom Dataset.ipynb', 'sentences.txt', 'train_text_printed.zip', 'val_text_printed.zip', 'test_text_printed.zip', 'printed_text_dataset.zip']\n"
          ]
        }
      ]
    },
    {
      "cell_type": "code",
      "source": [
        "# split the texts into training, validation and test (60, 20, 20)\n",
        "printed_dataset = TextDataset(\"printed_text_dataset\", \"printed_text_dataset/labels.csv\")\n",
        "from torch.utils.data import random_split\n",
        "\n",
        "train_size = int(0.6 * len(printed_dataset))\n",
        "val_size = int(0.2 * len(printed_dataset))\n",
        "test_size = len(printed_dataset) - train_size - val_size\n",
        "\n",
        "train_printed, val_printed, test_printed = random_split(printed_dataset, [train_size, val_size, test_size])\n",
        "print(len(train_printed),len(val_printed),len(test_printed))"
      ],
      "metadata": {
        "colab": {
          "base_uri": "https://localhost:8080/"
        },
        "id": "OnioCAtrgA_V",
        "outputId": "17b66509-9ad0-4f80-e0be-f3dd88504680"
      },
      "execution_count": 12,
      "outputs": [
        {
          "output_type": "stream",
          "name": "stdout",
          "text": [
            "24000 8000 8000\n"
          ]
        }
      ]
    },
    {
      "cell_type": "code",
      "source": [
        "!ls printed_text_dataset/ | wc -l\n",
        "print(val_printed[0][1])\n",
        "val_printed[0][0].show()\n",
        "print(val_printed[1][1])\n",
        "val_printed[1][0].show()\n",
        "print(val_printed[2][1])\n",
        "val_printed[2][0].show()\n",
        "print(val_printed[3][1])\n",
        "val_printed[3][0].show()"
      ],
      "metadata": {
        "colab": {
          "base_uri": "https://localhost:8080/",
          "height": 198
        },
        "id": "6L5LN_SxNpt6",
        "outputId": "19c07d40-f0f5-4f4e-c1a2-2d75bf81ac11"
      },
      "execution_count": 16,
      "outputs": [
        {
          "output_type": "stream",
          "name": "stdout",
          "text": [
            "40001\n",
            "feudal\n"
          ]
        },
        {
          "output_type": "display_data",
          "data": {
            "text/plain": [
              "<PIL.JpegImagePlugin.JpegImageFile image mode=RGB size=55x19 at 0x7F85BAB3E9D0>"
            ],
            "image/png": "[encoded data removed]"
          },
          "metadata": {}
        },
        {
          "output_type": "stream",
          "name": "stdout",
          "text": [
            "gascoigny entoptoscope\n"
          ]
        },
        {
          "output_type": "display_data",
          "data": {
            "text/plain": [
              "<PIL.JpegImagePlugin.JpegImageFile image mode=RGB size=273x29 at 0x7F85BAB3E820>"
            ],
            "image/png": "[encoded data removed]"
          },
          "metadata": {}
        },
        {
          "output_type": "stream",
          "name": "stdout",
          "text": [
            "unripping\n"
          ]
        },
        {
          "output_type": "display_data",
          "data": {
            "text/plain": [
              "<PIL.JpegImagePlugin.JpegImageFile image mode=RGB size=104x29 at 0x7F85BAB3E8B0>"
            ],
            "image/png": "[encoded data removed]"
          },
          "metadata": {}
        },
        {
          "output_type": "stream",
          "name": "stdout",
          "text": [
            "alvus\n"
          ]
        },
        {
          "output_type": "display_data",
          "data": {
            "text/plain": [
              "<PIL.JpegImagePlugin.JpegImageFile image mode=RGB size=35x14 at 0x7F85BAB3E340>"
            ],
            "image/png": "[encoded data removed]"
          },
          "metadata": {}
        }
      ]
    },
    {
      "cell_type": "markdown",
      "source": [
        "## Create custom dataset"
      ],
      "metadata": {
        "id": "evyqvIvHNn_g"
      }
    },
    {
      "cell_type": "code",
      "source": [
        "# get orignal images: https://www.kaggle.com/datasets/plameneduardo/sarscov2-ctscan-dataset?resource=download\n",
        "extract_zip_to(os.path.join(DATASET_PATH, \"covid_ctscan_dataset.zip\"),\".\")\n",
        "!mv COVID \"originaldataset\" || rm -r \"original_images\"; mv COVID \"original_images\" \n",
        "!rm -r non-COVID"
      ],
      "metadata": {
        "id": "z3t6tNI0_Ri1",
        "outputId": "d4b84279-5efb-4430-b390-33264db1951a",
        "colab": {
          "base_uri": "https://localhost:8080/"
        }
      },
      "execution_count": 32,
      "outputs": [
        {
          "output_type": "stream",
          "name": "stdout",
          "text": [
            "mv: cannot stat 'COVID': No such file or directory\n"
          ]
        }
      ]
    },
    {
      "cell_type": "code",
      "source": [
        "# in custom dataset assertion error is caused by fact that random_split creates new instance type\n",
        "print(type(train_printed))\n",
        "train_customdataset = CustomDataset(\"original_images\", train_printed, train_handwritten)\n",
        "val_customdataset = CustomDataset(\"original_images\", val_printed, val_handwritten)\n",
        "test_customdataset = CustomDataset(\"original_images\", test_printed, test_handwritten)\n",
        "\n",
        "# easy and better solution\n",
        "\"\"\"\n",
        "pass whole text dataset and handwritten dataset to customdataset\n",
        "\n",
        "then use randomsplit after it\n",
        "\n",
        "not only it is easier and avoid assertion error but it is also better:\n",
        "- custom dataset, may generate of whatever length\n",
        "- in the previous case it would (if assertion error does not occur) length rations between train, val, test are thus 'undeterministic'\n",
        "- it allows to mantain ration of lengths between train, val, test, if it splitted at the end stage\n",
        "\"\"\""
      ],
      "metadata": {
        "id": "eh9GKrS1-qei",
        "outputId": "67e4bad6-b685-49c7-fa54-d9adb5b9c107",
        "colab": {
          "base_uri": "https://localhost:8080/",
          "height": 373
        }
      },
      "execution_count": 37,
      "outputs": [
        {
          "output_type": "stream",
          "name": "stdout",
          "text": [
            "<class 'torch.utils.data.dataset.Subset'>\n"
          ]
        },
        {
          "output_type": "error",
          "ename": "AssertionError",
          "evalue": "ignored",
          "traceback": [
            "\u001b[0;31m---------------------------------------------------------------------------\u001b[0m",
            "\u001b[0;31mAssertionError\u001b[0m                            Traceback (most recent call last)",
            "\u001b[0;32m<ipython-input-37-077984eff74d>\u001b[0m in \u001b[0;36m<cell line: 3>\u001b[0;34m()\u001b[0m\n\u001b[1;32m      1\u001b[0m \u001b[0;31m# in custom dataset assertion error is caused by fact that random_split creates new instance type\u001b[0m\u001b[0;34m\u001b[0m\u001b[0;34m\u001b[0m\u001b[0m\n\u001b[1;32m      2\u001b[0m \u001b[0mprint\u001b[0m\u001b[0;34m(\u001b[0m\u001b[0mtype\u001b[0m\u001b[0;34m(\u001b[0m\u001b[0mtrain_printed\u001b[0m\u001b[0;34m)\u001b[0m\u001b[0;34m)\u001b[0m\u001b[0;34m\u001b[0m\u001b[0;34m\u001b[0m\u001b[0m\n\u001b[0;32m----> 3\u001b[0;31m \u001b[0mtrain_customdataset\u001b[0m \u001b[0;34m=\u001b[0m \u001b[0mCustomDataset\u001b[0m\u001b[0;34m(\u001b[0m\u001b[0;34m\"original_images\"\u001b[0m\u001b[0;34m,\u001b[0m \u001b[0mtrain_printed\u001b[0m\u001b[0;34m,\u001b[0m \u001b[0mtrain_handwritten\u001b[0m\u001b[0;34m)\u001b[0m\u001b[0;34m\u001b[0m\u001b[0;34m\u001b[0m\u001b[0m\n\u001b[0m\u001b[1;32m      4\u001b[0m \u001b[0mval_customdataset\u001b[0m \u001b[0;34m=\u001b[0m \u001b[0mCustomDataset\u001b[0m\u001b[0;34m(\u001b[0m\u001b[0;34m\"original_images\"\u001b[0m\u001b[0;34m,\u001b[0m \u001b[0mval_printed\u001b[0m\u001b[0;34m,\u001b[0m \u001b[0mval_handwritten\u001b[0m\u001b[0;34m)\u001b[0m\u001b[0;34m\u001b[0m\u001b[0;34m\u001b[0m\u001b[0m\n\u001b[1;32m      5\u001b[0m \u001b[0mtest_customdataset\u001b[0m \u001b[0;34m=\u001b[0m \u001b[0mCustomDataset\u001b[0m\u001b[0;34m(\u001b[0m\u001b[0;34m\"original_images\"\u001b[0m\u001b[0;34m,\u001b[0m \u001b[0mtest_printed\u001b[0m\u001b[0;34m,\u001b[0m \u001b[0mtest_handwritten\u001b[0m\u001b[0;34m)\u001b[0m\u001b[0;34m\u001b[0m\u001b[0;34m\u001b[0m\u001b[0m\n",
            "\u001b[0;32m<ipython-input-2-ca1d5b2f85de>\u001b[0m in \u001b[0;36m__init__\u001b[0;34m(self, root, printed, handwritten, labelmode, transform, random)\u001b[0m\n\u001b[1;32m     22\u001b[0m \u001b[0;34m\u001b[0m\u001b[0m\n\u001b[1;32m     23\u001b[0m     \"\"\"\n\u001b[0;32m---> 24\u001b[0;31m     \u001b[0;32massert\u001b[0m \u001b[0misinstance\u001b[0m\u001b[0;34m(\u001b[0m\u001b[0mprinted\u001b[0m\u001b[0;34m,\u001b[0m \u001b[0mTextDataset\u001b[0m\u001b[0;34m)\u001b[0m\u001b[0;34m\u001b[0m\u001b[0;34m\u001b[0m\u001b[0m\n\u001b[0m\u001b[1;32m     25\u001b[0m     \u001b[0;32massert\u001b[0m \u001b[0misinstance\u001b[0m\u001b[0;34m(\u001b[0m\u001b[0mhandwritten\u001b[0m\u001b[0;34m,\u001b[0m \u001b[0mTextDataset\u001b[0m\u001b[0;34m)\u001b[0m\u001b[0;34m\u001b[0m\u001b[0;34m\u001b[0m\u001b[0m\n\u001b[1;32m     26\u001b[0m     \u001b[0;32massert\u001b[0m \u001b[0misinstance\u001b[0m\u001b[0;34m(\u001b[0m\u001b[0mroot\u001b[0m\u001b[0;34m,\u001b[0m \u001b[0mstr\u001b[0m\u001b[0;34m)\u001b[0m\u001b[0;34m\u001b[0m\u001b[0;34m\u001b[0m\u001b[0m\n",
            "\u001b[0;31mAssertionError\u001b[0m: "
          ]
        }
      ]
    },
    {
      "cell_type": "markdown",
      "source": [
        "# Model"
      ],
      "metadata": {
        "id": "7pwxGX4qNsgC"
      }
    },
    {
      "cell_type": "markdown",
      "source": [
        "## model setup"
      ],
      "metadata": {
        "id": "YNef4J-lNwVB"
      }
    },
    {
      "cell_type": "code",
      "source": [],
      "metadata": {
        "id": "spEtzZfzNvya"
      },
      "execution_count": null,
      "outputs": []
    },
    {
      "cell_type": "markdown",
      "source": [
        "## model training"
      ],
      "metadata": {
        "id": "J7LSP8AaNyoT"
      }
    },
    {
      "cell_type": "code",
      "source": [],
      "metadata": {
        "id": "9UJY_081Nzhv"
      },
      "execution_count": null,
      "outputs": []
    },
    {
      "cell_type": "markdown",
      "source": [
        "## model evaluation"
      ],
      "metadata": {
        "id": "SW9rgkuHN0Cp"
      }
    },
    {
      "cell_type": "code",
      "source": [],
      "metadata": {
        "id": "Xwecs5M3N1Ug"
      },
      "execution_count": null,
      "outputs": []
    }
  ]
}