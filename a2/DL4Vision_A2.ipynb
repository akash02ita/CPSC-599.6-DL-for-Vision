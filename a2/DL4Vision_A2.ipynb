{
  "nbformat": 4,
  "nbformat_minor": 0,
  "metadata": {
    "colab": {
      "provenance": [],
      "include_colab_link": true
    },
    "kernelspec": {
      "name": "python3",
      "display_name": "Python 3"
    },
    "language_info": {
      "name": "python"
    },
    "accelerator": "GPU",
    "gpuClass": "standard",
    "widgets": {
      "application/vnd.jupyter.widget-state+json": {
        "4e12bf98c7864cfda9cd1f6c374d5cdb": {
          "model_module": "@jupyter-widgets/controls",
          "model_name": "HBoxModel",
          "model_module_version": "1.5.0",
          "state": {
            "_dom_classes": [],
            "_model_module": "@jupyter-widgets/controls",
            "_model_module_version": "1.5.0",
            "_model_name": "HBoxModel",
            "_view_count": null,
            "_view_module": "@jupyter-widgets/controls",
            "_view_module_version": "1.5.0",
            "_view_name": "HBoxView",
            "box_style": "",
            "children": [
              "IPY_MODEL_164fb136c8304c4e84f6fc828b061e48",
              "IPY_MODEL_043685f444c647298f6f53295af82e5a",
              "IPY_MODEL_a3336e39bcff4d4380d3e4cf0f142b76"
            ],
            "layout": "IPY_MODEL_a7109e6344064b6dae7814b6bc4cd83c"
          }
        },
        "164fb136c8304c4e84f6fc828b061e48": {
          "model_module": "@jupyter-widgets/controls",
          "model_name": "HTMLModel",
          "model_module_version": "1.5.0",
          "state": {
            "_dom_classes": [],
            "_model_module": "@jupyter-widgets/controls",
            "_model_module_version": "1.5.0",
            "_model_name": "HTMLModel",
            "_view_count": null,
            "_view_module": "@jupyter-widgets/controls",
            "_view_module_version": "1.5.0",
            "_view_name": "HTMLView",
            "description": "",
            "description_tooltip": null,
            "layout": "IPY_MODEL_e6415a82b6bf424ca45092ccb57648e5",
            "placeholder": "​",
            "style": "IPY_MODEL_4a88c5b0fd7241cbb14b024f325b4820",
            "value": "100%"
          }
        },
        "043685f444c647298f6f53295af82e5a": {
          "model_module": "@jupyter-widgets/controls",
          "model_name": "FloatProgressModel",
          "model_module_version": "1.5.0",
          "state": {
            "_dom_classes": [],
            "_model_module": "@jupyter-widgets/controls",
            "_model_module_version": "1.5.0",
            "_model_name": "FloatProgressModel",
            "_view_count": null,
            "_view_module": "@jupyter-widgets/controls",
            "_view_module_version": "1.5.0",
            "_view_name": "ProgressView",
            "bar_style": "success",
            "description": "",
            "description_tooltip": null,
            "layout": "IPY_MODEL_49ee13119505404ead3e748a39c61042",
            "max": 9912422,
            "min": 0,
            "orientation": "horizontal",
            "style": "IPY_MODEL_f8b425b42ba94ae3959fb2fd7bfa7ec1",
            "value": 9912422
          }
        },
        "a3336e39bcff4d4380d3e4cf0f142b76": {
          "model_module": "@jupyter-widgets/controls",
          "model_name": "HTMLModel",
          "model_module_version": "1.5.0",
          "state": {
            "_dom_classes": [],
            "_model_module": "@jupyter-widgets/controls",
            "_model_module_version": "1.5.0",
            "_model_name": "HTMLModel",
            "_view_count": null,
            "_view_module": "@jupyter-widgets/controls",
            "_view_module_version": "1.5.0",
            "_view_name": "HTMLView",
            "description": "",
            "description_tooltip": null,
            "layout": "IPY_MODEL_bf90def43c644ad3b1984cfed4ad447a",
            "placeholder": "​",
            "style": "IPY_MODEL_09e2aac24602470eba28219d78199a56",
            "value": " 9912422/9912422 [00:00&lt;00:00, 39629948.34it/s]"
          }
        },
        "a7109e6344064b6dae7814b6bc4cd83c": {
          "model_module": "@jupyter-widgets/base",
          "model_name": "LayoutModel",
          "model_module_version": "1.2.0",
          "state": {
            "_model_module": "@jupyter-widgets/base",
            "_model_module_version": "1.2.0",
            "_model_name": "LayoutModel",
            "_view_count": null,
            "_view_module": "@jupyter-widgets/base",
            "_view_module_version": "1.2.0",
            "_view_name": "LayoutView",
            "align_content": null,
            "align_items": null,
            "align_self": null,
            "border": null,
            "bottom": null,
            "display": null,
            "flex": null,
            "flex_flow": null,
            "grid_area": null,
            "grid_auto_columns": null,
            "grid_auto_flow": null,
            "grid_auto_rows": null,
            "grid_column": null,
            "grid_gap": null,
            "grid_row": null,
            "grid_template_areas": null,
            "grid_template_columns": null,
            "grid_template_rows": null,
            "height": null,
            "justify_content": null,
            "justify_items": null,
            "left": null,
            "margin": null,
            "max_height": null,
            "max_width": null,
            "min_height": null,
            "min_width": null,
            "object_fit": null,
            "object_position": null,
            "order": null,
            "overflow": null,
            "overflow_x": null,
            "overflow_y": null,
            "padding": null,
            "right": null,
            "top": null,
            "visibility": null,
            "width": null
          }
        },
        "e6415a82b6bf424ca45092ccb57648e5": {
          "model_module": "@jupyter-widgets/base",
          "model_name": "LayoutModel",
          "model_module_version": "1.2.0",
          "state": {
            "_model_module": "@jupyter-widgets/base",
            "_model_module_version": "1.2.0",
            "_model_name": "LayoutModel",
            "_view_count": null,
            "_view_module": "@jupyter-widgets/base",
            "_view_module_version": "1.2.0",
            "_view_name": "LayoutView",
            "align_content": null,
            "align_items": null,
            "align_self": null,
            "border": null,
            "bottom": null,
            "display": null,
            "flex": null,
            "flex_flow": null,
            "grid_area": null,
            "grid_auto_columns": null,
            "grid_auto_flow": null,
            "grid_auto_rows": null,
            "grid_column": null,
            "grid_gap": null,
            "grid_row": null,
            "grid_template_areas": null,
            "grid_template_columns": null,
            "grid_template_rows": null,
            "height": null,
            "justify_content": null,
            "justify_items": null,
            "left": null,
            "margin": null,
            "max_height": null,
            "max_width": null,
            "min_height": null,
            "min_width": null,
            "object_fit": null,
            "object_position": null,
            "order": null,
            "overflow": null,
            "overflow_x": null,
            "overflow_y": null,
            "padding": null,
            "right": null,
            "top": null,
            "visibility": null,
            "width": null
          }
        },
        "4a88c5b0fd7241cbb14b024f325b4820": {
          "model_module": "@jupyter-widgets/controls",
          "model_name": "DescriptionStyleModel",
          "model_module_version": "1.5.0",
          "state": {
            "_model_module": "@jupyter-widgets/controls",
            "_model_module_version": "1.5.0",
            "_model_name": "DescriptionStyleModel",
            "_view_count": null,
            "_view_module": "@jupyter-widgets/base",
            "_view_module_version": "1.2.0",
            "_view_name": "StyleView",
            "description_width": ""
          }
        },
        "49ee13119505404ead3e748a39c61042": {
          "model_module": "@jupyter-widgets/base",
          "model_name": "LayoutModel",
          "model_module_version": "1.2.0",
          "state": {
            "_model_module": "@jupyter-widgets/base",
            "_model_module_version": "1.2.0",
            "_model_name": "LayoutModel",
            "_view_count": null,
            "_view_module": "@jupyter-widgets/base",
            "_view_module_version": "1.2.0",
            "_view_name": "LayoutView",
            "align_content": null,
            "align_items": null,
            "align_self": null,
            "border": null,
            "bottom": null,
            "display": null,
            "flex": null,
            "flex_flow": null,
            "grid_area": null,
            "grid_auto_columns": null,
            "grid_auto_flow": null,
            "grid_auto_rows": null,
            "grid_column": null,
            "grid_gap": null,
            "grid_row": null,
            "grid_template_areas": null,
            "grid_template_columns": null,
            "grid_template_rows": null,
            "height": null,
            "justify_content": null,
            "justify_items": null,
            "left": null,
            "margin": null,
            "max_height": null,
            "max_width": null,
            "min_height": null,
            "min_width": null,
            "object_fit": null,
            "object_position": null,
            "order": null,
            "overflow": null,
            "overflow_x": null,
            "overflow_y": null,
            "padding": null,
            "right": null,
            "top": null,
            "visibility": null,
            "width": null
          }
        },
        "f8b425b42ba94ae3959fb2fd7bfa7ec1": {
          "model_module": "@jupyter-widgets/controls",
          "model_name": "ProgressStyleModel",
          "model_module_version": "1.5.0",
          "state": {
            "_model_module": "@jupyter-widgets/controls",
            "_model_module_version": "1.5.0",
            "_model_name": "ProgressStyleModel",
            "_view_count": null,
            "_view_module": "@jupyter-widgets/base",
            "_view_module_version": "1.2.0",
            "_view_name": "StyleView",
            "bar_color": null,
            "description_width": ""
          }
        },
        "bf90def43c644ad3b1984cfed4ad447a": {
          "model_module": "@jupyter-widgets/base",
          "model_name": "LayoutModel",
          "model_module_version": "1.2.0",
          "state": {
            "_model_module": "@jupyter-widgets/base",
            "_model_module_version": "1.2.0",
            "_model_name": "LayoutModel",
            "_view_count": null,
            "_view_module": "@jupyter-widgets/base",
            "_view_module_version": "1.2.0",
            "_view_name": "LayoutView",
            "align_content": null,
            "align_items": null,
            "align_self": null,
            "border": null,
            "bottom": null,
            "display": null,
            "flex": null,
            "flex_flow": null,
            "grid_area": null,
            "grid_auto_columns": null,
            "grid_auto_flow": null,
            "grid_auto_rows": null,
            "grid_column": null,
            "grid_gap": null,
            "grid_row": null,
            "grid_template_areas": null,
            "grid_template_columns": null,
            "grid_template_rows": null,
            "height": null,
            "justify_content": null,
            "justify_items": null,
            "left": null,
            "margin": null,
            "max_height": null,
            "max_width": null,
            "min_height": null,
            "min_width": null,
            "object_fit": null,
            "object_position": null,
            "order": null,
            "overflow": null,
            "overflow_x": null,
            "overflow_y": null,
            "padding": null,
            "right": null,
            "top": null,
            "visibility": null,
            "width": null
          }
        },
        "09e2aac24602470eba28219d78199a56": {
          "model_module": "@jupyter-widgets/controls",
          "model_name": "DescriptionStyleModel",
          "model_module_version": "1.5.0",
          "state": {
            "_model_module": "@jupyter-widgets/controls",
            "_model_module_version": "1.5.0",
            "_model_name": "DescriptionStyleModel",
            "_view_count": null,
            "_view_module": "@jupyter-widgets/base",
            "_view_module_version": "1.2.0",
            "_view_name": "StyleView",
            "description_width": ""
          }
        },
        "14d3b6bbc9914994969846e6d32b0fae": {
          "model_module": "@jupyter-widgets/controls",
          "model_name": "HBoxModel",
          "model_module_version": "1.5.0",
          "state": {
            "_dom_classes": [],
            "_model_module": "@jupyter-widgets/controls",
            "_model_module_version": "1.5.0",
            "_model_name": "HBoxModel",
            "_view_count": null,
            "_view_module": "@jupyter-widgets/controls",
            "_view_module_version": "1.5.0",
            "_view_name": "HBoxView",
            "box_style": "",
            "children": [
              "IPY_MODEL_0950a35f384846399a00cc8e577cf866",
              "IPY_MODEL_8364ff78179645faae6f1fafd8d4b31b",
              "IPY_MODEL_9eca4358fe6843e2bc8bfaa7ff28a169"
            ],
            "layout": "IPY_MODEL_51a655be271f48cbb0a22c5a604ccf18"
          }
        },
        "0950a35f384846399a00cc8e577cf866": {
          "model_module": "@jupyter-widgets/controls",
          "model_name": "HTMLModel",
          "model_module_version": "1.5.0",
          "state": {
            "_dom_classes": [],
            "_model_module": "@jupyter-widgets/controls",
            "_model_module_version": "1.5.0",
            "_model_name": "HTMLModel",
            "_view_count": null,
            "_view_module": "@jupyter-widgets/controls",
            "_view_module_version": "1.5.0",
            "_view_name": "HTMLView",
            "description": "",
            "description_tooltip": null,
            "layout": "IPY_MODEL_e5328d12eb5e47619efaf53db693e010",
            "placeholder": "​",
            "style": "IPY_MODEL_c418f66c2683474995925ead20877f0d",
            "value": "100%"
          }
        },
        "8364ff78179645faae6f1fafd8d4b31b": {
          "model_module": "@jupyter-widgets/controls",
          "model_name": "FloatProgressModel",
          "model_module_version": "1.5.0",
          "state": {
            "_dom_classes": [],
            "_model_module": "@jupyter-widgets/controls",
            "_model_module_version": "1.5.0",
            "_model_name": "FloatProgressModel",
            "_view_count": null,
            "_view_module": "@jupyter-widgets/controls",
            "_view_module_version": "1.5.0",
            "_view_name": "ProgressView",
            "bar_style": "success",
            "description": "",
            "description_tooltip": null,
            "layout": "IPY_MODEL_5e3a95ccdf084d32908195a043c7c54f",
            "max": 28881,
            "min": 0,
            "orientation": "horizontal",
            "style": "IPY_MODEL_1835a7ebc0564509a08ba4a9c0936142",
            "value": 28881
          }
        },
        "9eca4358fe6843e2bc8bfaa7ff28a169": {
          "model_module": "@jupyter-widgets/controls",
          "model_name": "HTMLModel",
          "model_module_version": "1.5.0",
          "state": {
            "_dom_classes": [],
            "_model_module": "@jupyter-widgets/controls",
            "_model_module_version": "1.5.0",
            "_model_name": "HTMLModel",
            "_view_count": null,
            "_view_module": "@jupyter-widgets/controls",
            "_view_module_version": "1.5.0",
            "_view_name": "HTMLView",
            "description": "",
            "description_tooltip": null,
            "layout": "IPY_MODEL_83985b7d7d2444259c1bdd10267c7a7b",
            "placeholder": "​",
            "style": "IPY_MODEL_0a07b0763d35451696c4a3a628e661d4",
            "value": " 28881/28881 [00:00&lt;00:00, 1442950.49it/s]"
          }
        },
        "51a655be271f48cbb0a22c5a604ccf18": {
          "model_module": "@jupyter-widgets/base",
          "model_name": "LayoutModel",
          "model_module_version": "1.2.0",
          "state": {
            "_model_module": "@jupyter-widgets/base",
            "_model_module_version": "1.2.0",
            "_model_name": "LayoutModel",
            "_view_count": null,
            "_view_module": "@jupyter-widgets/base",
            "_view_module_version": "1.2.0",
            "_view_name": "LayoutView",
            "align_content": null,
            "align_items": null,
            "align_self": null,
            "border": null,
            "bottom": null,
            "display": null,
            "flex": null,
            "flex_flow": null,
            "grid_area": null,
            "grid_auto_columns": null,
            "grid_auto_flow": null,
            "grid_auto_rows": null,
            "grid_column": null,
            "grid_gap": null,
            "grid_row": null,
            "grid_template_areas": null,
            "grid_template_columns": null,
            "grid_template_rows": null,
            "height": null,
            "justify_content": null,
            "justify_items": null,
            "left": null,
            "margin": null,
            "max_height": null,
            "max_width": null,
            "min_height": null,
            "min_width": null,
            "object_fit": null,
            "object_position": null,
            "order": null,
            "overflow": null,
            "overflow_x": null,
            "overflow_y": null,
            "padding": null,
            "right": null,
            "top": null,
            "visibility": null,
            "width": null
          }
        },
        "e5328d12eb5e47619efaf53db693e010": {
          "model_module": "@jupyter-widgets/base",
          "model_name": "LayoutModel",
          "model_module_version": "1.2.0",
          "state": {
            "_model_module": "@jupyter-widgets/base",
            "_model_module_version": "1.2.0",
            "_model_name": "LayoutModel",
            "_view_count": null,
            "_view_module": "@jupyter-widgets/base",
            "_view_module_version": "1.2.0",
            "_view_name": "LayoutView",
            "align_content": null,
            "align_items": null,
            "align_self": null,
            "border": null,
            "bottom": null,
            "display": null,
            "flex": null,
            "flex_flow": null,
            "grid_area": null,
            "grid_auto_columns": null,
            "grid_auto_flow": null,
            "grid_auto_rows": null,
            "grid_column": null,
            "grid_gap": null,
            "grid_row": null,
            "grid_template_areas": null,
            "grid_template_columns": null,
            "grid_template_rows": null,
            "height": null,
            "justify_content": null,
            "justify_items": null,
            "left": null,
            "margin": null,
            "max_height": null,
            "max_width": null,
            "min_height": null,
            "min_width": null,
            "object_fit": null,
            "object_position": null,
            "order": null,
            "overflow": null,
            "overflow_x": null,
            "overflow_y": null,
            "padding": null,
            "right": null,
            "top": null,
            "visibility": null,
            "width": null
          }
        },
        "c418f66c2683474995925ead20877f0d": {
          "model_module": "@jupyter-widgets/controls",
          "model_name": "DescriptionStyleModel",
          "model_module_version": "1.5.0",
          "state": {
            "_model_module": "@jupyter-widgets/controls",
            "_model_module_version": "1.5.0",
            "_model_name": "DescriptionStyleModel",
            "_view_count": null,
            "_view_module": "@jupyter-widgets/base",
            "_view_module_version": "1.2.0",
            "_view_name": "StyleView",
            "description_width": ""
          }
        },
        "5e3a95ccdf084d32908195a043c7c54f": {
          "model_module": "@jupyter-widgets/base",
          "model_name": "LayoutModel",
          "model_module_version": "1.2.0",
          "state": {
            "_model_module": "@jupyter-widgets/base",
            "_model_module_version": "1.2.0",
            "_model_name": "LayoutModel",
            "_view_count": null,
            "_view_module": "@jupyter-widgets/base",
            "_view_module_version": "1.2.0",
            "_view_name": "LayoutView",
            "align_content": null,
            "align_items": null,
            "align_self": null,
            "border": null,
            "bottom": null,
            "display": null,
            "flex": null,
            "flex_flow": null,
            "grid_area": null,
            "grid_auto_columns": null,
            "grid_auto_flow": null,
            "grid_auto_rows": null,
            "grid_column": null,
            "grid_gap": null,
            "grid_row": null,
            "grid_template_areas": null,
            "grid_template_columns": null,
            "grid_template_rows": null,
            "height": null,
            "justify_content": null,
            "justify_items": null,
            "left": null,
            "margin": null,
            "max_height": null,
            "max_width": null,
            "min_height": null,
            "min_width": null,
            "object_fit": null,
            "object_position": null,
            "order": null,
            "overflow": null,
            "overflow_x": null,
            "overflow_y": null,
            "padding": null,
            "right": null,
            "top": null,
            "visibility": null,
            "width": null
          }
        },
        "1835a7ebc0564509a08ba4a9c0936142": {
          "model_module": "@jupyter-widgets/controls",
          "model_name": "ProgressStyleModel",
          "model_module_version": "1.5.0",
          "state": {
            "_model_module": "@jupyter-widgets/controls",
            "_model_module_version": "1.5.0",
            "_model_name": "ProgressStyleModel",
            "_view_count": null,
            "_view_module": "@jupyter-widgets/base",
            "_view_module_version": "1.2.0",
            "_view_name": "StyleView",
            "bar_color": null,
            "description_width": ""
          }
        },
        "83985b7d7d2444259c1bdd10267c7a7b": {
          "model_module": "@jupyter-widgets/base",
          "model_name": "LayoutModel",
          "model_module_version": "1.2.0",
          "state": {
            "_model_module": "@jupyter-widgets/base",
            "_model_module_version": "1.2.0",
            "_model_name": "LayoutModel",
            "_view_count": null,
            "_view_module": "@jupyter-widgets/base",
            "_view_module_version": "1.2.0",
            "_view_name": "LayoutView",
            "align_content": null,
            "align_items": null,
            "align_self": null,
            "border": null,
            "bottom": null,
            "display": null,
            "flex": null,
            "flex_flow": null,
            "grid_area": null,
            "grid_auto_columns": null,
            "grid_auto_flow": null,
            "grid_auto_rows": null,
            "grid_column": null,
            "grid_gap": null,
            "grid_row": null,
            "grid_template_areas": null,
            "grid_template_columns": null,
            "grid_template_rows": null,
            "height": null,
            "justify_content": null,
            "justify_items": null,
            "left": null,
            "margin": null,
            "max_height": null,
            "max_width": null,
            "min_height": null,
            "min_width": null,
            "object_fit": null,
            "object_position": null,
            "order": null,
            "overflow": null,
            "overflow_x": null,
            "overflow_y": null,
            "padding": null,
            "right": null,
            "top": null,
            "visibility": null,
            "width": null
          }
        },
        "0a07b0763d35451696c4a3a628e661d4": {
          "model_module": "@jupyter-widgets/controls",
          "model_name": "DescriptionStyleModel",
          "model_module_version": "1.5.0",
          "state": {
            "_model_module": "@jupyter-widgets/controls",
            "_model_module_version": "1.5.0",
            "_model_name": "DescriptionStyleModel",
            "_view_count": null,
            "_view_module": "@jupyter-widgets/base",
            "_view_module_version": "1.2.0",
            "_view_name": "StyleView",
            "description_width": ""
          }
        },
        "39c18ef560024dab99204f90445c64b2": {
          "model_module": "@jupyter-widgets/controls",
          "model_name": "HBoxModel",
          "model_module_version": "1.5.0",
          "state": {
            "_dom_classes": [],
            "_model_module": "@jupyter-widgets/controls",
            "_model_module_version": "1.5.0",
            "_model_name": "HBoxModel",
            "_view_count": null,
            "_view_module": "@jupyter-widgets/controls",
            "_view_module_version": "1.5.0",
            "_view_name": "HBoxView",
            "box_style": "",
            "children": [
              "IPY_MODEL_b82a09db8bfe4d85a60d97ed88ec8e72",
              "IPY_MODEL_40fdf6b407cd4fd384c2cdd47725d710",
              "IPY_MODEL_0cac4a67b8b04815962a84cad816e301"
            ],
            "layout": "IPY_MODEL_c8abbf22e85f4d8189643a4d8ab7bcdd"
          }
        },
        "b82a09db8bfe4d85a60d97ed88ec8e72": {
          "model_module": "@jupyter-widgets/controls",
          "model_name": "HTMLModel",
          "model_module_version": "1.5.0",
          "state": {
            "_dom_classes": [],
            "_model_module": "@jupyter-widgets/controls",
            "_model_module_version": "1.5.0",
            "_model_name": "HTMLModel",
            "_view_count": null,
            "_view_module": "@jupyter-widgets/controls",
            "_view_module_version": "1.5.0",
            "_view_name": "HTMLView",
            "description": "",
            "description_tooltip": null,
            "layout": "IPY_MODEL_80835c9b1e4b4f17b94e8a89d07e653e",
            "placeholder": "​",
            "style": "IPY_MODEL_d1262c8e92254906923550c686bda033",
            "value": "100%"
          }
        },
        "40fdf6b407cd4fd384c2cdd47725d710": {
          "model_module": "@jupyter-widgets/controls",
          "model_name": "FloatProgressModel",
          "model_module_version": "1.5.0",
          "state": {
            "_dom_classes": [],
            "_model_module": "@jupyter-widgets/controls",
            "_model_module_version": "1.5.0",
            "_model_name": "FloatProgressModel",
            "_view_count": null,
            "_view_module": "@jupyter-widgets/controls",
            "_view_module_version": "1.5.0",
            "_view_name": "ProgressView",
            "bar_style": "success",
            "description": "",
            "description_tooltip": null,
            "layout": "IPY_MODEL_a41677d46cbd4cdabe92be9e9b4f6e2f",
            "max": 1648877,
            "min": 0,
            "orientation": "horizontal",
            "style": "IPY_MODEL_92eef62cab6b4f33b4fc1a0fcb078a11",
            "value": 1648877
          }
        },
        "0cac4a67b8b04815962a84cad816e301": {
          "model_module": "@jupyter-widgets/controls",
          "model_name": "HTMLModel",
          "model_module_version": "1.5.0",
          "state": {
            "_dom_classes": [],
            "_model_module": "@jupyter-widgets/controls",
            "_model_module_version": "1.5.0",
            "_model_name": "HTMLModel",
            "_view_count": null,
            "_view_module": "@jupyter-widgets/controls",
            "_view_module_version": "1.5.0",
            "_view_name": "HTMLView",
            "description": "",
            "description_tooltip": null,
            "layout": "IPY_MODEL_02299193e27b47fd90245c75b7f0ef6d",
            "placeholder": "​",
            "style": "IPY_MODEL_55dd6578b8d249efba8e0ff925b6b9ed",
            "value": " 1648877/1648877 [00:00&lt;00:00, 20752737.86it/s]"
          }
        },
        "c8abbf22e85f4d8189643a4d8ab7bcdd": {
          "model_module": "@jupyter-widgets/base",
          "model_name": "LayoutModel",
          "model_module_version": "1.2.0",
          "state": {
            "_model_module": "@jupyter-widgets/base",
            "_model_module_version": "1.2.0",
            "_model_name": "LayoutModel",
            "_view_count": null,
            "_view_module": "@jupyter-widgets/base",
            "_view_module_version": "1.2.0",
            "_view_name": "LayoutView",
            "align_content": null,
            "align_items": null,
            "align_self": null,
            "border": null,
            "bottom": null,
            "display": null,
            "flex": null,
            "flex_flow": null,
            "grid_area": null,
            "grid_auto_columns": null,
            "grid_auto_flow": null,
            "grid_auto_rows": null,
            "grid_column": null,
            "grid_gap": null,
            "grid_row": null,
            "grid_template_areas": null,
            "grid_template_columns": null,
            "grid_template_rows": null,
            "height": null,
            "justify_content": null,
            "justify_items": null,
            "left": null,
            "margin": null,
            "max_height": null,
            "max_width": null,
            "min_height": null,
            "min_width": null,
            "object_fit": null,
            "object_position": null,
            "order": null,
            "overflow": null,
            "overflow_x": null,
            "overflow_y": null,
            "padding": null,
            "right": null,
            "top": null,
            "visibility": null,
            "width": null
          }
        },
        "80835c9b1e4b4f17b94e8a89d07e653e": {
          "model_module": "@jupyter-widgets/base",
          "model_name": "LayoutModel",
          "model_module_version": "1.2.0",
          "state": {
            "_model_module": "@jupyter-widgets/base",
            "_model_module_version": "1.2.0",
            "_model_name": "LayoutModel",
            "_view_count": null,
            "_view_module": "@jupyter-widgets/base",
            "_view_module_version": "1.2.0",
            "_view_name": "LayoutView",
            "align_content": null,
            "align_items": null,
            "align_self": null,
            "border": null,
            "bottom": null,
            "display": null,
            "flex": null,
            "flex_flow": null,
            "grid_area": null,
            "grid_auto_columns": null,
            "grid_auto_flow": null,
            "grid_auto_rows": null,
            "grid_column": null,
            "grid_gap": null,
            "grid_row": null,
            "grid_template_areas": null,
            "grid_template_columns": null,
            "grid_template_rows": null,
            "height": null,
            "justify_content": null,
            "justify_items": null,
            "left": null,
            "margin": null,
            "max_height": null,
            "max_width": null,
            "min_height": null,
            "min_width": null,
            "object_fit": null,
            "object_position": null,
            "order": null,
            "overflow": null,
            "overflow_x": null,
            "overflow_y": null,
            "padding": null,
            "right": null,
            "top": null,
            "visibility": null,
            "width": null
          }
        },
        "d1262c8e92254906923550c686bda033": {
          "model_module": "@jupyter-widgets/controls",
          "model_name": "DescriptionStyleModel",
          "model_module_version": "1.5.0",
          "state": {
            "_model_module": "@jupyter-widgets/controls",
            "_model_module_version": "1.5.0",
            "_model_name": "DescriptionStyleModel",
            "_view_count": null,
            "_view_module": "@jupyter-widgets/base",
            "_view_module_version": "1.2.0",
            "_view_name": "StyleView",
            "description_width": ""
          }
        },
        "a41677d46cbd4cdabe92be9e9b4f6e2f": {
          "model_module": "@jupyter-widgets/base",
          "model_name": "LayoutModel",
          "model_module_version": "1.2.0",
          "state": {
            "_model_module": "@jupyter-widgets/base",
            "_model_module_version": "1.2.0",
            "_model_name": "LayoutModel",
            "_view_count": null,
            "_view_module": "@jupyter-widgets/base",
            "_view_module_version": "1.2.0",
            "_view_name": "LayoutView",
            "align_content": null,
            "align_items": null,
            "align_self": null,
            "border": null,
            "bottom": null,
            "display": null,
            "flex": null,
            "flex_flow": null,
            "grid_area": null,
            "grid_auto_columns": null,
            "grid_auto_flow": null,
            "grid_auto_rows": null,
            "grid_column": null,
            "grid_gap": null,
            "grid_row": null,
            "grid_template_areas": null,
            "grid_template_columns": null,
            "grid_template_rows": null,
            "height": null,
            "justify_content": null,
            "justify_items": null,
            "left": null,
            "margin": null,
            "max_height": null,
            "max_width": null,
            "min_height": null,
            "min_width": null,
            "object_fit": null,
            "object_position": null,
            "order": null,
            "overflow": null,
            "overflow_x": null,
            "overflow_y": null,
            "padding": null,
            "right": null,
            "top": null,
            "visibility": null,
            "width": null
          }
        },
        "92eef62cab6b4f33b4fc1a0fcb078a11": {
          "model_module": "@jupyter-widgets/controls",
          "model_name": "ProgressStyleModel",
          "model_module_version": "1.5.0",
          "state": {
            "_model_module": "@jupyter-widgets/controls",
            "_model_module_version": "1.5.0",
            "_model_name": "ProgressStyleModel",
            "_view_count": null,
            "_view_module": "@jupyter-widgets/base",
            "_view_module_version": "1.2.0",
            "_view_name": "StyleView",
            "bar_color": null,
            "description_width": ""
          }
        },
        "02299193e27b47fd90245c75b7f0ef6d": {
          "model_module": "@jupyter-widgets/base",
          "model_name": "LayoutModel",
          "model_module_version": "1.2.0",
          "state": {
            "_model_module": "@jupyter-widgets/base",
            "_model_module_version": "1.2.0",
            "_model_name": "LayoutModel",
            "_view_count": null,
            "_view_module": "@jupyter-widgets/base",
            "_view_module_version": "1.2.0",
            "_view_name": "LayoutView",
            "align_content": null,
            "align_items": null,
            "align_self": null,
            "border": null,
            "bottom": null,
            "display": null,
            "flex": null,
            "flex_flow": null,
            "grid_area": null,
            "grid_auto_columns": null,
            "grid_auto_flow": null,
            "grid_auto_rows": null,
            "grid_column": null,
            "grid_gap": null,
            "grid_row": null,
            "grid_template_areas": null,
            "grid_template_columns": null,
            "grid_template_rows": null,
            "height": null,
            "justify_content": null,
            "justify_items": null,
            "left": null,
            "margin": null,
            "max_height": null,
            "max_width": null,
            "min_height": null,
            "min_width": null,
            "object_fit": null,
            "object_position": null,
            "order": null,
            "overflow": null,
            "overflow_x": null,
            "overflow_y": null,
            "padding": null,
            "right": null,
            "top": null,
            "visibility": null,
            "width": null
          }
        },
        "55dd6578b8d249efba8e0ff925b6b9ed": {
          "model_module": "@jupyter-widgets/controls",
          "model_name": "DescriptionStyleModel",
          "model_module_version": "1.5.0",
          "state": {
            "_model_module": "@jupyter-widgets/controls",
            "_model_module_version": "1.5.0",
            "_model_name": "DescriptionStyleModel",
            "_view_count": null,
            "_view_module": "@jupyter-widgets/base",
            "_view_module_version": "1.2.0",
            "_view_name": "StyleView",
            "description_width": ""
          }
        },
        "740a61dff22a48cc8a67c0eee8a2aa95": {
          "model_module": "@jupyter-widgets/controls",
          "model_name": "HBoxModel",
          "model_module_version": "1.5.0",
          "state": {
            "_dom_classes": [],
            "_model_module": "@jupyter-widgets/controls",
            "_model_module_version": "1.5.0",
            "_model_name": "HBoxModel",
            "_view_count": null,
            "_view_module": "@jupyter-widgets/controls",
            "_view_module_version": "1.5.0",
            "_view_name": "HBoxView",
            "box_style": "",
            "children": [
              "IPY_MODEL_03d4ae52203941b1a1d22a95d856d03a",
              "IPY_MODEL_5f440a102c5e4e57b51a2b400673ae38",
              "IPY_MODEL_3bc3ce0b40b542f1bf3c570e330981f6"
            ],
            "layout": "IPY_MODEL_fd94b1bc1c644265a3c5d805784a7db1"
          }
        },
        "03d4ae52203941b1a1d22a95d856d03a": {
          "model_module": "@jupyter-widgets/controls",
          "model_name": "HTMLModel",
          "model_module_version": "1.5.0",
          "state": {
            "_dom_classes": [],
            "_model_module": "@jupyter-widgets/controls",
            "_model_module_version": "1.5.0",
            "_model_name": "HTMLModel",
            "_view_count": null,
            "_view_module": "@jupyter-widgets/controls",
            "_view_module_version": "1.5.0",
            "_view_name": "HTMLView",
            "description": "",
            "description_tooltip": null,
            "layout": "IPY_MODEL_371446fbb5d54b599a7887242365b9be",
            "placeholder": "​",
            "style": "IPY_MODEL_a9eed0ce87754ac8a9a7cdb43ca15dac",
            "value": "100%"
          }
        },
        "5f440a102c5e4e57b51a2b400673ae38": {
          "model_module": "@jupyter-widgets/controls",
          "model_name": "FloatProgressModel",
          "model_module_version": "1.5.0",
          "state": {
            "_dom_classes": [],
            "_model_module": "@jupyter-widgets/controls",
            "_model_module_version": "1.5.0",
            "_model_name": "FloatProgressModel",
            "_view_count": null,
            "_view_module": "@jupyter-widgets/controls",
            "_view_module_version": "1.5.0",
            "_view_name": "ProgressView",
            "bar_style": "success",
            "description": "",
            "description_tooltip": null,
            "layout": "IPY_MODEL_b615470be6e94236a74ef5a602e5fb51",
            "max": 4542,
            "min": 0,
            "orientation": "horizontal",
            "style": "IPY_MODEL_1e7f21291bb44f22928d534e500c1097",
            "value": 4542
          }
        },
        "3bc3ce0b40b542f1bf3c570e330981f6": {
          "model_module": "@jupyter-widgets/controls",
          "model_name": "HTMLModel",
          "model_module_version": "1.5.0",
          "state": {
            "_dom_classes": [],
            "_model_module": "@jupyter-widgets/controls",
            "_model_module_version": "1.5.0",
            "_model_name": "HTMLModel",
            "_view_count": null,
            "_view_module": "@jupyter-widgets/controls",
            "_view_module_version": "1.5.0",
            "_view_name": "HTMLView",
            "description": "",
            "description_tooltip": null,
            "layout": "IPY_MODEL_363b8237f41942d7baaa50df9649d646",
            "placeholder": "​",
            "style": "IPY_MODEL_fb490bf9cf7546a389a7d6a3e779e477",
            "value": " 4542/4542 [00:00&lt;00:00, 117741.94it/s]"
          }
        },
        "fd94b1bc1c644265a3c5d805784a7db1": {
          "model_module": "@jupyter-widgets/base",
          "model_name": "LayoutModel",
          "model_module_version": "1.2.0",
          "state": {
            "_model_module": "@jupyter-widgets/base",
            "_model_module_version": "1.2.0",
            "_model_name": "LayoutModel",
            "_view_count": null,
            "_view_module": "@jupyter-widgets/base",
            "_view_module_version": "1.2.0",
            "_view_name": "LayoutView",
            "align_content": null,
            "align_items": null,
            "align_self": null,
            "border": null,
            "bottom": null,
            "display": null,
            "flex": null,
            "flex_flow": null,
            "grid_area": null,
            "grid_auto_columns": null,
            "grid_auto_flow": null,
            "grid_auto_rows": null,
            "grid_column": null,
            "grid_gap": null,
            "grid_row": null,
            "grid_template_areas": null,
            "grid_template_columns": null,
            "grid_template_rows": null,
            "height": null,
            "justify_content": null,
            "justify_items": null,
            "left": null,
            "margin": null,
            "max_height": null,
            "max_width": null,
            "min_height": null,
            "min_width": null,
            "object_fit": null,
            "object_position": null,
            "order": null,
            "overflow": null,
            "overflow_x": null,
            "overflow_y": null,
            "padding": null,
            "right": null,
            "top": null,
            "visibility": null,
            "width": null
          }
        },
        "371446fbb5d54b599a7887242365b9be": {
          "model_module": "@jupyter-widgets/base",
          "model_name": "LayoutModel",
          "model_module_version": "1.2.0",
          "state": {
            "_model_module": "@jupyter-widgets/base",
            "_model_module_version": "1.2.0",
            "_model_name": "LayoutModel",
            "_view_count": null,
            "_view_module": "@jupyter-widgets/base",
            "_view_module_version": "1.2.0",
            "_view_name": "LayoutView",
            "align_content": null,
            "align_items": null,
            "align_self": null,
            "border": null,
            "bottom": null,
            "display": null,
            "flex": null,
            "flex_flow": null,
            "grid_area": null,
            "grid_auto_columns": null,
            "grid_auto_flow": null,
            "grid_auto_rows": null,
            "grid_column": null,
            "grid_gap": null,
            "grid_row": null,
            "grid_template_areas": null,
            "grid_template_columns": null,
            "grid_template_rows": null,
            "height": null,
            "justify_content": null,
            "justify_items": null,
            "left": null,
            "margin": null,
            "max_height": null,
            "max_width": null,
            "min_height": null,
            "min_width": null,
            "object_fit": null,
            "object_position": null,
            "order": null,
            "overflow": null,
            "overflow_x": null,
            "overflow_y": null,
            "padding": null,
            "right": null,
            "top": null,
            "visibility": null,
            "width": null
          }
        },
        "a9eed0ce87754ac8a9a7cdb43ca15dac": {
          "model_module": "@jupyter-widgets/controls",
          "model_name": "DescriptionStyleModel",
          "model_module_version": "1.5.0",
          "state": {
            "_model_module": "@jupyter-widgets/controls",
            "_model_module_version": "1.5.0",
            "_model_name": "DescriptionStyleModel",
            "_view_count": null,
            "_view_module": "@jupyter-widgets/base",
            "_view_module_version": "1.2.0",
            "_view_name": "StyleView",
            "description_width": ""
          }
        },
        "b615470be6e94236a74ef5a602e5fb51": {
          "model_module": "@jupyter-widgets/base",
          "model_name": "LayoutModel",
          "model_module_version": "1.2.0",
          "state": {
            "_model_module": "@jupyter-widgets/base",
            "_model_module_version": "1.2.0",
            "_model_name": "LayoutModel",
            "_view_count": null,
            "_view_module": "@jupyter-widgets/base",
            "_view_module_version": "1.2.0",
            "_view_name": "LayoutView",
            "align_content": null,
            "align_items": null,
            "align_self": null,
            "border": null,
            "bottom": null,
            "display": null,
            "flex": null,
            "flex_flow": null,
            "grid_area": null,
            "grid_auto_columns": null,
            "grid_auto_flow": null,
            "grid_auto_rows": null,
            "grid_column": null,
            "grid_gap": null,
            "grid_row": null,
            "grid_template_areas": null,
            "grid_template_columns": null,
            "grid_template_rows": null,
            "height": null,
            "justify_content": null,
            "justify_items": null,
            "left": null,
            "margin": null,
            "max_height": null,
            "max_width": null,
            "min_height": null,
            "min_width": null,
            "object_fit": null,
            "object_position": null,
            "order": null,
            "overflow": null,
            "overflow_x": null,
            "overflow_y": null,
            "padding": null,
            "right": null,
            "top": null,
            "visibility": null,
            "width": null
          }
        },
        "1e7f21291bb44f22928d534e500c1097": {
          "model_module": "@jupyter-widgets/controls",
          "model_name": "ProgressStyleModel",
          "model_module_version": "1.5.0",
          "state": {
            "_model_module": "@jupyter-widgets/controls",
            "_model_module_version": "1.5.0",
            "_model_name": "ProgressStyleModel",
            "_view_count": null,
            "_view_module": "@jupyter-widgets/base",
            "_view_module_version": "1.2.0",
            "_view_name": "StyleView",
            "bar_color": null,
            "description_width": ""
          }
        },
        "363b8237f41942d7baaa50df9649d646": {
          "model_module": "@jupyter-widgets/base",
          "model_name": "LayoutModel",
          "model_module_version": "1.2.0",
          "state": {
            "_model_module": "@jupyter-widgets/base",
            "_model_module_version": "1.2.0",
            "_model_name": "LayoutModel",
            "_view_count": null,
            "_view_module": "@jupyter-widgets/base",
            "_view_module_version": "1.2.0",
            "_view_name": "LayoutView",
            "align_content": null,
            "align_items": null,
            "align_self": null,
            "border": null,
            "bottom": null,
            "display": null,
            "flex": null,
            "flex_flow": null,
            "grid_area": null,
            "grid_auto_columns": null,
            "grid_auto_flow": null,
            "grid_auto_rows": null,
            "grid_column": null,
            "grid_gap": null,
            "grid_row": null,
            "grid_template_areas": null,
            "grid_template_columns": null,
            "grid_template_rows": null,
            "height": null,
            "justify_content": null,
            "justify_items": null,
            "left": null,
            "margin": null,
            "max_height": null,
            "max_width": null,
            "min_height": null,
            "min_width": null,
            "object_fit": null,
            "object_position": null,
            "order": null,
            "overflow": null,
            "overflow_x": null,
            "overflow_y": null,
            "padding": null,
            "right": null,
            "top": null,
            "visibility": null,
            "width": null
          }
        },
        "fb490bf9cf7546a389a7d6a3e779e477": {
          "model_module": "@jupyter-widgets/controls",
          "model_name": "DescriptionStyleModel",
          "model_module_version": "1.5.0",
          "state": {
            "_model_module": "@jupyter-widgets/controls",
            "_model_module_version": "1.5.0",
            "_model_name": "DescriptionStyleModel",
            "_view_count": null,
            "_view_module": "@jupyter-widgets/base",
            "_view_module_version": "1.2.0",
            "_view_name": "StyleView",
            "description_width": ""
          }
        }
      }
    }
  },
  "cells": [
    {
      "cell_type": "markdown",
      "metadata": {
        "id": "view-in-github",
        "colab_type": "text"
      },
      "source": [
        "<a href=\"https://colab.research.google.com/github/akash02ita/CPSC-599.6-DL-for-Vision/blob/main/a2/DL4Vision_A2.ipynb\" target=\"_parent\"><img src=\"https://colab.research.google.com/assets/colab-badge.svg\" alt=\"Open In Colab\"/></a>"
      ]
    },
    {
      "cell_type": "markdown",
      "source": [
        "# Assignment 2\n",
        "In this assignment, we will use a multi-layer perceptron network to build an image classifier for single digits. We will be using a public dataset for model development. The dataset we will be using is the MNIST digit dataset. The dataset contains 10 classes, where class `i` contains images of digit `i`."
      ],
      "metadata": {
        "id": "-_eG2sW1MQrV"
      }
    },
    {
      "cell_type": "code",
      "execution_count": 1,
      "metadata": {
        "id": "BOMls6CLGyUr"
      },
      "outputs": [],
      "source": [
        "import torch\n",
        "import torch.nn as nn\n",
        "import torchvision\n",
        "from torchvision import datasets, transforms\n",
        "from torch.utils.data import Dataset, DataLoader, random_split\n",
        "import numpy as np\n",
        "import torch.optim as optim"
      ]
    },
    {
      "cell_type": "markdown",
      "source": [
        "####1. Create train_data and test_dataset objects using the MNIST digit dataset from torchvision.datasets module. (5 points)"
      ],
      "metadata": {
        "id": "Ao4fnByOPKmT"
      }
    },
    {
      "cell_type": "code",
      "source": [
        "transform = transforms.Compose([transforms.ToTensor()])\n",
        "train_data = datasets.MNIST(root='data', train = True, transform=transform, download = True)\n",
        "test_dataset = datasets.MNIST(root='data', train = False, transform=transform, download = True)"
      ],
      "metadata": {
        "id": "9tLsPKsAPJOu",
        "outputId": "c988893a-514a-4fd4-adfd-91baf92434ec",
        "colab": {
          "base_uri": "https://localhost:8080/",
          "height": 423,
          "referenced_widgets": [
            "4e12bf98c7864cfda9cd1f6c374d5cdb",
            "164fb136c8304c4e84f6fc828b061e48",
            "043685f444c647298f6f53295af82e5a",
            "a3336e39bcff4d4380d3e4cf0f142b76",
            "a7109e6344064b6dae7814b6bc4cd83c",
            "e6415a82b6bf424ca45092ccb57648e5",
            "4a88c5b0fd7241cbb14b024f325b4820",
            "49ee13119505404ead3e748a39c61042",
            "f8b425b42ba94ae3959fb2fd7bfa7ec1",
            "bf90def43c644ad3b1984cfed4ad447a",
            "09e2aac24602470eba28219d78199a56",
            "14d3b6bbc9914994969846e6d32b0fae",
            "0950a35f384846399a00cc8e577cf866",
            "8364ff78179645faae6f1fafd8d4b31b",
            "9eca4358fe6843e2bc8bfaa7ff28a169",
            "51a655be271f48cbb0a22c5a604ccf18",
            "e5328d12eb5e47619efaf53db693e010",
            "c418f66c2683474995925ead20877f0d",
            "5e3a95ccdf084d32908195a043c7c54f",
            "1835a7ebc0564509a08ba4a9c0936142",
            "83985b7d7d2444259c1bdd10267c7a7b",
            "0a07b0763d35451696c4a3a628e661d4",
            "39c18ef560024dab99204f90445c64b2",
            "b82a09db8bfe4d85a60d97ed88ec8e72",
            "40fdf6b407cd4fd384c2cdd47725d710",
            "0cac4a67b8b04815962a84cad816e301",
            "c8abbf22e85f4d8189643a4d8ab7bcdd",
            "80835c9b1e4b4f17b94e8a89d07e653e",
            "d1262c8e92254906923550c686bda033",
            "a41677d46cbd4cdabe92be9e9b4f6e2f",
            "92eef62cab6b4f33b4fc1a0fcb078a11",
            "02299193e27b47fd90245c75b7f0ef6d",
            "55dd6578b8d249efba8e0ff925b6b9ed",
            "740a61dff22a48cc8a67c0eee8a2aa95",
            "03d4ae52203941b1a1d22a95d856d03a",
            "5f440a102c5e4e57b51a2b400673ae38",
            "3bc3ce0b40b542f1bf3c570e330981f6",
            "fd94b1bc1c644265a3c5d805784a7db1",
            "371446fbb5d54b599a7887242365b9be",
            "a9eed0ce87754ac8a9a7cdb43ca15dac",
            "b615470be6e94236a74ef5a602e5fb51",
            "1e7f21291bb44f22928d534e500c1097",
            "363b8237f41942d7baaa50df9649d646",
            "fb490bf9cf7546a389a7d6a3e779e477"
          ]
        }
      },
      "execution_count": 2,
      "outputs": [
        {
          "output_type": "stream",
          "name": "stdout",
          "text": [
            "Downloading http://yann.lecun.com/exdb/mnist/train-images-idx3-ubyte.gz\n",
            "Downloading http://yann.lecun.com/exdb/mnist/train-images-idx3-ubyte.gz to data/MNIST/raw/train-images-idx3-ubyte.gz\n"
          ]
        },
        {
          "output_type": "display_data",
          "data": {
            "text/plain": [
              "  0%|          | 0/9912422 [00:00<?, ?it/s]"
            ],
            "application/vnd.jupyter.widget-view+json": {
              "version_major": 2,
              "version_minor": 0,
              "model_id": "4e12bf98c7864cfda9cd1f6c374d5cdb"
            }
          },
          "metadata": {}
        },
        {
          "output_type": "stream",
          "name": "stdout",
          "text": [
            "Extracting data/MNIST/raw/train-images-idx3-ubyte.gz to data/MNIST/raw\n",
            "\n",
            "Downloading http://yann.lecun.com/exdb/mnist/train-labels-idx1-ubyte.gz\n",
            "Downloading http://yann.lecun.com/exdb/mnist/train-labels-idx1-ubyte.gz to data/MNIST/raw/train-labels-idx1-ubyte.gz\n"
          ]
        },
        {
          "output_type": "display_data",
          "data": {
            "text/plain": [
              "  0%|          | 0/28881 [00:00<?, ?it/s]"
            ],
            "application/vnd.jupyter.widget-view+json": {
              "version_major": 2,
              "version_minor": 0,
              "model_id": "14d3b6bbc9914994969846e6d32b0fae"
            }
          },
          "metadata": {}
        },
        {
          "output_type": "stream",
          "name": "stdout",
          "text": [
            "Extracting data/MNIST/raw/train-labels-idx1-ubyte.gz to data/MNIST/raw\n",
            "\n",
            "Downloading http://yann.lecun.com/exdb/mnist/t10k-images-idx3-ubyte.gz\n",
            "Downloading http://yann.lecun.com/exdb/mnist/t10k-images-idx3-ubyte.gz to data/MNIST/raw/t10k-images-idx3-ubyte.gz\n"
          ]
        },
        {
          "output_type": "display_data",
          "data": {
            "text/plain": [
              "  0%|          | 0/1648877 [00:00<?, ?it/s]"
            ],
            "application/vnd.jupyter.widget-view+json": {
              "version_major": 2,
              "version_minor": 0,
              "model_id": "39c18ef560024dab99204f90445c64b2"
            }
          },
          "metadata": {}
        },
        {
          "output_type": "stream",
          "name": "stdout",
          "text": [
            "Extracting data/MNIST/raw/t10k-images-idx3-ubyte.gz to data/MNIST/raw\n",
            "\n",
            "Downloading http://yann.lecun.com/exdb/mnist/t10k-labels-idx1-ubyte.gz\n",
            "Downloading http://yann.lecun.com/exdb/mnist/t10k-labels-idx1-ubyte.gz to data/MNIST/raw/t10k-labels-idx1-ubyte.gz\n"
          ]
        },
        {
          "output_type": "display_data",
          "data": {
            "text/plain": [
              "  0%|          | 0/4542 [00:00<?, ?it/s]"
            ],
            "application/vnd.jupyter.widget-view+json": {
              "version_major": 2,
              "version_minor": 0,
              "model_id": "740a61dff22a48cc8a67c0eee8a2aa95"
            }
          },
          "metadata": {}
        },
        {
          "output_type": "stream",
          "name": "stdout",
          "text": [
            "Extracting data/MNIST/raw/t10k-labels-idx1-ubyte.gz to data/MNIST/raw\n",
            "\n"
          ]
        }
      ]
    },
    {
      "cell_type": "markdown",
      "source": [
        "####2. Use the [random_split](https://pytorch.org/docs/stable/data.html#torch.utils.data.random_split) method to split the `train_data` into `train_dataset` (50000 images) and `validation_dataset` dataset (10000 images). (5 points)"
      ],
      "metadata": {
        "id": "JXbRPNvvQ3s5"
      }
    },
    {
      "cell_type": "code",
      "source": [
        "print(len(train_data))\n",
        "train_dataset, validation_dataset = random_split(train_data, [50000, 10000], generator=torch.Generator().manual_seed(42))\n",
        "len(train_dataset), len(validation_dataset)"
      ],
      "metadata": {
        "id": "eMHxma1VXSDE",
        "outputId": "155818aa-cc54-4593-a906-3c053ee810a8",
        "colab": {
          "base_uri": "https://localhost:8080/"
        }
      },
      "execution_count": 3,
      "outputs": [
        {
          "output_type": "stream",
          "name": "stdout",
          "text": [
            "60000\n"
          ]
        },
        {
          "output_type": "execute_result",
          "data": {
            "text/plain": [
              "(50000, 10000)"
            ]
          },
          "metadata": {},
          "execution_count": 3
        }
      ]
    },
    {
      "cell_type": "markdown",
      "source": [
        "#### 3. Create dataloader objects for `train_dataset`, `validation_dataset`, and `test_dataset`. (5 points)"
      ],
      "metadata": {
        "id": "Pej9bS2lfFkb"
      }
    },
    {
      "cell_type": "code",
      "source": [
        "train_dataloader = DataLoader(train_dataset, batch_size = 32, shuffle = True)\n",
        "test_dataloader = DataLoader(test_dataset, batch_size = 32, shuffle = True)\n",
        "validation_dataloader = DataLoader(validation_dataset, batch_size = 32, shuffle = True)\n",
        "type(train_dataloader), len(train_dataloader), len(train_dataloader.dataset)"
      ],
      "metadata": {
        "id": "xd1zHUocfazi",
        "outputId": "60457c38-1c4e-4a3f-ccfd-7f4f5ab856bf",
        "colab": {
          "base_uri": "https://localhost:8080/"
        }
      },
      "execution_count": 4,
      "outputs": [
        {
          "output_type": "execute_result",
          "data": {
            "text/plain": [
              "(torch.utils.data.dataloader.DataLoader, 1563, 50000)"
            ]
          },
          "metadata": {},
          "execution_count": 4
        }
      ]
    },
    {
      "cell_type": "code",
      "source": [
        "for images, labels in train_dataloader:\n",
        "  print(type(images), type(labels))\n",
        "  print(images.shape, labels.shape)\n",
        "  print(images[0].numpy().shape)\n",
        "  break"
      ],
      "metadata": {
        "id": "ONljcG2ehZu2",
        "outputId": "6398786c-9b6c-4dc2-ac9f-44608619c43a",
        "colab": {
          "base_uri": "https://localhost:8080/"
        }
      },
      "execution_count": 5,
      "outputs": [
        {
          "output_type": "stream",
          "name": "stdout",
          "text": [
            "<class 'torch.Tensor'> <class 'torch.Tensor'>\n",
            "torch.Size([32, 1, 28, 28]) torch.Size([32])\n",
            "(1, 28, 28)\n"
          ]
        }
      ]
    },
    {
      "cell_type": "markdown",
      "source": [
        "#### 4. Develop an MLP model for classifying MNIST images. The developed model should have four hidden layers of 256, 128, 64, and 32 neurons. Each hidden layer should be followed with a ReLU unit and a Dropout layer (p=0.2).  (15 points)"
      ],
      "metadata": {
        "id": "3_R2J6A1ahUS"
      }
    },
    {
      "cell_type": "code",
      "source": [
        "flattened_image_shape = 1*28*28\n",
        "model = nn.Sequential(\n",
        "    nn.Flatten(),\n",
        "    nn.Linear(flattened_image_shape, 256, bias=True),\n",
        "    nn.ReLU(),\n",
        "    nn.Linear(256, 128, bias=True),\n",
        "    nn.ReLU(),\n",
        "    nn.Linear(128, 64, bias=True),\n",
        "    nn.ReLU(),\n",
        "    nn.Linear(64, 32, bias=True),\n",
        "    nn.Dropout(p=0.2),\n",
        "    nn.Linear(32, 10, bias=True)\n",
        ")"
      ],
      "metadata": {
        "id": "WNsJAsisbdWm"
      },
      "execution_count": 6,
      "outputs": []
    },
    {
      "cell_type": "markdown",
      "source": [
        "#### 5. Define the components needed for training a deep learning model. (10 points)\n",
        "\n"
      ],
      "metadata": {
        "id": "tZnMNV1Id_n1"
      }
    },
    {
      "cell_type": "code",
      "source": [
        "criterion = nn.CrossEntropyLoss()\n",
        "optimizer = optim.SGD(model.parameters(), lr=0.01,momentum=0.9)\n",
        "device = torch.device(\"cuda\" if torch.cuda.is_available() else \"cpu\")\n",
        "print(device)\n",
        "model = model.to(device) # returns model on the device"
      ],
      "metadata": {
        "id": "0nT3ixTAQ4QQ",
        "outputId": "e995daa4-8f99-4d78-a5f1-abf601f88f26",
        "colab": {
          "base_uri": "https://localhost:8080/"
        }
      },
      "execution_count": 7,
      "outputs": [
        {
          "output_type": "stream",
          "name": "stdout",
          "text": [
            "cuda\n"
          ]
        }
      ]
    },
    {
      "cell_type": "markdown",
      "source": [
        "#### 6. Write the training loop and train the model for 100 epochs. Print the training and validation accuracy and loss for each epoch. (35 points)"
      ],
      "metadata": {
        "id": "T8uSNlodMVw-"
      }
    },
    {
      "cell_type": "code",
      "source": [],
      "metadata": {
        "id": "e6VcmdcJE76P"
      },
      "execution_count": null,
      "outputs": []
    },
    {
      "cell_type": "code",
      "source": [
        "model.train()\n",
        "epochs = 100\n",
        "for epoch in range(epochs):\n",
        "  for current_data, current_dataloader  in [(\"TRAIN\", train_dataloader), (\"VALIDATION\", validation_dataloader)]:\n",
        "    total_loss = 0\n",
        "    total = 0\n",
        "    correct = 0\n",
        "    for images, labels in current_dataloader:\n",
        "      optimizer.zero_grad()\n",
        "      # data also needs to move to same device (in this case gpu)\n",
        "      images = images.to(device)\n",
        "      labels = labels.to(device)\n",
        "      outputs = model(images)\n",
        "      loss = criterion(outputs, labels)\n",
        "      if current_data == \"TRAIN\": # only when using training dataloader\n",
        "        loss.backward()\n",
        "        optimizer.step()\n",
        "      total_loss += loss.item() * images.size(0)\n",
        "      total += images.size(0)\n",
        "      _, preds = torch.max(outputs, 1) # preds is index of maximum found in each vector ouput \\element of ouputs\n",
        "      correct += (preds == labels).sum().item()\n",
        "    accuracy = correct / total\n",
        "    loss = total_loss / total\n",
        "    print(f\"{epoch} {current_data}: Accuracy = {accuracy}, Loss = {loss}\")\n"
      ],
      "metadata": {
        "id": "TdT8Mh_NgzEK",
        "outputId": "14477dd1-aebc-42a2-b023-26fa429c82d3",
        "colab": {
          "base_uri": "https://localhost:8080/"
        }
      },
      "execution_count": 9,
      "outputs": [
        {
          "output_type": "stream",
          "name": "stdout",
          "text": [
            "0 TRAIN: Accuracy = 0.78302, Loss = 0.6430898488974571\n",
            "0 VALIDATION: Accuracy = 0.9431, Loss = 0.19452546980082988\n",
            "1 TRAIN: Accuracy = 0.95806, Loss = 0.14460179238945245\n",
            "1 VALIDATION: Accuracy = 0.9544, Loss = 0.15385555286109448\n",
            "2 TRAIN: Accuracy = 0.9709, Loss = 0.09684254695415496\n",
            "2 VALIDATION: Accuracy = 0.966, Loss = 0.11985207977965474\n",
            "3 TRAIN: Accuracy = 0.97754, Loss = 0.07377695428997279\n",
            "3 VALIDATION: Accuracy = 0.9611, Loss = 0.13645503444075585\n",
            "4 TRAIN: Accuracy = 0.983, Loss = 0.05704037877427414\n",
            "4 VALIDATION: Accuracy = 0.9655, Loss = 0.12336133925598115\n",
            "5 TRAIN: Accuracy = 0.98542, Loss = 0.046785511205969375\n",
            "5 VALIDATION: Accuracy = 0.9733, Loss = 0.10106248338986189\n",
            "6 TRAIN: Accuracy = 0.9875, Loss = 0.03911058475411497\n",
            "6 VALIDATION: Accuracy = 0.9728, Loss = 0.1110442432298325\n",
            "7 TRAIN: Accuracy = 0.9904, Loss = 0.03130052413311787\n",
            "7 VALIDATION: Accuracy = 0.9708, Loss = 0.12459521320571658\n",
            "8 TRAIN: Accuracy = 0.99192, Loss = 0.026174164674571947\n",
            "8 VALIDATION: Accuracy = 0.9732, Loss = 0.10766769569134339\n",
            "9 TRAIN: Accuracy = 0.99306, Loss = 0.022013803696710965\n",
            "9 VALIDATION: Accuracy = 0.9773, Loss = 0.09004708480909467\n",
            "10 TRAIN: Accuracy = 0.99452, Loss = 0.016523061678681988\n",
            "10 VALIDATION: Accuracy = 0.9765, Loss = 0.09573061229725136\n",
            "11 TRAIN: Accuracy = 0.9938, Loss = 0.018469011121887015\n",
            "11 VALIDATION: Accuracy = 0.9723, Loss = 0.11747866277038556\n",
            "12 TRAIN: Accuracy = 0.99384, Loss = 0.019080040779646514\n",
            "12 VALIDATION: Accuracy = 0.9758, Loss = 0.11151626544451283\n",
            "13 TRAIN: Accuracy = 0.9954, Loss = 0.014812634541411681\n",
            "13 VALIDATION: Accuracy = 0.973, Loss = 0.12741640780349262\n",
            "14 TRAIN: Accuracy = 0.99612, Loss = 0.013387377456983377\n",
            "14 VALIDATION: Accuracy = 0.9769, Loss = 0.11691162575113122\n",
            "15 TRAIN: Accuracy = 0.99804, Loss = 0.006907251858589516\n",
            "15 VALIDATION: Accuracy = 0.9777, Loss = 0.10861928492098231\n",
            "16 TRAIN: Accuracy = 0.9973, Loss = 0.009062929941818438\n",
            "16 VALIDATION: Accuracy = 0.9779, Loss = 0.11412366559898074\n",
            "17 TRAIN: Accuracy = 0.9978, Loss = 0.0066651249269861\n",
            "17 VALIDATION: Accuracy = 0.9775, Loss = 0.1282760880778449\n",
            "18 TRAIN: Accuracy = 0.99584, Loss = 0.0133285308279232\n",
            "18 VALIDATION: Accuracy = 0.9763, Loss = 0.11952734800035396\n",
            "19 TRAIN: Accuracy = 0.9965, Loss = 0.010517209016219421\n",
            "19 VALIDATION: Accuracy = 0.9732, Loss = 0.1338844699264504\n",
            "20 TRAIN: Accuracy = 0.99742, Loss = 0.007814564918302786\n",
            "20 VALIDATION: Accuracy = 0.9748, Loss = 0.14377612030861472\n",
            "21 TRAIN: Accuracy = 0.99684, Loss = 0.010237266523635116\n",
            "21 VALIDATION: Accuracy = 0.9779, Loss = 0.11536164563789353\n",
            "22 TRAIN: Accuracy = 0.9978, Loss = 0.0062407754871156434\n",
            "22 VALIDATION: Accuracy = 0.9785, Loss = 0.12097978755898002\n",
            "23 TRAIN: Accuracy = 0.99864, Loss = 0.0047656756015286555\n",
            "23 VALIDATION: Accuracy = 0.9785, Loss = 0.11472570718548013\n",
            "24 TRAIN: Accuracy = 0.99836, Loss = 0.005415482147941202\n",
            "24 VALIDATION: Accuracy = 0.9778, Loss = 0.12853590993574618\n",
            "25 TRAIN: Accuracy = 0.9995, Loss = 0.0017843476003317298\n",
            "25 VALIDATION: Accuracy = 0.9786, Loss = 0.12220321104984032\n",
            "26 TRAIN: Accuracy = 0.99966, Loss = 0.001441392603254078\n",
            "26 VALIDATION: Accuracy = 0.9808, Loss = 0.11952214739771039\n",
            "27 TRAIN: Accuracy = 0.99982, Loss = 0.0006358508128999744\n",
            "27 VALIDATION: Accuracy = 0.9797, Loss = 0.13133412261757837\n",
            "28 TRAIN: Accuracy = 0.99998, Loss = 0.0003588344938609262\n",
            "28 VALIDATION: Accuracy = 0.9798, Loss = 0.12744585727274063\n",
            "29 TRAIN: Accuracy = 0.99958, Loss = 0.0015966466887404659\n",
            "29 VALIDATION: Accuracy = 0.9787, Loss = 0.15077825816881762\n",
            "30 TRAIN: Accuracy = 0.99632, Loss = 0.012914131094773752\n",
            "30 VALIDATION: Accuracy = 0.975, Loss = 0.1310807673477997\n",
            "31 TRAIN: Accuracy = 0.99858, Loss = 0.004454755448704231\n",
            "31 VALIDATION: Accuracy = 0.9793, Loss = 0.11840996049115911\n",
            "32 TRAIN: Accuracy = 0.99826, Loss = 0.005919947560928959\n",
            "32 VALIDATION: Accuracy = 0.9746, Loss = 0.15221442791365553\n",
            "33 TRAIN: Accuracy = 0.99834, Loss = 0.005443681541817687\n",
            "33 VALIDATION: Accuracy = 0.9791, Loss = 0.12358284840180561\n",
            "34 TRAIN: Accuracy = 0.99982, Loss = 0.0007367928705529539\n",
            "34 VALIDATION: Accuracy = 0.9804, Loss = 0.11874605751038055\n",
            "35 TRAIN: Accuracy = 1.0, Loss = 0.00019966231298483082\n",
            "35 VALIDATION: Accuracy = 0.9797, Loss = 0.11670296935839028\n",
            "36 TRAIN: Accuracy = 1.0, Loss = 0.0001374014344810068\n",
            "36 VALIDATION: Accuracy = 0.98, Loss = 0.12071641905309402\n",
            "37 TRAIN: Accuracy = 1.0, Loss = 0.00010171382329599993\n",
            "37 VALIDATION: Accuracy = 0.9797, Loss = 0.12511051068796913\n",
            "38 TRAIN: Accuracy = 1.0, Loss = 8.069828205628369e-05\n",
            "38 VALIDATION: Accuracy = 0.9806, Loss = 0.12561301924336632\n",
            "39 TRAIN: Accuracy = 1.0, Loss = 8.82692442434913e-05\n",
            "39 VALIDATION: Accuracy = 0.9809, Loss = 0.1269536097147333\n",
            "40 TRAIN: Accuracy = 1.0, Loss = 6.200486088982714e-05\n",
            "40 VALIDATION: Accuracy = 0.98, Loss = 0.1307796470747394\n",
            "41 TRAIN: Accuracy = 1.0, Loss = 6.115237569282982e-05\n",
            "41 VALIDATION: Accuracy = 0.9805, Loss = 0.13052557167216383\n",
            "42 TRAIN: Accuracy = 1.0, Loss = 6.352529383476025e-05\n",
            "42 VALIDATION: Accuracy = 0.9803, Loss = 0.12956728663027178\n",
            "43 TRAIN: Accuracy = 1.0, Loss = 4.9278982125883744e-05\n",
            "43 VALIDATION: Accuracy = 0.9807, Loss = 0.13500772394676697\n",
            "44 TRAIN: Accuracy = 1.0, Loss = 5.353488113054141e-05\n",
            "44 VALIDATION: Accuracy = 0.9804, Loss = 0.13220522252846742\n",
            "45 TRAIN: Accuracy = 1.0, Loss = 4.747358132450117e-05\n",
            "45 VALIDATION: Accuracy = 0.9805, Loss = 0.13711725907192268\n",
            "46 TRAIN: Accuracy = 1.0, Loss = 4.4857133036842353e-05\n",
            "46 VALIDATION: Accuracy = 0.9814, Loss = 0.13898756893733488\n",
            "47 TRAIN: Accuracy = 1.0, Loss = 4.4031815797358715e-05\n",
            "47 VALIDATION: Accuracy = 0.9806, Loss = 0.13692824947535417\n",
            "48 TRAIN: Accuracy = 1.0, Loss = 4.285066575421311e-05\n",
            "48 VALIDATION: Accuracy = 0.9808, Loss = 0.13807245836296217\n",
            "49 TRAIN: Accuracy = 1.0, Loss = 3.75992559782064e-05\n",
            "49 VALIDATION: Accuracy = 0.981, Loss = 0.13888732947717253\n",
            "50 TRAIN: Accuracy = 1.0, Loss = 2.736208250175551e-05\n",
            "50 VALIDATION: Accuracy = 0.9808, Loss = 0.13670093490622545\n",
            "51 TRAIN: Accuracy = 1.0, Loss = 3.600623738780385e-05\n",
            "51 VALIDATION: Accuracy = 0.9812, Loss = 0.14094030613589523\n",
            "52 TRAIN: Accuracy = 1.0, Loss = 3.132332318912518e-05\n",
            "52 VALIDATION: Accuracy = 0.9804, Loss = 0.13963922728959452\n",
            "53 TRAIN: Accuracy = 1.0, Loss = 2.650885780530345e-05\n",
            "53 VALIDATION: Accuracy = 0.9809, Loss = 0.14262297690047707\n",
            "54 TRAIN: Accuracy = 1.0, Loss = 3.055366150595674e-05\n",
            "54 VALIDATION: Accuracy = 0.9809, Loss = 0.1369937200400773\n",
            "55 TRAIN: Accuracy = 1.0, Loss = 2.6565576038830585e-05\n",
            "55 VALIDATION: Accuracy = 0.9811, Loss = 0.1409236478097193\n",
            "56 TRAIN: Accuracy = 1.0, Loss = 2.303145371502339e-05\n",
            "56 VALIDATION: Accuracy = 0.9809, Loss = 0.1365493075305846\n",
            "57 TRAIN: Accuracy = 1.0, Loss = 3.03148795336773e-05\n",
            "57 VALIDATION: Accuracy = 0.9808, Loss = 0.13924889566989973\n",
            "58 TRAIN: Accuracy = 0.99996, Loss = 0.00010451410651475285\n",
            "58 VALIDATION: Accuracy = 0.9807, Loss = 0.14649764453504815\n",
            "59 TRAIN: Accuracy = 1.0, Loss = 7.226905922058592e-05\n",
            "59 VALIDATION: Accuracy = 0.9802, Loss = 0.14092793891142594\n",
            "60 TRAIN: Accuracy = 1.0, Loss = 4.008383450677414e-05\n",
            "60 VALIDATION: Accuracy = 0.9815, Loss = 0.14224903890507054\n",
            "61 TRAIN: Accuracy = 1.0, Loss = 4.2200611928774094e-05\n",
            "61 VALIDATION: Accuracy = 0.9808, Loss = 0.14185084171247897\n",
            "62 TRAIN: Accuracy = 1.0, Loss = 2.1829074179124747e-05\n",
            "62 VALIDATION: Accuracy = 0.9811, Loss = 0.14058841625113383\n",
            "63 TRAIN: Accuracy = 1.0, Loss = 2.213225304123341e-05\n",
            "63 VALIDATION: Accuracy = 0.9807, Loss = 0.1452570842066508\n",
            "64 TRAIN: Accuracy = 1.0, Loss = 2.8283165749700315e-05\n",
            "64 VALIDATION: Accuracy = 0.9809, Loss = 0.14698081363536794\n",
            "65 TRAIN: Accuracy = 1.0, Loss = 2.0751028762698666e-05\n",
            "65 VALIDATION: Accuracy = 0.9808, Loss = 0.1413518138191542\n",
            "66 TRAIN: Accuracy = 1.0, Loss = 2.1119088176278923e-05\n",
            "66 VALIDATION: Accuracy = 0.9817, Loss = 0.14265361773218554\n",
            "67 TRAIN: Accuracy = 1.0, Loss = 1.728971896548515e-05\n",
            "67 VALIDATION: Accuracy = 0.9808, Loss = 0.14905637669690677\n",
            "68 TRAIN: Accuracy = 1.0, Loss = 1.7336791589839465e-05\n",
            "68 VALIDATION: Accuracy = 0.9812, Loss = 0.14841460221439073\n",
            "69 TRAIN: Accuracy = 1.0, Loss = 1.9782026099451286e-05\n",
            "69 VALIDATION: Accuracy = 0.9807, Loss = 0.15273042788562358\n",
            "70 TRAIN: Accuracy = 1.0, Loss = 1.4712672036751258e-05\n",
            "70 VALIDATION: Accuracy = 0.9804, Loss = 0.15056953066588263\n",
            "71 TRAIN: Accuracy = 1.0, Loss = 1.5589621208593344e-05\n",
            "71 VALIDATION: Accuracy = 0.9811, Loss = 0.15160858485275808\n",
            "72 TRAIN: Accuracy = 1.0, Loss = 1.4267684901184055e-05\n",
            "72 VALIDATION: Accuracy = 0.9808, Loss = 0.14646932952097635\n",
            "73 TRAIN: Accuracy = 1.0, Loss = 1.3299614892049476e-05\n",
            "73 VALIDATION: Accuracy = 0.9809, Loss = 0.15178204575144913\n",
            "74 TRAIN: Accuracy = 1.0, Loss = 1.5114274300282488e-05\n",
            "74 VALIDATION: Accuracy = 0.9811, Loss = 0.14731247583834184\n",
            "75 TRAIN: Accuracy = 1.0, Loss = 1.8415088754273227e-05\n",
            "75 VALIDATION: Accuracy = 0.9807, Loss = 0.1500070432758144\n",
            "76 TRAIN: Accuracy = 1.0, Loss = 1.8316969496832484e-05\n",
            "76 VALIDATION: Accuracy = 0.9808, Loss = 0.15182980645727667\n",
            "77 TRAIN: Accuracy = 1.0, Loss = 1.733959854747141e-05\n",
            "77 VALIDATION: Accuracy = 0.9813, Loss = 0.14945078418392235\n",
            "78 TRAIN: Accuracy = 1.0, Loss = 1.5906173070812174e-05\n",
            "78 VALIDATION: Accuracy = 0.9805, Loss = 0.14983520501000558\n",
            "79 TRAIN: Accuracy = 1.0, Loss = 1.323344104530392e-05\n",
            "79 VALIDATION: Accuracy = 0.9806, Loss = 0.1533135740080139\n",
            "80 TRAIN: Accuracy = 0.99998, Loss = 3.519181521685439e-05\n",
            "80 VALIDATION: Accuracy = 0.9811, Loss = 0.15469537095253094\n",
            "81 TRAIN: Accuracy = 1.0, Loss = 1.5533970501474813e-05\n",
            "81 VALIDATION: Accuracy = 0.9815, Loss = 0.15086369368576003\n",
            "82 TRAIN: Accuracy = 1.0, Loss = 1.4829199189922093e-05\n",
            "82 VALIDATION: Accuracy = 0.9806, Loss = 0.1528060799484926\n",
            "83 TRAIN: Accuracy = 1.0, Loss = 1.1383369981978859e-05\n",
            "83 VALIDATION: Accuracy = 0.9814, Loss = 0.1508859384453536\n",
            "84 TRAIN: Accuracy = 1.0, Loss = 1.057153903728107e-05\n",
            "84 VALIDATION: Accuracy = 0.9808, Loss = 0.1534568406038253\n",
            "85 TRAIN: Accuracy = 1.0, Loss = 2.7596706459888623e-05\n",
            "85 VALIDATION: Accuracy = 0.9806, Loss = 0.15117447115582852\n",
            "86 TRAIN: Accuracy = 1.0, Loss = 1.4461073297236312e-05\n",
            "86 VALIDATION: Accuracy = 0.9811, Loss = 0.15248339521026683\n",
            "87 TRAIN: Accuracy = 1.0, Loss = 1.093102395987259e-05\n",
            "87 VALIDATION: Accuracy = 0.9809, Loss = 0.15134104581558003\n",
            "88 TRAIN: Accuracy = 1.0, Loss = 1.2103421933056212e-05\n",
            "88 VALIDATION: Accuracy = 0.9811, Loss = 0.1557857806853299\n",
            "89 TRAIN: Accuracy = 1.0, Loss = 1.1416516862747984e-05\n",
            "89 VALIDATION: Accuracy = 0.9808, Loss = 0.15160191790546299\n",
            "90 TRAIN: Accuracy = 1.0, Loss = 1.002261781305279e-05\n",
            "90 VALIDATION: Accuracy = 0.9805, Loss = 0.15238408174741272\n",
            "91 TRAIN: Accuracy = 1.0, Loss = 1.7191300152080516e-05\n",
            "91 VALIDATION: Accuracy = 0.9809, Loss = 0.15542992814781093\n",
            "92 TRAIN: Accuracy = 1.0, Loss = 1.0902542245051166e-05\n",
            "92 VALIDATION: Accuracy = 0.9814, Loss = 0.15202355838483192\n",
            "93 TRAIN: Accuracy = 1.0, Loss = 1.1075022626647382e-05\n",
            "93 VALIDATION: Accuracy = 0.9809, Loss = 0.15134852604710794\n",
            "94 TRAIN: Accuracy = 1.0, Loss = 9.347267105472242e-06\n",
            "94 VALIDATION: Accuracy = 0.9809, Loss = 0.15070426691198194\n",
            "95 TRAIN: Accuracy = 1.0, Loss = 1.1781213051336579e-05\n",
            "95 VALIDATION: Accuracy = 0.9807, Loss = 0.1576204175744792\n",
            "96 TRAIN: Accuracy = 1.0, Loss = 1.0006002968662102e-05\n",
            "96 VALIDATION: Accuracy = 0.981, Loss = 0.1526968429707352\n",
            "97 TRAIN: Accuracy = 1.0, Loss = 9.064543534611147e-06\n",
            "97 VALIDATION: Accuracy = 0.981, Loss = 0.15426219415448908\n",
            "98 TRAIN: Accuracy = 1.0, Loss = 1.0057652264551394e-05\n",
            "98 VALIDATION: Accuracy = 0.9808, Loss = 0.15601663408504907\n",
            "99 TRAIN: Accuracy = 1.0, Loss = 7.95065017262587e-06\n",
            "99 VALIDATION: Accuracy = 0.9805, Loss = 0.15477335123275013\n"
          ]
        }
      ]
    },
    {
      "cell_type": "markdown",
      "source": [
        "####6. Test the model using the `test_dataset`, and report accuracy and loss. (10 points)"
      ],
      "metadata": {
        "id": "MSDr2VB9Q0uA"
      }
    },
    {
      "cell_type": "code",
      "source": [
        "model.eval()\n",
        "total_loss = 0\n",
        "total = 0\n",
        "correct = 0\n",
        "for images, labels in test_dataloader:\n",
        "  images, labels = images.to(device), labels.to(device)\n",
        "  with torch.no_grad():\n",
        "    outputs = model(images)\n",
        "    loss = criterion(outputs, labels)\n",
        "    total_loss += loss.item() * images.size(0)\n",
        "    total += images.size(0)\n",
        "    _, preds = torch.max(outputs, 1) # preds is index of maximum found in each vector ouput \\element of ouputs\n",
        "    correct += (preds == labels).sum().item()\n",
        "accuracy = correct / total\n",
        "loss = total_loss / total\n",
        "print(f\"TEST: Accuracy = {accuracy}, Loss = {loss}\")"
      ],
      "metadata": {
        "id": "Njcfq-uZLriH",
        "outputId": "e9ad666d-c514-4986-ea80-d3e7cacec5d1",
        "colab": {
          "base_uri": "https://localhost:8080/"
        }
      },
      "execution_count": 16,
      "outputs": [
        {
          "output_type": "stream",
          "name": "stdout",
          "text": [
            "TEST: Accuracy = 0.9844, Loss = 0.13774921294286466\n"
          ]
        }
      ]
    },
    {
      "cell_type": "markdown",
      "source": [
        "#### 8. We would like to see how accurate the trained model is when applied to a set of images of digits with slight differences. The image of a digit in the MNIST dataset has a black background (0 value for pixel values). This might be like writing with white chalk on a blackboard. We make slight changes in the test datasets by applying a simple change `image = 1 - image`. In other words, we invert the pixel intensity values. The resulting images resemble a digit written with a black marker on a whiteboard. Test the model using the updated test_dataset, and report your observations regarding model performance. How would you change your pipeline if you redo this experiment? (15 points)"
      ],
      "metadata": {
        "id": "Mx9bidatV5RT"
      }
    },
    {
      "cell_type": "code",
      "source": [],
      "metadata": {
        "id": "tWL4gwwlTgOl"
      },
      "execution_count": null,
      "outputs": []
    }
  ]
}