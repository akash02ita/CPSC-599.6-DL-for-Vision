{
  "nbformat": 4,
  "nbformat_minor": 0,
  "metadata": {
    "colab": {
      "provenance": [],
      "include_colab_link": true
    },
    "kernelspec": {
      "name": "python3",
      "display_name": "Python 3"
    },
    "language_info": {
      "name": "python"
    },
    "accelerator": "GPU",
    "gpuClass": "standard"
  },
  "cells": [
    {
      "cell_type": "markdown",
      "metadata": {
        "id": "view-in-github",
        "colab_type": "text"
      },
      "source": [
        "<a href=\"https://colab.research.google.com/github/akash02ita/CPSC-599.6-DL-for-Vision/blob/main/a2/DL4Vision_A2.ipynb\" target=\"_parent\"><img src=\"https://colab.research.google.com/assets/colab-badge.svg\" alt=\"Open In Colab\"/></a>"
      ]
    },
    {
      "cell_type": "markdown",
      "source": [
        "# Assignment 2\n",
        "In this assignment, we will use a multi-layer perceptron network to build an image classifier for single digits. We will be using a public dataset for model development. The dataset we will be using is the MNIST digit dataset. The dataset contains 10 classes, where class `i` contains images of digit `i`."
      ],
      "metadata": {
        "id": "-_eG2sW1MQrV"
      }
    },
    {
      "cell_type": "code",
      "execution_count": 1,
      "metadata": {
        "id": "BOMls6CLGyUr"
      },
      "outputs": [],
      "source": [
        "import torch\n",
        "import torch.nn as nn\n",
        "import torchvision\n",
        "from torchvision import datasets, transforms\n",
        "from torch.utils.data import Dataset, DataLoader, random_split\n",
        "import numpy as np\n",
        "import torch.optim as optim"
      ]
    },
    {
      "cell_type": "markdown",
      "source": [
        "####1. Create train_data and test_dataset objects using the MNIST digit dataset from torchvision.datasets module. (5 points)"
      ],
      "metadata": {
        "id": "Ao4fnByOPKmT"
      }
    },
    {
      "cell_type": "code",
      "source": [
        "transform = transforms.Compose([transforms.ToTensor()])\n",
        "train_data = datasets.MNIST(root='data', train = True, transform=transform, download = True)\n",
        "test_dataset = datasets.MNIST(root='data', train = False, transform=transform, download = True)"
      ],
      "metadata": {
        "id": "9tLsPKsAPJOu"
      },
      "execution_count": 2,
      "outputs": []
    },
    {
      "cell_type": "markdown",
      "source": [
        "####2. Use the [random_split](https://pytorch.org/docs/stable/data.html#torch.utils.data.random_split) method to split the `train_data` into `train_dataset` (50000 images) and `validation_dataset` dataset (10000 images). (5 points)"
      ],
      "metadata": {
        "id": "JXbRPNvvQ3s5"
      }
    },
    {
      "cell_type": "code",
      "source": [
        "print(len(train_data))\n",
        "train_dataset, validation_dataset = random_split(train_data, [50000, 10000], generator=torch.Generator().manual_seed(42))\n",
        "len(train_dataset), len(validation_dataset)"
      ],
      "metadata": {
        "id": "eMHxma1VXSDE",
        "outputId": "9b32aaff-0bf3-45db-bea8-31faacdb34b2",
        "colab": {
          "base_uri": "https://localhost:8080/"
        }
      },
      "execution_count": 3,
      "outputs": [
        {
          "output_type": "stream",
          "name": "stdout",
          "text": [
            "60000\n"
          ]
        },
        {
          "output_type": "execute_result",
          "data": {
            "text/plain": [
              "(50000, 10000)"
            ]
          },
          "metadata": {},
          "execution_count": 3
        }
      ]
    },
    {
      "cell_type": "markdown",
      "source": [
        "#### 3. Create dataloader objects for `train_dataset`, `validation_dataset`, and `test_dataset`. (5 points)"
      ],
      "metadata": {
        "id": "Pej9bS2lfFkb"
      }
    },
    {
      "cell_type": "code",
      "source": [
        "train_dataloader = DataLoader(train_dataset, batch_size = 32, shuffle = True)\n",
        "test_dataloader = DataLoader(test_dataset, batch_size = 32, shuffle = True)\n",
        "validation_dataloader = DataLoader(validation_dataset, batch_size = 32, shuffle = True)\n",
        "type(train_dataloader), len(train_dataloader), len(train_dataloader.dataset)"
      ],
      "metadata": {
        "id": "xd1zHUocfazi",
        "outputId": "99a35ef4-376e-45e4-af6d-79d9d4d7e78f",
        "colab": {
          "base_uri": "https://localhost:8080/"
        }
      },
      "execution_count": 4,
      "outputs": [
        {
          "output_type": "execute_result",
          "data": {
            "text/plain": [
              "(torch.utils.data.dataloader.DataLoader, 1563, 50000)"
            ]
          },
          "metadata": {},
          "execution_count": 4
        }
      ]
    },
    {
      "cell_type": "code",
      "source": [
        "for images, labels in train_dataloader:\n",
        "  print(type(images), type(labels))\n",
        "  print(images.shape, labels.shape)\n",
        "  print(images[0].numpy().shape)\n",
        "  break"
      ],
      "metadata": {
        "id": "ONljcG2ehZu2",
        "outputId": "746c7a16-a5d7-40c3-842f-428b80faac80",
        "colab": {
          "base_uri": "https://localhost:8080/"
        }
      },
      "execution_count": 5,
      "outputs": [
        {
          "output_type": "stream",
          "name": "stdout",
          "text": [
            "<class 'torch.Tensor'> <class 'torch.Tensor'>\n",
            "torch.Size([32, 1, 28, 28]) torch.Size([32])\n",
            "(1, 28, 28)\n"
          ]
        }
      ]
    },
    {
      "cell_type": "markdown",
      "source": [
        "#### 4. Develop an MLP model for classifying MNIST images. The developed model should have four hidden layers of 256, 128, 64, and 32 neurons. Each hidden layer should be followed with a ReLU unit and a Dropout layer (p=0.2).  (15 points)"
      ],
      "metadata": {
        "id": "3_R2J6A1ahUS"
      }
    },
    {
      "cell_type": "code",
      "source": [
        "def initialize_model(flattened_image_shape):\n",
        "  model = nn.Sequential(\n",
        "    nn.Flatten(),\n",
        "    nn.Linear(flattened_image_shape, 256, bias=True),\n",
        "    nn.ReLU(),\n",
        "    nn.Linear(256, 128, bias=True),\n",
        "    nn.ReLU(),\n",
        "    nn.Linear(128, 64, bias=True),\n",
        "    nn.ReLU(),\n",
        "    nn.Linear(64, 32, bias=True),\n",
        "    nn.Dropout(p=0.2),\n",
        "    nn.Linear(32, 10, bias=True)\n",
        "  )\n",
        "  return model\n",
        "\n",
        "flattened_image_shape = 1*28*28\n",
        "model = initialize_model(flattened_image_shape)"
      ],
      "metadata": {
        "id": "WNsJAsisbdWm"
      },
      "execution_count": 6,
      "outputs": []
    },
    {
      "cell_type": "markdown",
      "source": [
        "#### 5. Define the components needed for training a deep learning model. (10 points)\n",
        "\n"
      ],
      "metadata": {
        "id": "tZnMNV1Id_n1"
      }
    },
    {
      "cell_type": "code",
      "source": [
        "def initialize_componenets(model):\n",
        "  criterion = nn.CrossEntropyLoss()\n",
        "  optimizer = optim.SGD(model.parameters(), lr=0.01,momentum=0.9)\n",
        "  device = torch.device(\"cuda\" if torch.cuda.is_available() else \"cpu\")\n",
        "  print(device)\n",
        "  model = model.to(device) # returns model on the device\n",
        "\n",
        "  return criterion, optimizer, device, model\n",
        "\n",
        "criterion, optimizer, device, model = initialize_componenets(model)"
      ],
      "metadata": {
        "id": "0nT3ixTAQ4QQ",
        "colab": {
          "base_uri": "https://localhost:8080/"
        },
        "outputId": "0a074175-72f0-4850-bd86-f5b6413e5955"
      },
      "execution_count": 7,
      "outputs": [
        {
          "output_type": "stream",
          "name": "stdout",
          "text": [
            "cuda\n"
          ]
        }
      ]
    },
    {
      "cell_type": "markdown",
      "source": [
        "#### 6. Write the training loop and train the model for 100 epochs. Print the training and validation accuracy and loss for each epoch. (35 points)"
      ],
      "metadata": {
        "id": "T8uSNlodMVw-"
      }
    },
    {
      "cell_type": "code",
      "source": [],
      "metadata": {
        "id": "e6VcmdcJE76P"
      },
      "execution_count": 7,
      "outputs": []
    },
    {
      "cell_type": "code",
      "source": [
        "def train_model(model, epochs, train_dataloader, validation_dataloader, criterion, optimizer):\n",
        "  model.train()\n",
        "  for epoch in range(epochs):\n",
        "    for current_data, current_dataloader  in [(\"TRAIN\", train_dataloader), (\"VALIDATION\", validation_dataloader)]:\n",
        "      total_loss = 0\n",
        "      total = 0\n",
        "      correct = 0\n",
        "      for images, labels in current_dataloader:\n",
        "        optimizer.zero_grad()\n",
        "        # data also needs to move to same device (in this case gpu)\n",
        "        images = images.to(device)\n",
        "        labels = labels.to(device)\n",
        "        outputs = model(images)\n",
        "        loss = criterion(outputs, labels)\n",
        "        if current_data == \"TRAIN\": # only when using training dataloader\n",
        "          loss.backward()\n",
        "          optimizer.step()\n",
        "        total_loss += loss.item() * images.size(0)\n",
        "        total += images.size(0)\n",
        "        _, preds = torch.max(outputs, 1) # preds is index of maximum found in each vector ouput \\element of ouputs\n",
        "        correct += (preds == labels).sum().item()\n",
        "      accuracy = correct / total\n",
        "      loss = total_loss / total\n",
        "      print(f\"{epoch} {current_data}: Accuracy = {accuracy}, Loss = {loss}\")\n",
        "\n",
        "epochs = 100\n",
        "train_model(model, epochs, train_dataloader, validation_dataloader, criterion, optimizer)"
      ],
      "metadata": {
        "id": "TdT8Mh_NgzEK",
        "colab": {
          "base_uri": "https://localhost:8080/"
        },
        "outputId": "edd2c657-aab2-4093-cea6-6b44da1eb00b"
      },
      "execution_count": 8,
      "outputs": [
        {
          "output_type": "stream",
          "name": "stdout",
          "text": [
            "0 TRAIN: Accuracy = 0.7834, Loss = 0.6471620740687847\n",
            "0 VALIDATION: Accuracy = 0.9465, Loss = 0.189068625664711\n",
            "1 TRAIN: Accuracy = 0.95664, Loss = 0.1465376280272007\n",
            "1 VALIDATION: Accuracy = 0.9534, Loss = 0.16041980398595332\n",
            "2 TRAIN: Accuracy = 0.97056, Loss = 0.10012527960941195\n",
            "2 VALIDATION: Accuracy = 0.9665, Loss = 0.11403801368251443\n",
            "3 TRAIN: Accuracy = 0.97746, Loss = 0.07510992875277996\n",
            "3 VALIDATION: Accuracy = 0.9679, Loss = 0.10538392783850431\n",
            "4 TRAIN: Accuracy = 0.98164, Loss = 0.060586594700552526\n",
            "4 VALIDATION: Accuracy = 0.9703, Loss = 0.11021530694328248\n",
            "5 TRAIN: Accuracy = 0.98542, Loss = 0.04686100335727446\n",
            "5 VALIDATION: Accuracy = 0.9722, Loss = 0.09911708828080446\n",
            "6 TRAIN: Accuracy = 0.98854, Loss = 0.03653769023457076\n",
            "6 VALIDATION: Accuracy = 0.9729, Loss = 0.09923934811912477\n",
            "7 TRAIN: Accuracy = 0.98998, Loss = 0.03250537044703262\n",
            "7 VALIDATION: Accuracy = 0.9694, Loss = 0.12057777505242266\n",
            "8 TRAIN: Accuracy = 0.99084, Loss = 0.028516112622206564\n",
            "8 VALIDATION: Accuracy = 0.9641, Loss = 0.1463750615338795\n",
            "9 TRAIN: Accuracy = 0.99188, Loss = 0.02550848589757923\n",
            "9 VALIDATION: Accuracy = 0.9682, Loss = 0.1286904692732729\n",
            "10 TRAIN: Accuracy = 0.99416, Loss = 0.0184249995206343\n",
            "10 VALIDATION: Accuracy = 0.9743, Loss = 0.10626194102012086\n",
            "11 TRAIN: Accuracy = 0.99544, Loss = 0.015101940839933523\n",
            "11 VALIDATION: Accuracy = 0.9701, Loss = 0.12313896975421812\n",
            "12 TRAIN: Accuracy = 0.99574, Loss = 0.013971686814253917\n",
            "12 VALIDATION: Accuracy = 0.9747, Loss = 0.11451006412935386\n",
            "13 TRAIN: Accuracy = 0.99522, Loss = 0.015239459008802077\n",
            "13 VALIDATION: Accuracy = 0.9775, Loss = 0.10648591491809348\n",
            "14 TRAIN: Accuracy = 0.99688, Loss = 0.010404383600178336\n",
            "14 VALIDATION: Accuracy = 0.9754, Loss = 0.11350414063500648\n",
            "15 TRAIN: Accuracy = 0.9976, Loss = 0.007826489268564765\n",
            "15 VALIDATION: Accuracy = 0.9733, Loss = 0.1465632776019047\n",
            "16 TRAIN: Accuracy = 0.9968, Loss = 0.010392256844783988\n",
            "16 VALIDATION: Accuracy = 0.9706, Loss = 0.1565274901260542\n",
            "17 TRAIN: Accuracy = 0.9959, Loss = 0.013326089059708938\n",
            "17 VALIDATION: Accuracy = 0.9752, Loss = 0.12130650852467224\n",
            "18 TRAIN: Accuracy = 0.99708, Loss = 0.009421218038268162\n",
            "18 VALIDATION: Accuracy = 0.9774, Loss = 0.11651993287630903\n",
            "19 TRAIN: Accuracy = 0.99876, Loss = 0.004495074291168749\n",
            "19 VALIDATION: Accuracy = 0.978, Loss = 0.11139708434071963\n",
            "20 TRAIN: Accuracy = 0.99878, Loss = 0.0036075795644824483\n",
            "20 VALIDATION: Accuracy = 0.9752, Loss = 0.13850337467403523\n",
            "21 TRAIN: Accuracy = 0.99856, Loss = 0.004344679431583272\n",
            "21 VALIDATION: Accuracy = 0.9713, Loss = 0.1559302271534746\n",
            "22 TRAIN: Accuracy = 0.99622, Loss = 0.011294350915684691\n",
            "22 VALIDATION: Accuracy = 0.9706, Loss = 0.1408122597645226\n",
            "23 TRAIN: Accuracy = 0.99658, Loss = 0.010902475522806744\n",
            "23 VALIDATION: Accuracy = 0.9764, Loss = 0.11945245025051991\n",
            "24 TRAIN: Accuracy = 0.99702, Loss = 0.008922239432575843\n",
            "24 VALIDATION: Accuracy = 0.9739, Loss = 0.14461805330098287\n",
            "25 TRAIN: Accuracy = 0.9976, Loss = 0.0089660732205143\n",
            "25 VALIDATION: Accuracy = 0.9772, Loss = 0.12262190336462336\n",
            "26 TRAIN: Accuracy = 0.99822, Loss = 0.006376358284655507\n",
            "26 VALIDATION: Accuracy = 0.9779, Loss = 0.11871238659089549\n",
            "27 TRAIN: Accuracy = 0.9985, Loss = 0.0042637230158926835\n",
            "27 VALIDATION: Accuracy = 0.9787, Loss = 0.12524564338470737\n",
            "28 TRAIN: Accuracy = 0.99944, Loss = 0.002160249493207589\n",
            "28 VALIDATION: Accuracy = 0.978, Loss = 0.1271717549367624\n",
            "29 TRAIN: Accuracy = 0.99974, Loss = 0.0010185356947571926\n",
            "29 VALIDATION: Accuracy = 0.9783, Loss = 0.13213503064236726\n",
            "30 TRAIN: Accuracy = 0.99992, Loss = 0.00038705083668389133\n",
            "30 VALIDATION: Accuracy = 0.9798, Loss = 0.12123917757354574\n",
            "31 TRAIN: Accuracy = 1.0, Loss = 0.00013272458499502776\n",
            "31 VALIDATION: Accuracy = 0.9804, Loss = 0.12147636257406962\n",
            "32 TRAIN: Accuracy = 1.0, Loss = 0.00010479702014735238\n",
            "32 VALIDATION: Accuracy = 0.9813, Loss = 0.12522750070298144\n",
            "33 TRAIN: Accuracy = 1.0, Loss = 9.20900807298662e-05\n",
            "33 VALIDATION: Accuracy = 0.9805, Loss = 0.1281870352486797\n",
            "34 TRAIN: Accuracy = 1.0, Loss = 8.632388034778516e-05\n",
            "34 VALIDATION: Accuracy = 0.9806, Loss = 0.12702835126700832\n",
            "35 TRAIN: Accuracy = 1.0, Loss = 6.647238919048788e-05\n",
            "35 VALIDATION: Accuracy = 0.9818, Loss = 0.12843945602780354\n",
            "36 TRAIN: Accuracy = 1.0, Loss = 5.382171568633396e-05\n",
            "36 VALIDATION: Accuracy = 0.9809, Loss = 0.13441203873228133\n",
            "37 TRAIN: Accuracy = 1.0, Loss = 5.922771011857194e-05\n",
            "37 VALIDATION: Accuracy = 0.9806, Loss = 0.12842232028343978\n",
            "38 TRAIN: Accuracy = 1.0, Loss = 5.739354591131786e-05\n",
            "38 VALIDATION: Accuracy = 0.9813, Loss = 0.13267659885979033\n",
            "39 TRAIN: Accuracy = 1.0, Loss = 5.957988974319349e-05\n",
            "39 VALIDATION: Accuracy = 0.9807, Loss = 0.12939821968999246\n",
            "40 TRAIN: Accuracy = 1.0, Loss = 4.477759407562203e-05\n",
            "40 VALIDATION: Accuracy = 0.9806, Loss = 0.1298963470876399\n",
            "41 TRAIN: Accuracy = 1.0, Loss = 4.5050152790961846e-05\n",
            "41 VALIDATION: Accuracy = 0.9812, Loss = 0.13224515417809854\n",
            "42 TRAIN: Accuracy = 0.99998, Loss = 8.492969846228633e-05\n",
            "42 VALIDATION: Accuracy = 0.9804, Loss = 0.13714531048939843\n",
            "43 TRAIN: Accuracy = 0.99998, Loss = 0.0001266213371263423\n",
            "43 VALIDATION: Accuracy = 0.981, Loss = 0.13440007469462584\n",
            "44 TRAIN: Accuracy = 1.0, Loss = 3.955318558776099e-05\n",
            "44 VALIDATION: Accuracy = 0.9809, Loss = 0.13278597248338503\n",
            "45 TRAIN: Accuracy = 1.0, Loss = 3.8072844471646904e-05\n",
            "45 VALIDATION: Accuracy = 0.9809, Loss = 0.13900712562975856\n",
            "46 TRAIN: Accuracy = 1.0, Loss = 4.1356237536862747e-05\n",
            "46 VALIDATION: Accuracy = 0.9809, Loss = 0.13706738837306381\n",
            "47 TRAIN: Accuracy = 1.0, Loss = 4.767383069900546e-05\n",
            "47 VALIDATION: Accuracy = 0.9804, Loss = 0.1351713361334882\n",
            "48 TRAIN: Accuracy = 1.0, Loss = 3.2538077435447403e-05\n",
            "48 VALIDATION: Accuracy = 0.9818, Loss = 0.1385443751021494\n",
            "49 TRAIN: Accuracy = 1.0, Loss = 3.6462232789503444e-05\n",
            "49 VALIDATION: Accuracy = 0.9805, Loss = 0.13868758784570054\n",
            "50 TRAIN: Accuracy = 1.0, Loss = 3.355132005533704e-05\n",
            "50 VALIDATION: Accuracy = 0.9808, Loss = 0.13527651180139022\n",
            "51 TRAIN: Accuracy = 1.0, Loss = 2.4481921176857356e-05\n",
            "51 VALIDATION: Accuracy = 0.9812, Loss = 0.13484617794542472\n",
            "52 TRAIN: Accuracy = 1.0, Loss = 3.1238748108098806e-05\n",
            "52 VALIDATION: Accuracy = 0.9812, Loss = 0.1361389490458622\n",
            "53 TRAIN: Accuracy = 1.0, Loss = 2.6942479385721895e-05\n",
            "53 VALIDATION: Accuracy = 0.9809, Loss = 0.13959408114355054\n",
            "54 TRAIN: Accuracy = 1.0, Loss = 2.4715326904731258e-05\n",
            "54 VALIDATION: Accuracy = 0.9815, Loss = 0.13824929346689757\n",
            "55 TRAIN: Accuracy = 1.0, Loss = 2.489031614849779e-05\n",
            "55 VALIDATION: Accuracy = 0.9812, Loss = 0.13818875578263587\n",
            "56 TRAIN: Accuracy = 1.0, Loss = 2.449901498099521e-05\n",
            "56 VALIDATION: Accuracy = 0.9806, Loss = 0.139649479216946\n",
            "57 TRAIN: Accuracy = 1.0, Loss = 2.846943991850665e-05\n",
            "57 VALIDATION: Accuracy = 0.9809, Loss = 0.14031324839713533\n",
            "58 TRAIN: Accuracy = 1.0, Loss = 2.0064919020290688e-05\n",
            "58 VALIDATION: Accuracy = 0.9811, Loss = 0.14597230978520376\n",
            "59 TRAIN: Accuracy = 1.0, Loss = 1.669606366720288e-05\n",
            "59 VALIDATION: Accuracy = 0.9815, Loss = 0.1401910878289153\n",
            "60 TRAIN: Accuracy = 1.0, Loss = 1.5769952628211853e-05\n",
            "60 VALIDATION: Accuracy = 0.9812, Loss = 0.1378831990499607\n",
            "61 TRAIN: Accuracy = 1.0, Loss = 1.5759193489281955e-05\n",
            "61 VALIDATION: Accuracy = 0.9818, Loss = 0.1423044667857407\n",
            "62 TRAIN: Accuracy = 1.0, Loss = 1.5301221714585152e-05\n",
            "62 VALIDATION: Accuracy = 0.9806, Loss = 0.14756911408788997\n",
            "63 TRAIN: Accuracy = 1.0, Loss = 1.810723644052686e-05\n",
            "63 VALIDATION: Accuracy = 0.9808, Loss = 0.14431211041368805\n",
            "64 TRAIN: Accuracy = 1.0, Loss = 1.892110168424523e-05\n",
            "64 VALIDATION: Accuracy = 0.9821, Loss = 0.13961041738496896\n",
            "65 TRAIN: Accuracy = 1.0, Loss = 2.1581479684620034e-05\n",
            "65 VALIDATION: Accuracy = 0.981, Loss = 0.149454204113929\n",
            "66 TRAIN: Accuracy = 1.0, Loss = 2.3401134649234337e-05\n",
            "66 VALIDATION: Accuracy = 0.9806, Loss = 0.1479023486246792\n",
            "67 TRAIN: Accuracy = 1.0, Loss = 1.5304990973765626e-05\n",
            "67 VALIDATION: Accuracy = 0.9815, Loss = 0.14999486883334642\n",
            "68 TRAIN: Accuracy = 1.0, Loss = 1.3229043051557738e-05\n",
            "68 VALIDATION: Accuracy = 0.9816, Loss = 0.14420102350439234\n",
            "69 TRAIN: Accuracy = 1.0, Loss = 1.086089562399863e-05\n",
            "69 VALIDATION: Accuracy = 0.9813, Loss = 0.14762700160261127\n",
            "70 TRAIN: Accuracy = 1.0, Loss = 1.628311461550197e-05\n",
            "70 VALIDATION: Accuracy = 0.9813, Loss = 0.14881882886123102\n",
            "71 TRAIN: Accuracy = 1.0, Loss = 1.5414421751860203e-05\n",
            "71 VALIDATION: Accuracy = 0.9809, Loss = 0.14452926851787182\n",
            "72 TRAIN: Accuracy = 1.0, Loss = 1.5781833592900368e-05\n",
            "72 VALIDATION: Accuracy = 0.9808, Loss = 0.1452973968895402\n",
            "73 TRAIN: Accuracy = 1.0, Loss = 1.4516565870724066e-05\n",
            "73 VALIDATION: Accuracy = 0.9821, Loss = 0.1499174722057852\n",
            "74 TRAIN: Accuracy = 1.0, Loss = 1.2786674394449164e-05\n",
            "74 VALIDATION: Accuracy = 0.9816, Loss = 0.1486281467876305\n",
            "75 TRAIN: Accuracy = 1.0, Loss = 1.3340231403422109e-05\n",
            "75 VALIDATION: Accuracy = 0.9815, Loss = 0.1445053490162548\n",
            "76 TRAIN: Accuracy = 1.0, Loss = 2.267678272812134e-05\n",
            "76 VALIDATION: Accuracy = 0.9812, Loss = 0.14645456964778977\n",
            "77 TRAIN: Accuracy = 1.0, Loss = 1.2998054166577617e-05\n",
            "77 VALIDATION: Accuracy = 0.9816, Loss = 0.14713428233011241\n",
            "78 TRAIN: Accuracy = 1.0, Loss = 8.349677940510105e-06\n",
            "78 VALIDATION: Accuracy = 0.9801, Loss = 0.14738049006485304\n",
            "79 TRAIN: Accuracy = 1.0, Loss = 1.422423493885347e-05\n",
            "79 VALIDATION: Accuracy = 0.9817, Loss = 0.14815948596097384\n",
            "80 TRAIN: Accuracy = 1.0, Loss = 1.1559920780149043e-05\n",
            "80 VALIDATION: Accuracy = 0.9807, Loss = 0.14810096877689347\n",
            "81 TRAIN: Accuracy = 1.0, Loss = 1.2151348369166328e-05\n",
            "81 VALIDATION: Accuracy = 0.9799, Loss = 0.15463716999433638\n",
            "82 TRAIN: Accuracy = 1.0, Loss = 1.0317774235304142e-05\n",
            "82 VALIDATION: Accuracy = 0.981, Loss = 0.14967685606547845\n",
            "83 TRAIN: Accuracy = 1.0, Loss = 1.040705801547972e-05\n",
            "83 VALIDATION: Accuracy = 0.9808, Loss = 0.15255020481292622\n",
            "84 TRAIN: Accuracy = 1.0, Loss = 1.5113855634368178e-05\n",
            "84 VALIDATION: Accuracy = 0.9813, Loss = 0.1524502002349719\n",
            "85 TRAIN: Accuracy = 1.0, Loss = 1.0012039278457792e-05\n",
            "85 VALIDATION: Accuracy = 0.9813, Loss = 0.15224304167290678\n",
            "86 TRAIN: Accuracy = 1.0, Loss = 1.0912435749821725e-05\n",
            "86 VALIDATION: Accuracy = 0.9811, Loss = 0.1506999395912639\n",
            "87 TRAIN: Accuracy = 1.0, Loss = 1.2319604044264736e-05\n",
            "87 VALIDATION: Accuracy = 0.981, Loss = 0.15471333893415282\n",
            "88 TRAIN: Accuracy = 1.0, Loss = 1.0747509927029171e-05\n",
            "88 VALIDATION: Accuracy = 0.9807, Loss = 0.15344752996783873\n",
            "89 TRAIN: Accuracy = 1.0, Loss = 1.1861283925514242e-05\n",
            "89 VALIDATION: Accuracy = 0.9815, Loss = 0.150234623929448\n",
            "90 TRAIN: Accuracy = 1.0, Loss = 1.2842537476470994e-05\n",
            "90 VALIDATION: Accuracy = 0.981, Loss = 0.15343615331076144\n",
            "91 TRAIN: Accuracy = 1.0, Loss = 9.969147375174856e-06\n",
            "91 VALIDATION: Accuracy = 0.9815, Loss = 0.15171232959649072\n",
            "92 TRAIN: Accuracy = 1.0, Loss = 1.0203481031411883e-05\n",
            "92 VALIDATION: Accuracy = 0.9812, Loss = 0.14994607397089957\n",
            "93 TRAIN: Accuracy = 1.0, Loss = 1.3204227885329232e-05\n",
            "93 VALIDATION: Accuracy = 0.9812, Loss = 0.15477784711303164\n",
            "94 TRAIN: Accuracy = 1.0, Loss = 1.283242804199645e-05\n",
            "94 VALIDATION: Accuracy = 0.9808, Loss = 0.1520099797951461\n",
            "95 TRAIN: Accuracy = 1.0, Loss = 1.3383836294560467e-05\n",
            "95 VALIDATION: Accuracy = 0.9815, Loss = 0.15269454675180452\n",
            "96 TRAIN: Accuracy = 1.0, Loss = 9.700835725443114e-06\n",
            "96 VALIDATION: Accuracy = 0.9805, Loss = 0.15257292358792524\n",
            "97 TRAIN: Accuracy = 1.0, Loss = 8.440992261517976e-06\n",
            "97 VALIDATION: Accuracy = 0.9814, Loss = 0.1559885258397238\n",
            "98 TRAIN: Accuracy = 1.0, Loss = 8.281642480397125e-06\n",
            "98 VALIDATION: Accuracy = 0.9809, Loss = 0.15387976363625072\n",
            "99 TRAIN: Accuracy = 1.0, Loss = 1.0483409815200987e-05\n",
            "99 VALIDATION: Accuracy = 0.9812, Loss = 0.15338673966013636\n"
          ]
        }
      ]
    },
    {
      "cell_type": "markdown",
      "source": [
        "####6. Test the model using the `test_dataset`, and report accuracy and loss. (10 points)"
      ],
      "metadata": {
        "id": "MSDr2VB9Q0uA"
      }
    },
    {
      "cell_type": "code",
      "source": [
        "def evaluate_model(model, test_dataloader):\n",
        "  model.eval()\n",
        "  total_loss = 0\n",
        "  total = 0\n",
        "  correct = 0\n",
        "  for images, labels in test_dataloader:\n",
        "    images, labels = images.to(device), labels.to(device)\n",
        "    with torch.no_grad():\n",
        "      outputs = model(images)\n",
        "      loss = criterion(outputs, labels)\n",
        "      total_loss += loss.item() * images.size(0)\n",
        "      total += images.size(0)\n",
        "      _, preds = torch.max(outputs, 1) # preds is index of maximum found in each vector ouput \\element of ouputs\n",
        "      correct += (preds == labels).sum().item()\n",
        "  accuracy = correct / total\n",
        "  loss = total_loss / total\n",
        "  print(f\"TEST: Accuracy = {accuracy}, Loss = {loss}\")\n",
        "\n",
        "evaluate_model(model, test_dataloader)"
      ],
      "metadata": {
        "id": "Njcfq-uZLriH",
        "colab": {
          "base_uri": "https://localhost:8080/"
        },
        "outputId": "9c12c788-d157-42fc-eb8a-1c7ca485b649"
      },
      "execution_count": 9,
      "outputs": [
        {
          "output_type": "stream",
          "name": "stdout",
          "text": [
            "TEST: Accuracy = 0.9835, Loss = 0.14146355858886092\n"
          ]
        }
      ]
    },
    {
      "cell_type": "markdown",
      "source": [
        "#### 8. We would like to see how accurate the trained model is when applied to a set of images of digits with slight differences. The image of a digit in the MNIST dataset has a black background (0 value for pixel values). This might be like writing with white chalk on a blackboard. We make slight changes in the test datasets by applying a simple change `image = 1 - image`. In other words, we invert the pixel intensity values. The resulting images resemble a digit written with a black marker on a whiteboard. Test the model using the updated test_dataset, and report your observations regarding model performance. How would you change your pipeline if you redo this experiment? (15 points)"
      ],
      "metadata": {
        "id": "Mx9bidatV5RT"
      }
    },
    {
      "cell_type": "code",
      "source": [
        "new_transform = transforms.Compose([transforms.ToTensor(), lambda image : 1-image])\n",
        "new_test_dataset = datasets.MNIST(root='data', train = False, transform=new_transform, download = True)\n",
        "new_test_dataloader = DataLoader(new_test_dataset, batch_size = 32, shuffle = True)\n",
        "evaluate_model(model, new_test_dataloader)"
      ],
      "metadata": {
        "id": "tWL4gwwlTgOl",
        "colab": {
          "base_uri": "https://localhost:8080/"
        },
        "outputId": "0cc43216-7e59-432f-8691-0cf938ec842a"
      },
      "execution_count": 11,
      "outputs": [
        {
          "output_type": "stream",
          "name": "stdout",
          "text": [
            "TEST: Accuracy = 0.0688, Loss = 17.06925329284668\n"
          ]
        }
      ]
    },
    {
      "cell_type": "markdown",
      "source": [
        "**8: observations**\n",
        "\n",
        "Observing the result above the accuracy of roughly 7% is not good, when images are inverted. The model returns accurate values only for non-inverted images.\n",
        "\n",
        "**8: how would i change my pipeline to re-do the experiment?**\n",
        "\n",
        "The model was not trained to handle inverted images. Therefore, image augmentation can come into a play during the training phase.\n",
        "While passing always the inverted image to the training model most likely causes the model to have low accuracy the moment it is tested and evaluated with non-inverted images, occasionally augmenting or not-augmenting an image in a probabilistic manner is the idea.\n",
        "\n",
        "Therefore, the **transform** parameter when creating `train_dataset` is a composition of function which will include an additional function. That such additional function will either return the same image or invert the image on a probability basis."
      ],
      "metadata": {
        "id": "NU08pyd3FSJN"
      }
    },
    {
      "cell_type": "code",
      "source": [
        "from random import random\n",
        "transform = transforms.Compose([transforms.ToTensor(), lambda image: 1-image if random() < 0.5 else image]) # image is augmented or original half of the times each\n",
        "train_data = datasets.MNIST(root='data', train = True, transform=transform, download = True)\n",
        "test_dataset = datasets.MNIST(root='data', train = False, transform=transform, download = True)\n",
        "train_dataset, validation_dataset = random_split(train_data, [50000, 10000], generator=torch.Generator().manual_seed(42))\n",
        "\n",
        "train_dataloader = DataLoader(train_dataset, batch_size = 32, shuffle = True)\n",
        "test_dataloader = DataLoader(test_dataset, batch_size = 32, shuffle = True)\n",
        "validation_dataloader = DataLoader(validation_dataset, batch_size = 32, shuffle = True)\n",
        "\n",
        "flattened_image_shape = 1*28*28\n",
        "model = initialize_model(flattened_image_shape)\n",
        "criterion, optimizer, device, model = initialize_componenets(model)\n",
        "\n",
        "print(\"---------------------------MODEL GOING TO BE TRAINED\")\n",
        "epochs = 100\n",
        "train_model(model, epochs, train_dataloader, validation_dataloader, criterion, optimizer)\n",
        "\n",
        "print(\"\\n---------------------------MODEL GOING TO BE TESTED\")\n",
        "evaluate_model(model, test_dataloader) # model tests with a mixture of inverted and non-inverted images"
      ],
      "metadata": {
        "id": "5e8cG1-JTDvd",
        "outputId": "8e7dfcc3-b8b6-4fed-f06b-1c1820be4d9c",
        "colab": {
          "base_uri": "https://localhost:8080/"
        }
      },
      "execution_count": 13,
      "outputs": [
        {
          "output_type": "stream",
          "name": "stdout",
          "text": [
            "cuda\n",
            "---------------------------MODEL GOING TO BE TRAINED\n",
            "0 TRAIN: Accuracy = 0.62674, Loss = 1.0688356064987183\n",
            "0 VALIDATION: Accuracy = 0.861, Loss = 0.4586121523618698\n",
            "1 TRAIN: Accuracy = 0.88878, Loss = 0.3634404557991028\n",
            "1 VALIDATION: Accuracy = 0.9081, Loss = 0.3169462372541428\n",
            "2 TRAIN: Accuracy = 0.91922, Loss = 0.27005727748274805\n",
            "2 VALIDATION: Accuracy = 0.9153, Loss = 0.30177380818128585\n",
            "3 TRAIN: Accuracy = 0.9331, Loss = 0.22273350422680377\n",
            "3 VALIDATION: Accuracy = 0.936, Loss = 0.20992755261063575\n",
            "4 TRAIN: Accuracy = 0.94322, Loss = 0.18765878173619507\n",
            "4 VALIDATION: Accuracy = 0.9453, Loss = 0.1864306109651923\n",
            "5 TRAIN: Accuracy = 0.94774, Loss = 0.17288389999091625\n",
            "5 VALIDATION: Accuracy = 0.9394, Loss = 0.2044623752504587\n",
            "6 TRAIN: Accuracy = 0.95272, Loss = 0.15720064076691867\n",
            "6 VALIDATION: Accuracy = 0.9561, Loss = 0.14767234534919263\n",
            "7 TRAIN: Accuracy = 0.95642, Loss = 0.1422539631064236\n",
            "7 VALIDATION: Accuracy = 0.9464, Loss = 0.18599360574781895\n",
            "8 TRAIN: Accuracy = 0.95974, Loss = 0.13386371990852058\n",
            "8 VALIDATION: Accuracy = 0.9551, Loss = 0.16093281904011963\n",
            "9 TRAIN: Accuracy = 0.9629, Loss = 0.12164671477727591\n",
            "9 VALIDATION: Accuracy = 0.9555, Loss = 0.16311053715758025\n",
            "10 TRAIN: Accuracy = 0.96628, Loss = 0.1125559527041018\n",
            "10 VALIDATION: Accuracy = 0.9528, Loss = 0.1577553336404264\n",
            "11 TRAIN: Accuracy = 0.96728, Loss = 0.10747108160212636\n",
            "11 VALIDATION: Accuracy = 0.9536, Loss = 0.15950117176249623\n",
            "12 TRAIN: Accuracy = 0.9672, Loss = 0.10693864314313978\n",
            "12 VALIDATION: Accuracy = 0.9611, Loss = 0.14305314032286406\n",
            "13 TRAIN: Accuracy = 0.97204, Loss = 0.09258235565811396\n",
            "13 VALIDATION: Accuracy = 0.9623, Loss = 0.13030063854791224\n",
            "14 TRAIN: Accuracy = 0.97014, Loss = 0.09599549783084542\n",
            "14 VALIDATION: Accuracy = 0.9633, Loss = 0.13888255898021162\n",
            "15 TRAIN: Accuracy = 0.97138, Loss = 0.0921815049187094\n",
            "15 VALIDATION: Accuracy = 0.9618, Loss = 0.14352731444668024\n",
            "16 TRAIN: Accuracy = 0.97454, Loss = 0.08376959129596129\n",
            "16 VALIDATION: Accuracy = 0.9573, Loss = 0.1616273270143196\n",
            "17 TRAIN: Accuracy = 0.97608, Loss = 0.07954118904815986\n",
            "17 VALIDATION: Accuracy = 0.9624, Loss = 0.14629652889817954\n",
            "18 TRAIN: Accuracy = 0.97562, Loss = 0.08130232164599001\n",
            "18 VALIDATION: Accuracy = 0.9626, Loss = 0.14661502320803702\n",
            "19 TRAIN: Accuracy = 0.97808, Loss = 0.07350417928055861\n",
            "19 VALIDATION: Accuracy = 0.9673, Loss = 0.12257214022837579\n",
            "20 TRAIN: Accuracy = 0.97832, Loss = 0.07132339590760879\n",
            "20 VALIDATION: Accuracy = 0.9684, Loss = 0.12082626685267314\n",
            "21 TRAIN: Accuracy = 0.97952, Loss = 0.06920379894446582\n",
            "21 VALIDATION: Accuracy = 0.9647, Loss = 0.12877605131305755\n",
            "22 TRAIN: Accuracy = 0.9795, Loss = 0.06766984573595226\n",
            "22 VALIDATION: Accuracy = 0.966, Loss = 0.13200047282846644\n",
            "23 TRAIN: Accuracy = 0.97882, Loss = 0.06914580356440507\n",
            "23 VALIDATION: Accuracy = 0.9627, Loss = 0.14466466390956192\n",
            "24 TRAIN: Accuracy = 0.98114, Loss = 0.06417917472121305\n",
            "24 VALIDATION: Accuracy = 0.9665, Loss = 0.12708943109475077\n",
            "25 TRAIN: Accuracy = 0.9811, Loss = 0.06245605658541434\n",
            "25 VALIDATION: Accuracy = 0.9599, Loss = 0.15545767570743338\n",
            "26 TRAIN: Accuracy = 0.98236, Loss = 0.05829712642534636\n",
            "26 VALIDATION: Accuracy = 0.967, Loss = 0.13060294641526415\n",
            "27 TRAIN: Accuracy = 0.98106, Loss = 0.06082637842032127\n",
            "27 VALIDATION: Accuracy = 0.9709, Loss = 0.11591855919864029\n",
            "28 TRAIN: Accuracy = 0.98226, Loss = 0.05631757462464273\n",
            "28 VALIDATION: Accuracy = 0.9739, Loss = 0.11407406643488212\n",
            "29 TRAIN: Accuracy = 0.98184, Loss = 0.058699823689833286\n",
            "29 VALIDATION: Accuracy = 0.9642, Loss = 0.13604228135133162\n",
            "30 TRAIN: Accuracy = 0.98332, Loss = 0.053794464180893266\n",
            "30 VALIDATION: Accuracy = 0.9694, Loss = 0.12112351031452417\n",
            "31 TRAIN: Accuracy = 0.98334, Loss = 0.055449271038770676\n",
            "31 VALIDATION: Accuracy = 0.9713, Loss = 0.12206947938792873\n",
            "32 TRAIN: Accuracy = 0.98308, Loss = 0.054467255293857306\n",
            "32 VALIDATION: Accuracy = 0.9685, Loss = 0.12730372951294994\n",
            "33 TRAIN: Accuracy = 0.98494, Loss = 0.051403354548052886\n",
            "33 VALIDATION: Accuracy = 0.9717, Loss = 0.11561293324120343\n",
            "34 TRAIN: Accuracy = 0.98448, Loss = 0.052944861101433635\n",
            "34 VALIDATION: Accuracy = 0.9686, Loss = 0.13737964814943263\n",
            "35 TRAIN: Accuracy = 0.98504, Loss = 0.048743531109029424\n",
            "35 VALIDATION: Accuracy = 0.9718, Loss = 0.11718068544089329\n",
            "36 TRAIN: Accuracy = 0.98642, Loss = 0.04523572942511295\n",
            "36 VALIDATION: Accuracy = 0.9686, Loss = 0.12945863989922218\n",
            "37 TRAIN: Accuracy = 0.98664, Loss = 0.04183248867324088\n",
            "37 VALIDATION: Accuracy = 0.9695, Loss = 0.13368704701415263\n",
            "38 TRAIN: Accuracy = 0.98624, Loss = 0.046225467381650814\n",
            "38 VALIDATION: Accuracy = 0.9607, Loss = 0.17216803629994393\n",
            "39 TRAIN: Accuracy = 0.98672, Loss = 0.04287041644565063\n",
            "39 VALIDATION: Accuracy = 0.9707, Loss = 0.1258095249723876\n",
            "40 TRAIN: Accuracy = 0.9867, Loss = 0.04285852368456428\n",
            "40 VALIDATION: Accuracy = 0.9722, Loss = 0.12021706609132234\n",
            "41 TRAIN: Accuracy = 0.98678, Loss = 0.04180885381520959\n",
            "41 VALIDATION: Accuracy = 0.9719, Loss = 0.12097190700359642\n",
            "42 TRAIN: Accuracy = 0.98746, Loss = 0.041028224251735954\n",
            "42 VALIDATION: Accuracy = 0.9739, Loss = 0.11652842392914463\n",
            "43 TRAIN: Accuracy = 0.9881, Loss = 0.04059431082164636\n",
            "43 VALIDATION: Accuracy = 0.9582, Loss = 0.18073977891262621\n",
            "44 TRAIN: Accuracy = 0.98776, Loss = 0.03933856553038117\n",
            "44 VALIDATION: Accuracy = 0.9664, Loss = 0.15736410100385548\n",
            "45 TRAIN: Accuracy = 0.98738, Loss = 0.0396450607884131\n",
            "45 VALIDATION: Accuracy = 0.9676, Loss = 0.12922403494268656\n",
            "46 TRAIN: Accuracy = 0.9871, Loss = 0.04085794531541527\n",
            "46 VALIDATION: Accuracy = 0.9739, Loss = 0.12715173938907684\n",
            "47 TRAIN: Accuracy = 0.98762, Loss = 0.03992125203392294\n",
            "47 VALIDATION: Accuracy = 0.9709, Loss = 0.13056524584556464\n",
            "48 TRAIN: Accuracy = 0.98902, Loss = 0.03572431252819544\n",
            "48 VALIDATION: Accuracy = 0.9716, Loss = 0.12443865878920769\n",
            "49 TRAIN: Accuracy = 0.98832, Loss = 0.03685629637721926\n",
            "49 VALIDATION: Accuracy = 0.9747, Loss = 0.11970379595690174\n",
            "50 TRAIN: Accuracy = 0.9893, Loss = 0.03582032711388427\n",
            "50 VALIDATION: Accuracy = 0.9721, Loss = 0.13270810264950997\n",
            "51 TRAIN: Accuracy = 0.98916, Loss = 0.035042999520581215\n",
            "51 VALIDATION: Accuracy = 0.9713, Loss = 0.13365244463440032\n",
            "52 TRAIN: Accuracy = 0.98906, Loss = 0.03656685965750716\n",
            "52 VALIDATION: Accuracy = 0.9676, Loss = 0.1419510392725002\n",
            "53 TRAIN: Accuracy = 0.98886, Loss = 0.03503000496173219\n",
            "53 VALIDATION: Accuracy = 0.9684, Loss = 0.15088866873173976\n",
            "54 TRAIN: Accuracy = 0.98926, Loss = 0.03462709585483826\n",
            "54 VALIDATION: Accuracy = 0.9736, Loss = 0.12200573209251743\n",
            "55 TRAIN: Accuracy = 0.98964, Loss = 0.032701348777546664\n",
            "55 VALIDATION: Accuracy = 0.9733, Loss = 0.12184743692966876\n",
            "56 TRAIN: Accuracy = 0.99052, Loss = 0.031221157818661888\n",
            "56 VALIDATION: Accuracy = 0.9755, Loss = 0.12734917060019216\n",
            "57 TRAIN: Accuracy = 0.98954, Loss = 0.034532713015250044\n",
            "57 VALIDATION: Accuracy = 0.9696, Loss = 0.15093065633154473\n",
            "58 TRAIN: Accuracy = 0.98934, Loss = 0.03359655778794491\n",
            "58 VALIDATION: Accuracy = 0.972, Loss = 0.13973510407293216\n",
            "59 TRAIN: Accuracy = 0.99028, Loss = 0.031182547242167638\n",
            "59 VALIDATION: Accuracy = 0.9749, Loss = 0.12001426009758143\n",
            "60 TRAIN: Accuracy = 0.98892, Loss = 0.036302993578968455\n",
            "60 VALIDATION: Accuracy = 0.9742, Loss = 0.12298353182910941\n",
            "61 TRAIN: Accuracy = 0.99054, Loss = 0.030992668998574373\n",
            "61 VALIDATION: Accuracy = 0.9731, Loss = 0.1325905247560935\n",
            "62 TRAIN: Accuracy = 0.99078, Loss = 0.028835850609204145\n",
            "62 VALIDATION: Accuracy = 0.9731, Loss = 0.1220227009024471\n",
            "63 TRAIN: Accuracy = 0.99034, Loss = 0.03153770878933574\n",
            "63 VALIDATION: Accuracy = 0.9665, Loss = 0.164259187100525\n",
            "64 TRAIN: Accuracy = 0.99028, Loss = 0.031463007259948064\n",
            "64 VALIDATION: Accuracy = 0.9765, Loss = 0.1276718088980182\n",
            "65 TRAIN: Accuracy = 0.99044, Loss = 0.029872242872900096\n",
            "65 VALIDATION: Accuracy = 0.9747, Loss = 0.12445778610584675\n",
            "66 TRAIN: Accuracy = 0.99124, Loss = 0.027622936726855986\n",
            "66 VALIDATION: Accuracy = 0.9722, Loss = 0.13508546493817702\n",
            "67 TRAIN: Accuracy = 0.9902, Loss = 0.031806477979452755\n",
            "67 VALIDATION: Accuracy = 0.972, Loss = 0.13823295754744905\n",
            "68 TRAIN: Accuracy = 0.99064, Loss = 0.029798089008028036\n",
            "68 VALIDATION: Accuracy = 0.9739, Loss = 0.1416934410727059\n",
            "69 TRAIN: Accuracy = 0.98986, Loss = 0.03418157726460471\n",
            "69 VALIDATION: Accuracy = 0.9724, Loss = 0.13640403969725595\n",
            "70 TRAIN: Accuracy = 0.99152, Loss = 0.02731308410312515\n",
            "70 VALIDATION: Accuracy = 0.9733, Loss = 0.12600247282281635\n",
            "71 TRAIN: Accuracy = 0.993, Loss = 0.02361309152198577\n",
            "71 VALIDATION: Accuracy = 0.9741, Loss = 0.12776920739104244\n",
            "72 TRAIN: Accuracy = 0.99198, Loss = 0.025617812431651982\n",
            "72 VALIDATION: Accuracy = 0.9693, Loss = 0.1518512907982571\n",
            "73 TRAIN: Accuracy = 0.99136, Loss = 0.026518862563973816\n",
            "73 VALIDATION: Accuracy = 0.9686, Loss = 0.1482791683897376\n",
            "74 TRAIN: Accuracy = 0.99236, Loss = 0.02525758630939461\n",
            "74 VALIDATION: Accuracy = 0.9764, Loss = 0.1265587899601669\n",
            "75 TRAIN: Accuracy = 0.9925, Loss = 0.024061790795083724\n",
            "75 VALIDATION: Accuracy = 0.9731, Loss = 0.1431723534870893\n",
            "76 TRAIN: Accuracy = 0.99244, Loss = 0.022975786157727926\n",
            "76 VALIDATION: Accuracy = 0.9737, Loss = 0.14629846458310566\n",
            "77 TRAIN: Accuracy = 0.9903, Loss = 0.02985734224482585\n",
            "77 VALIDATION: Accuracy = 0.9752, Loss = 0.12985643548055814\n",
            "78 TRAIN: Accuracy = 0.99212, Loss = 0.025929494297409983\n",
            "78 VALIDATION: Accuracy = 0.9744, Loss = 0.1357729537027306\n",
            "79 TRAIN: Accuracy = 0.99122, Loss = 0.02739337221723137\n",
            "79 VALIDATION: Accuracy = 0.9734, Loss = 0.1413568720102543\n",
            "80 TRAIN: Accuracy = 0.99284, Loss = 0.021385307142207603\n",
            "80 VALIDATION: Accuracy = 0.976, Loss = 0.13813891528168898\n",
            "81 TRAIN: Accuracy = 0.99228, Loss = 0.023955405573378084\n",
            "81 VALIDATION: Accuracy = 0.9721, Loss = 0.15406411610087162\n",
            "82 TRAIN: Accuracy = 0.99332, Loss = 0.02224496548399642\n",
            "82 VALIDATION: Accuracy = 0.9724, Loss = 0.13931619446251134\n",
            "83 TRAIN: Accuracy = 0.99212, Loss = 0.02517649502205837\n",
            "83 VALIDATION: Accuracy = 0.9717, Loss = 0.1529584223148966\n",
            "84 TRAIN: Accuracy = 0.99302, Loss = 0.0219598127352327\n",
            "84 VALIDATION: Accuracy = 0.9764, Loss = 0.12847693753846615\n",
            "85 TRAIN: Accuracy = 0.99424, Loss = 0.019427897992289764\n",
            "85 VALIDATION: Accuracy = 0.9758, Loss = 0.14377204471202512\n",
            "86 TRAIN: Accuracy = 0.99184, Loss = 0.02547748791049351\n",
            "86 VALIDATION: Accuracy = 0.9729, Loss = 0.15085228515482157\n",
            "87 TRAIN: Accuracy = 0.99238, Loss = 0.0247218338466523\n",
            "87 VALIDATION: Accuracy = 0.9757, Loss = 0.12804676901659695\n",
            "88 TRAIN: Accuracy = 0.99284, Loss = 0.02162876316706661\n",
            "88 VALIDATION: Accuracy = 0.9763, Loss = 0.12698684367683963\n",
            "89 TRAIN: Accuracy = 0.99342, Loss = 0.021045796265250136\n",
            "89 VALIDATION: Accuracy = 0.9761, Loss = 0.13525567138507613\n",
            "90 TRAIN: Accuracy = 0.99256, Loss = 0.02449918769517011\n",
            "90 VALIDATION: Accuracy = 0.9756, Loss = 0.1338605382153939\n",
            "91 TRAIN: Accuracy = 0.99476, Loss = 0.016722410286524318\n",
            "91 VALIDATION: Accuracy = 0.974, Loss = 0.14196173143206398\n",
            "92 TRAIN: Accuracy = 0.99298, Loss = 0.023731566731604616\n",
            "92 VALIDATION: Accuracy = 0.9781, Loss = 0.1242211777159493\n",
            "93 TRAIN: Accuracy = 0.9943, Loss = 0.01779469756112656\n",
            "93 VALIDATION: Accuracy = 0.9732, Loss = 0.14455862063636013\n",
            "94 TRAIN: Accuracy = 0.99304, Loss = 0.022742598201810398\n",
            "94 VALIDATION: Accuracy = 0.9756, Loss = 0.13478035503736463\n",
            "95 TRAIN: Accuracy = 0.9937, Loss = 0.02173866764880746\n",
            "95 VALIDATION: Accuracy = 0.972, Loss = 0.15003223763789503\n",
            "96 TRAIN: Accuracy = 0.9933, Loss = 0.02193548394273188\n",
            "96 VALIDATION: Accuracy = 0.9732, Loss = 0.1384249476811412\n",
            "97 TRAIN: Accuracy = 0.99304, Loss = 0.02306267150045969\n",
            "97 VALIDATION: Accuracy = 0.9716, Loss = 0.16335374006852654\n",
            "98 TRAIN: Accuracy = 0.99326, Loss = 0.022652561081739988\n",
            "98 VALIDATION: Accuracy = 0.9778, Loss = 0.11869277655848419\n",
            "99 TRAIN: Accuracy = 0.99454, Loss = 0.016910242857502488\n",
            "99 VALIDATION: Accuracy = 0.9737, Loss = 0.14537307227199198\n",
            "\n",
            "---------------------------MODEL GOING TO BE TESTED\n",
            "TEST: Accuracy = 0.9747, Loss = 0.14862956326985732\n"
          ]
        }
      ]
    },
    {
      "cell_type": "code",
      "source": [
        "print(\"testing model WITHOUT inverting images\")\n",
        "new_transform = transforms.Compose([transforms.ToTensor()]) # ALL images are NOT inverted\n",
        "new_test_dataset = datasets.MNIST(root='data', train = False, transform=new_transform, download = True)\n",
        "new_test_dataloader = DataLoader(new_test_dataset, batch_size = 32, shuffle = True)\n",
        "evaluate_model(model, new_test_dataloader)\n",
        "\n",
        "print()\n",
        "\n",
        "print(\"testing model WITH inverted images\")\n",
        "new_transform = transforms.Compose([transforms.ToTensor(), lambda image : 1-image]) # ALL images will be inverted\n",
        "new_test_dataset = datasets.MNIST(root='data', train = False, transform=new_transform, download = True)\n",
        "new_test_dataloader = DataLoader(new_test_dataset, batch_size = 32, shuffle = True)\n",
        "evaluate_model(model, new_test_dataloader)"
      ],
      "metadata": {
        "id": "F_6ykFdhY3v-",
        "outputId": "d6c53ae7-4787-417f-a7c8-7db2711be56a",
        "colab": {
          "base_uri": "https://localhost:8080/"
        }
      },
      "execution_count": 14,
      "outputs": [
        {
          "output_type": "stream",
          "name": "stdout",
          "text": [
            "testing model WITHOUT inverting images\n",
            "TEST: Accuracy = 0.9813, Loss = 0.13317162412837838\n",
            "\n",
            "testing model WITH inverted images\n",
            "TEST: Accuracy = 0.9691, Loss = 0.15458672419657524\n"
          ]
        }
      ]
    },
    {
      "cell_type": "markdown",
      "source": [
        "As shown above, the model accuracy now is satisfiable both for **inverted images** and **non-inverted images**."
      ],
      "metadata": {
        "id": "JdKfWKUcb6nQ"
      }
    }
  ]
}