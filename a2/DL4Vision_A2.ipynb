{
  "nbformat": 4,
  "nbformat_minor": 0,
  "metadata": {
    "colab": {
      "provenance": [],
      "include_colab_link": true
    },
    "kernelspec": {
      "name": "python3",
      "display_name": "Python 3"
    },
    "language_info": {
      "name": "python"
    },
    "accelerator": "GPU",
    "gpuClass": "standard"
  },
  "cells": [
    {
      "cell_type": "markdown",
      "metadata": {
        "id": "view-in-github",
        "colab_type": "text"
      },
      "source": [
        "<a href=\"https://colab.research.google.com/github/akash02ita/CPSC-599.6-DL-for-Vision/blob/main/a2/DL4Vision_A2.ipynb\" target=\"_parent\"><img src=\"https://colab.research.google.com/assets/colab-badge.svg\" alt=\"Open In Colab\"/></a>"
      ]
    },
    {
      "cell_type": "markdown",
      "source": [
        "# Assignment 2\n",
        "In this assignment, we will use a multi-layer perceptron network to build an image classifier for single digits. We will be using a public dataset for model development. The dataset we will be using is the MNIST digit dataset. The dataset contains 10 classes, where class `i` contains images of digit `i`."
      ],
      "metadata": {
        "id": "-_eG2sW1MQrV"
      }
    },
    {
      "cell_type": "code",
      "execution_count": 1,
      "metadata": {
        "id": "BOMls6CLGyUr"
      },
      "outputs": [],
      "source": [
        "import torch\n",
        "import torch.nn as nn\n",
        "import torchvision\n",
        "from torchvision import datasets, transforms\n",
        "from torch.utils.data import Dataset, DataLoader, random_split\n",
        "import numpy as np\n",
        "import torch.optim as optim"
      ]
    },
    {
      "cell_type": "markdown",
      "source": [
        "####1. Create train_data and test_dataset objects using the MNIST digit dataset from torchvision.datasets module. (5 points)"
      ],
      "metadata": {
        "id": "Ao4fnByOPKmT"
      }
    },
    {
      "cell_type": "code",
      "source": [
        "transform = transforms.Compose([transforms.ToTensor()])\n",
        "train_data = datasets.MNIST(root='data', train = True, transform=transform, download = True)\n",
        "test_dataset = datasets.MNIST(root='data', train = False, transform=transform, download = True)"
      ],
      "metadata": {
        "id": "9tLsPKsAPJOu"
      },
      "execution_count": 2,
      "outputs": []
    },
    {
      "cell_type": "markdown",
      "source": [
        "####2. Use the [random_split](https://pytorch.org/docs/stable/data.html#torch.utils.data.random_split) method to split the `train_data` into `train_dataset` (50000 images) and `validation_dataset` dataset (10000 images). (5 points)"
      ],
      "metadata": {
        "id": "JXbRPNvvQ3s5"
      }
    },
    {
      "cell_type": "code",
      "source": [
        "print(len(train_data))\n",
        "train_dataset, validation_dataset = random_split(train_data, [50000, 10000], generator=torch.Generator().manual_seed(42))\n",
        "len(train_dataset), len(validation_dataset)"
      ],
      "metadata": {
        "id": "eMHxma1VXSDE",
        "outputId": "165e7dab-2a57-48d3-91ca-b57c715871d4",
        "colab": {
          "base_uri": "https://localhost:8080/"
        }
      },
      "execution_count": 3,
      "outputs": [
        {
          "output_type": "stream",
          "name": "stdout",
          "text": [
            "60000\n"
          ]
        },
        {
          "output_type": "execute_result",
          "data": {
            "text/plain": [
              "(50000, 10000)"
            ]
          },
          "metadata": {},
          "execution_count": 3
        }
      ]
    },
    {
      "cell_type": "markdown",
      "source": [
        "#### 3. Create dataloader objects for `train_dataset`, `validation_dataset`, and `test_dataset`. (5 points)"
      ],
      "metadata": {
        "id": "Pej9bS2lfFkb"
      }
    },
    {
      "cell_type": "code",
      "source": [
        "train_dataloader = DataLoader(train_dataset, batch_size = 32, shuffle = True)\n",
        "test_dataloader = DataLoader(test_dataset, batch_size = 32, shuffle = True)\n",
        "validation_dataloader = DataLoader(validation_dataset, batch_size = 32, shuffle = True)\n",
        "type(train_dataloader), len(train_dataloader), len(train_dataloader.dataset)"
      ],
      "metadata": {
        "id": "xd1zHUocfazi",
        "outputId": "898ca810-f5ee-4b2b-d92d-11ccf3259212",
        "colab": {
          "base_uri": "https://localhost:8080/"
        }
      },
      "execution_count": 4,
      "outputs": [
        {
          "output_type": "execute_result",
          "data": {
            "text/plain": [
              "(torch.utils.data.dataloader.DataLoader, 1563, 50000)"
            ]
          },
          "metadata": {},
          "execution_count": 4
        }
      ]
    },
    {
      "cell_type": "code",
      "source": [
        "for images, labels in train_dataloader:\n",
        "  print(type(images), type(labels))\n",
        "  print(images.shape, labels.shape)\n",
        "  print(images[0].numpy().shape)\n",
        "  break"
      ],
      "metadata": {
        "id": "ONljcG2ehZu2",
        "outputId": "3f35c637-120d-4107-c592-4c297311acf6",
        "colab": {
          "base_uri": "https://localhost:8080/"
        }
      },
      "execution_count": 5,
      "outputs": [
        {
          "output_type": "stream",
          "name": "stdout",
          "text": [
            "<class 'torch.Tensor'> <class 'torch.Tensor'>\n",
            "torch.Size([32, 1, 28, 28]) torch.Size([32])\n",
            "(1, 28, 28)\n"
          ]
        }
      ]
    },
    {
      "cell_type": "markdown",
      "source": [
        "#### 4. Develop an MLP model for classifying MNIST images. The developed model should have four hidden layers of 256, 128, 64, and 32 neurons. Each hidden layer should be followed with a ReLU unit and a Dropout layer (p=0.2).  (15 points)"
      ],
      "metadata": {
        "id": "3_R2J6A1ahUS"
      }
    },
    {
      "cell_type": "code",
      "source": [
        "def initialize_model(flattened_image_shape):\n",
        "  model = nn.Sequential(\n",
        "    nn.Flatten(),\n",
        "    nn.Linear(flattened_image_shape, 256, bias=True),\n",
        "    nn.ReLU(),\n",
        "    nn.Linear(256, 128, bias=True),\n",
        "    nn.ReLU(),\n",
        "    nn.Linear(128, 64, bias=True),\n",
        "    nn.ReLU(),\n",
        "    nn.Linear(64, 32, bias=True),\n",
        "    nn.Dropout(p=0.2),\n",
        "    nn.Linear(32, 10, bias=True)\n",
        "  )\n",
        "  return model\n",
        "\n",
        "flattened_image_shape = 1*28*28\n",
        "model = initialize_model(flattened_image_shape)"
      ],
      "metadata": {
        "id": "WNsJAsisbdWm"
      },
      "execution_count": 6,
      "outputs": []
    },
    {
      "cell_type": "markdown",
      "source": [
        "#### 5. Define the components needed for training a deep learning model. (10 points)\n",
        "\n"
      ],
      "metadata": {
        "id": "tZnMNV1Id_n1"
      }
    },
    {
      "cell_type": "code",
      "source": [
        "def initialize_componenets(model):\n",
        "  criterion = nn.CrossEntropyLoss()\n",
        "  optimizer = optim.SGD(model.parameters(), lr=0.01,momentum=0.9)\n",
        "  device = torch.device(\"cuda\" if torch.cuda.is_available() else \"cpu\")\n",
        "  print(device)\n",
        "  model = model.to(device) # returns model on the device\n",
        "\n",
        "  return criterion, optimizer, device, model\n",
        "\n",
        "criterion, optimizer, device, model = initialize_componenets(model)"
      ],
      "metadata": {
        "id": "0nT3ixTAQ4QQ",
        "colab": {
          "base_uri": "https://localhost:8080/"
        },
        "outputId": "2e6543ab-ece9-49c0-cab9-d36438ef5b42"
      },
      "execution_count": 7,
      "outputs": [
        {
          "output_type": "stream",
          "name": "stdout",
          "text": [
            "cuda\n"
          ]
        }
      ]
    },
    {
      "cell_type": "markdown",
      "source": [
        "#### 6. Write the training loop and train the model for 100 epochs. Print the training and validation accuracy and loss for each epoch. (35 points)"
      ],
      "metadata": {
        "id": "T8uSNlodMVw-"
      }
    },
    {
      "cell_type": "code",
      "source": [],
      "metadata": {
        "id": "e6VcmdcJE76P"
      },
      "execution_count": 7,
      "outputs": []
    },
    {
      "cell_type": "code",
      "source": [
        "def train_model(model, epochs, train_dataloader, validation_dataloader, criterion, optimizer):\n",
        "  model.train()\n",
        "  for epoch in range(epochs):\n",
        "    for current_data, current_dataloader  in [(\"TRAIN\", train_dataloader), (\"VALIDATION\", validation_dataloader)]:\n",
        "      total_loss = 0\n",
        "      total = 0\n",
        "      correct = 0\n",
        "      for images, labels in current_dataloader:\n",
        "        optimizer.zero_grad()\n",
        "        # data also needs to move to same device (in this case gpu)\n",
        "        images = images.to(device)\n",
        "        labels = labels.to(device)\n",
        "        outputs = model(images)\n",
        "        loss = criterion(outputs, labels)\n",
        "        if current_data == \"TRAIN\": # only when using training dataloader\n",
        "          loss.backward()\n",
        "          optimizer.step()\n",
        "        total_loss += loss.item() * images.size(0)\n",
        "        total += images.size(0)\n",
        "        _, preds = torch.max(outputs, 1) # preds is index of maximum found in each vector ouput \\element of ouputs\n",
        "        correct += (preds == labels).sum().item()\n",
        "      accuracy = correct / total\n",
        "      loss = total_loss / total\n",
        "      print(f\"{epoch} {current_data}: Accuracy = {accuracy}, Loss = {loss}\")\n",
        "\n",
        "epochs = 100\n",
        "train_model(model, epochs, train_dataloader, validation_dataloader, criterion, optimizer)"
      ],
      "metadata": {
        "id": "TdT8Mh_NgzEK",
        "colab": {
          "base_uri": "https://localhost:8080/"
        },
        "outputId": "6d6e5c13-8435-4c35-d6b8-f2a066693891"
      },
      "execution_count": 8,
      "outputs": [
        {
          "output_type": "stream",
          "name": "stdout",
          "text": [
            "0 TRAIN: Accuracy = 0.807, Loss = 0.5998462455385923\n",
            "0 VALIDATION: Accuracy = 0.9466, Loss = 0.18746656107604504\n",
            "1 TRAIN: Accuracy = 0.9573, Loss = 0.14538640809059142\n",
            "1 VALIDATION: Accuracy = 0.9635, Loss = 0.12880386571288108\n",
            "2 TRAIN: Accuracy = 0.97118, Loss = 0.09570862093333155\n",
            "2 VALIDATION: Accuracy = 0.9677, Loss = 0.11299508388191462\n",
            "3 TRAIN: Accuracy = 0.97792, Loss = 0.0723017939007841\n",
            "3 VALIDATION: Accuracy = 0.9674, Loss = 0.11263832676112652\n",
            "4 TRAIN: Accuracy = 0.98378, Loss = 0.05445601880757138\n",
            "4 VALIDATION: Accuracy = 0.9716, Loss = 0.0966441655671224\n",
            "5 TRAIN: Accuracy = 0.98706, Loss = 0.042707907482218\n",
            "5 VALIDATION: Accuracy = 0.9729, Loss = 0.10310472522978671\n",
            "6 TRAIN: Accuracy = 0.98794, Loss = 0.03901004809598904\n",
            "6 VALIDATION: Accuracy = 0.9737, Loss = 0.10359795216144994\n",
            "7 TRAIN: Accuracy = 0.99084, Loss = 0.029807494343433064\n",
            "7 VALIDATION: Accuracy = 0.9712, Loss = 0.11133885880932212\n",
            "8 TRAIN: Accuracy = 0.99096, Loss = 0.026920309842356948\n",
            "8 VALIDATION: Accuracy = 0.9772, Loss = 0.09722561183626531\n",
            "9 TRAIN: Accuracy = 0.99314, Loss = 0.021585283258114943\n",
            "9 VALIDATION: Accuracy = 0.9736, Loss = 0.10512502192856628\n",
            "10 TRAIN: Accuracy = 0.99406, Loss = 0.019050768982360605\n",
            "10 VALIDATION: Accuracy = 0.9779, Loss = 0.09975818675967749\n",
            "11 TRAIN: Accuracy = 0.99396, Loss = 0.01873180401209218\n",
            "11 VALIDATION: Accuracy = 0.9774, Loss = 0.10892552598220064\n",
            "12 TRAIN: Accuracy = 0.99562, Loss = 0.01371896879528853\n",
            "12 VALIDATION: Accuracy = 0.9763, Loss = 0.11069054283122533\n",
            "13 TRAIN: Accuracy = 0.99596, Loss = 0.012870857882252312\n",
            "13 VALIDATION: Accuracy = 0.9731, Loss = 0.1295544206893188\n",
            "14 TRAIN: Accuracy = 0.99546, Loss = 0.013689360146958934\n",
            "14 VALIDATION: Accuracy = 0.9774, Loss = 0.1187910342093397\n",
            "15 TRAIN: Accuracy = 0.9961, Loss = 0.012281196997801743\n",
            "15 VALIDATION: Accuracy = 0.9771, Loss = 0.12219976139872014\n",
            "16 TRAIN: Accuracy = 0.99748, Loss = 0.007884374967174954\n",
            "16 VALIDATION: Accuracy = 0.9764, Loss = 0.1231396045091562\n",
            "17 TRAIN: Accuracy = 0.99768, Loss = 0.0073377098121163\n",
            "17 VALIDATION: Accuracy = 0.9791, Loss = 0.12348894213446183\n",
            "18 TRAIN: Accuracy = 0.99746, Loss = 0.0084922617729386\n",
            "18 VALIDATION: Accuracy = 0.9759, Loss = 0.1321299159907998\n",
            "19 TRAIN: Accuracy = 0.99722, Loss = 0.00923984928066544\n",
            "19 VALIDATION: Accuracy = 0.9772, Loss = 0.12813440081968291\n",
            "20 TRAIN: Accuracy = 0.99956, Loss = 0.001462636306239865\n",
            "20 VALIDATION: Accuracy = 0.9814, Loss = 0.11551230176566951\n",
            "21 TRAIN: Accuracy = 0.99902, Loss = 0.003523265295774795\n",
            "21 VALIDATION: Accuracy = 0.9796, Loss = 0.1275772877820777\n",
            "22 TRAIN: Accuracy = 0.99604, Loss = 0.01355281393394393\n",
            "22 VALIDATION: Accuracy = 0.9798, Loss = 0.12188263490983518\n",
            "23 TRAIN: Accuracy = 0.997, Loss = 0.009372888859943777\n",
            "23 VALIDATION: Accuracy = 0.9787, Loss = 0.12963000330247088\n",
            "24 TRAIN: Accuracy = 0.99892, Loss = 0.0036440637787796366\n",
            "24 VALIDATION: Accuracy = 0.9794, Loss = 0.11989284235780524\n",
            "25 TRAIN: Accuracy = 0.9996, Loss = 0.0014951993695952388\n",
            "25 VALIDATION: Accuracy = 0.9806, Loss = 0.11478518260406026\n",
            "26 TRAIN: Accuracy = 0.99998, Loss = 0.00031376773060000574\n",
            "26 VALIDATION: Accuracy = 0.9813, Loss = 0.12173646974256253\n",
            "27 TRAIN: Accuracy = 1.0, Loss = 0.00018791706411635687\n",
            "27 VALIDATION: Accuracy = 0.9818, Loss = 0.11988351281105306\n",
            "28 TRAIN: Accuracy = 1.0, Loss = 0.00017020514574737547\n",
            "28 VALIDATION: Accuracy = 0.9819, Loss = 0.12316688289357844\n",
            "29 TRAIN: Accuracy = 1.0, Loss = 0.00016011982858285138\n",
            "29 VALIDATION: Accuracy = 0.9823, Loss = 0.12150694927012139\n",
            "30 TRAIN: Accuracy = 0.99996, Loss = 0.00014835890980041954\n",
            "30 VALIDATION: Accuracy = 0.9826, Loss = 0.12432346116568399\n",
            "31 TRAIN: Accuracy = 1.0, Loss = 9.061207523287906e-05\n",
            "31 VALIDATION: Accuracy = 0.9826, Loss = 0.12896941731809344\n",
            "32 TRAIN: Accuracy = 0.99998, Loss = 0.00012046057524230761\n",
            "32 VALIDATION: Accuracy = 0.9822, Loss = 0.12683271698728407\n",
            "33 TRAIN: Accuracy = 1.0, Loss = 6.896873098987243e-05\n",
            "33 VALIDATION: Accuracy = 0.9821, Loss = 0.1282228483534075\n",
            "34 TRAIN: Accuracy = 1.0, Loss = 6.215158841841372e-05\n",
            "34 VALIDATION: Accuracy = 0.9822, Loss = 0.13218006182325243\n",
            "35 TRAIN: Accuracy = 1.0, Loss = 6.646936458709888e-05\n",
            "35 VALIDATION: Accuracy = 0.9823, Loss = 0.12133393434604085\n",
            "36 TRAIN: Accuracy = 1.0, Loss = 5.537849667447858e-05\n",
            "36 VALIDATION: Accuracy = 0.9818, Loss = 0.1321200157548623\n",
            "37 TRAIN: Accuracy = 1.0, Loss = 5.885195764171712e-05\n",
            "37 VALIDATION: Accuracy = 0.9823, Loss = 0.13367464907661913\n",
            "38 TRAIN: Accuracy = 1.0, Loss = 5.10098300549437e-05\n",
            "38 VALIDATION: Accuracy = 0.9823, Loss = 0.13463094552413313\n",
            "39 TRAIN: Accuracy = 1.0, Loss = 3.998684616471479e-05\n",
            "39 VALIDATION: Accuracy = 0.9821, Loss = 0.13646352675251783\n",
            "40 TRAIN: Accuracy = 1.0, Loss = 3.9165185692911706e-05\n",
            "40 VALIDATION: Accuracy = 0.9823, Loss = 0.14156499736662337\n",
            "41 TRAIN: Accuracy = 1.0, Loss = 4.374467243137516e-05\n",
            "41 VALIDATION: Accuracy = 0.9833, Loss = 0.13528324308390938\n",
            "42 TRAIN: Accuracy = 1.0, Loss = 3.7794793523243585e-05\n",
            "42 VALIDATION: Accuracy = 0.9825, Loss = 0.13695289412780054\n",
            "43 TRAIN: Accuracy = 1.0, Loss = 4.2696555351302406e-05\n",
            "43 VALIDATION: Accuracy = 0.9824, Loss = 0.13995631289036162\n",
            "44 TRAIN: Accuracy = 1.0, Loss = 4.815312015410171e-05\n",
            "44 VALIDATION: Accuracy = 0.9819, Loss = 0.14177994280936201\n",
            "45 TRAIN: Accuracy = 1.0, Loss = 4.10473045071312e-05\n",
            "45 VALIDATION: Accuracy = 0.9826, Loss = 0.14505678867147187\n",
            "46 TRAIN: Accuracy = 1.0, Loss = 3.546017114622387e-05\n",
            "46 VALIDATION: Accuracy = 0.9816, Loss = 0.14238122961276126\n",
            "47 TRAIN: Accuracy = 1.0, Loss = 2.959457640592831e-05\n",
            "47 VALIDATION: Accuracy = 0.982, Loss = 0.1401857000332915\n",
            "48 TRAIN: Accuracy = 1.0, Loss = 3.066603101366638e-05\n",
            "48 VALIDATION: Accuracy = 0.9825, Loss = 0.14121819746417819\n",
            "49 TRAIN: Accuracy = 1.0, Loss = 2.3053427168309498e-05\n",
            "49 VALIDATION: Accuracy = 0.9822, Loss = 0.1416755806938979\n",
            "50 TRAIN: Accuracy = 1.0, Loss = 3.0886287699378415e-05\n",
            "50 VALIDATION: Accuracy = 0.9822, Loss = 0.13981078592376542\n",
            "51 TRAIN: Accuracy = 1.0, Loss = 2.3443331135306664e-05\n",
            "51 VALIDATION: Accuracy = 0.9824, Loss = 0.14150581558912945\n",
            "52 TRAIN: Accuracy = 1.0, Loss = 2.346412075336147e-05\n",
            "52 VALIDATION: Accuracy = 0.9822, Loss = 0.13992822668188967\n",
            "53 TRAIN: Accuracy = 1.0, Loss = 2.886770004104676e-05\n",
            "53 VALIDATION: Accuracy = 0.9821, Loss = 0.14431556748078397\n",
            "54 TRAIN: Accuracy = 1.0, Loss = 2.1194948563883854e-05\n",
            "54 VALIDATION: Accuracy = 0.9829, Loss = 0.14298373687374516\n",
            "55 TRAIN: Accuracy = 1.0, Loss = 2.470145551646624e-05\n",
            "55 VALIDATION: Accuracy = 0.9832, Loss = 0.14361060162929454\n",
            "56 TRAIN: Accuracy = 1.0, Loss = 3.2823053659124074e-05\n",
            "56 VALIDATION: Accuracy = 0.9824, Loss = 0.1446142264232412\n",
            "57 TRAIN: Accuracy = 1.0, Loss = 2.419149480293882e-05\n",
            "57 VALIDATION: Accuracy = 0.9832, Loss = 0.14088108186469908\n",
            "58 TRAIN: Accuracy = 1.0, Loss = 2.0088137291165112e-05\n",
            "58 VALIDATION: Accuracy = 0.9827, Loss = 0.14222105987123618\n",
            "59 TRAIN: Accuracy = 1.0, Loss = 1.8968830468724745e-05\n",
            "59 VALIDATION: Accuracy = 0.9829, Loss = 0.14336409000011308\n",
            "60 TRAIN: Accuracy = 1.0, Loss = 1.8068306126802724e-05\n",
            "60 VALIDATION: Accuracy = 0.9824, Loss = 0.14541615647599096\n",
            "61 TRAIN: Accuracy = 1.0, Loss = 1.6147473126980004e-05\n",
            "61 VALIDATION: Accuracy = 0.9822, Loss = 0.14667394576366868\n",
            "62 TRAIN: Accuracy = 1.0, Loss = 1.9285561634930135e-05\n",
            "62 VALIDATION: Accuracy = 0.9826, Loss = 0.1497091327313415\n",
            "63 TRAIN: Accuracy = 1.0, Loss = 1.8569794152735426e-05\n",
            "63 VALIDATION: Accuracy = 0.9818, Loss = 0.14273170755358425\n",
            "64 TRAIN: Accuracy = 1.0, Loss = 1.6218373249260197e-05\n",
            "64 VALIDATION: Accuracy = 0.9814, Loss = 0.1535946359208986\n",
            "65 TRAIN: Accuracy = 1.0, Loss = 1.7116102756549055e-05\n",
            "65 VALIDATION: Accuracy = 0.9828, Loss = 0.14211130356927798\n",
            "66 TRAIN: Accuracy = 1.0, Loss = 1.804482598102311e-05\n",
            "66 VALIDATION: Accuracy = 0.9832, Loss = 0.14377607457587785\n",
            "67 TRAIN: Accuracy = 1.0, Loss = 1.6488272180593383e-05\n",
            "67 VALIDATION: Accuracy = 0.9826, Loss = 0.15099468582055725\n",
            "68 TRAIN: Accuracy = 1.0, Loss = 1.5955900672987298e-05\n",
            "68 VALIDATION: Accuracy = 0.9828, Loss = 0.14526099517254965\n",
            "69 TRAIN: Accuracy = 1.0, Loss = 1.221430141916258e-05\n",
            "69 VALIDATION: Accuracy = 0.9828, Loss = 0.1466882687304633\n",
            "70 TRAIN: Accuracy = 1.0, Loss = 1.850099639140865e-05\n",
            "70 VALIDATION: Accuracy = 0.9826, Loss = 0.15252452421027732\n",
            "71 TRAIN: Accuracy = 1.0, Loss = 1.5682537250429362e-05\n",
            "71 VALIDATION: Accuracy = 0.9822, Loss = 0.15273898110252015\n",
            "72 TRAIN: Accuracy = 1.0, Loss = 1.4833557669165743e-05\n",
            "72 VALIDATION: Accuracy = 0.9819, Loss = 0.15408143723447723\n",
            "73 TRAIN: Accuracy = 1.0, Loss = 1.5848917280256246e-05\n",
            "73 VALIDATION: Accuracy = 0.9824, Loss = 0.1473133403618297\n",
            "74 TRAIN: Accuracy = 1.0, Loss = 1.355465419300458e-05\n",
            "74 VALIDATION: Accuracy = 0.9827, Loss = 0.14993792829901004\n",
            "75 TRAIN: Accuracy = 1.0, Loss = 1.0705817969215161e-05\n",
            "75 VALIDATION: Accuracy = 0.9832, Loss = 0.14901584748128696\n",
            "76 TRAIN: Accuracy = 1.0, Loss = 1.3547437164659755e-05\n",
            "76 VALIDATION: Accuracy = 0.9827, Loss = 0.15163864635508081\n",
            "77 TRAIN: Accuracy = 1.0, Loss = 1.2448151868676546e-05\n",
            "77 VALIDATION: Accuracy = 0.9821, Loss = 0.1517911775131102\n",
            "78 TRAIN: Accuracy = 1.0, Loss = 1.732218595164852e-05\n",
            "78 VALIDATION: Accuracy = 0.982, Loss = 0.14581276101353832\n",
            "79 TRAIN: Accuracy = 1.0, Loss = 1.1357958822179199e-05\n",
            "79 VALIDATION: Accuracy = 0.9826, Loss = 0.15050933227618413\n",
            "80 TRAIN: Accuracy = 1.0, Loss = 1.1266345309876869e-05\n",
            "80 VALIDATION: Accuracy = 0.9823, Loss = 0.15195462676133517\n",
            "81 TRAIN: Accuracy = 1.0, Loss = 1.2385588648606927e-05\n",
            "81 VALIDATION: Accuracy = 0.982, Loss = 0.15395101930148122\n",
            "82 TRAIN: Accuracy = 1.0, Loss = 9.70871659330797e-06\n",
            "82 VALIDATION: Accuracy = 0.9823, Loss = 0.1542950035517398\n",
            "83 TRAIN: Accuracy = 1.0, Loss = 1.1345209013581581e-05\n",
            "83 VALIDATION: Accuracy = 0.982, Loss = 0.15126834065113504\n",
            "84 TRAIN: Accuracy = 1.0, Loss = 1.135349892716377e-05\n",
            "84 VALIDATION: Accuracy = 0.9824, Loss = 0.15468677206645137\n",
            "85 TRAIN: Accuracy = 1.0, Loss = 1.0741168663893888e-05\n",
            "85 VALIDATION: Accuracy = 0.9818, Loss = 0.15110177679547476\n",
            "86 TRAIN: Accuracy = 1.0, Loss = 2.7241381594757995e-05\n",
            "86 VALIDATION: Accuracy = 0.9819, Loss = 0.1596070945919142\n",
            "87 TRAIN: Accuracy = 1.0, Loss = 2.2338411811971356e-05\n",
            "87 VALIDATION: Accuracy = 0.9825, Loss = 0.15356459462666672\n",
            "88 TRAIN: Accuracy = 1.0, Loss = 2.8664059486356306e-05\n",
            "88 VALIDATION: Accuracy = 0.9826, Loss = 0.16039894044610642\n",
            "89 TRAIN: Accuracy = 1.0, Loss = 1.2901126118263164e-05\n",
            "89 VALIDATION: Accuracy = 0.9822, Loss = 0.15721415247537843\n",
            "90 TRAIN: Accuracy = 1.0, Loss = 9.506620056908304e-06\n",
            "90 VALIDATION: Accuracy = 0.9825, Loss = 0.1537101647819045\n",
            "91 TRAIN: Accuracy = 1.0, Loss = 1.2232357658725874e-05\n",
            "91 VALIDATION: Accuracy = 0.9821, Loss = 0.15512952760004695\n",
            "92 TRAIN: Accuracy = 1.0, Loss = 1.3373614901575195e-05\n",
            "92 VALIDATION: Accuracy = 0.982, Loss = 0.1564809652299925\n",
            "93 TRAIN: Accuracy = 1.0, Loss = 1.2174298310734315e-05\n",
            "93 VALIDATION: Accuracy = 0.9819, Loss = 0.15330411022567675\n",
            "94 TRAIN: Accuracy = 1.0, Loss = 7.943423745555407e-06\n",
            "94 VALIDATION: Accuracy = 0.9821, Loss = 0.15842691073972182\n",
            "95 TRAIN: Accuracy = 1.0, Loss = 1.4661535216493177e-05\n",
            "95 VALIDATION: Accuracy = 0.9823, Loss = 0.1547532973347929\n",
            "96 TRAIN: Accuracy = 1.0, Loss = 1.1414069370425467e-05\n",
            "96 VALIDATION: Accuracy = 0.983, Loss = 0.1500997779266691\n",
            "97 TRAIN: Accuracy = 1.0, Loss = 9.211844372501047e-06\n",
            "97 VALIDATION: Accuracy = 0.9822, Loss = 0.16048405431562549\n",
            "98 TRAIN: Accuracy = 1.0, Loss = 1.6385216586868127e-05\n",
            "98 VALIDATION: Accuracy = 0.982, Loss = 0.15565511437650803\n",
            "99 TRAIN: Accuracy = 1.0, Loss = 1.6690401939821698e-05\n",
            "99 VALIDATION: Accuracy = 0.9821, Loss = 0.15579593224495566\n"
          ]
        }
      ]
    },
    {
      "cell_type": "markdown",
      "source": [
        "####6. Test the model using the `test_dataset`, and report accuracy and loss. (10 points)"
      ],
      "metadata": {
        "id": "MSDr2VB9Q0uA"
      }
    },
    {
      "cell_type": "code",
      "source": [
        "def evaluate_model(model, test_dataloader, criterion):\n",
        "  model.eval()\n",
        "  total_loss = 0\n",
        "  total = 0\n",
        "  correct = 0\n",
        "  for images, labels in test_dataloader:\n",
        "    images, labels = images.to(device), labels.to(device)\n",
        "    with torch.no_grad():\n",
        "      outputs = model(images)\n",
        "      loss = criterion(outputs, labels)\n",
        "      total_loss += loss.item() * images.size(0)\n",
        "      total += images.size(0)\n",
        "      _, preds = torch.max(outputs, 1) # preds is index of maximum found in each vector ouput \\element of ouputs\n",
        "      correct += (preds == labels).sum().item()\n",
        "  accuracy = correct / total\n",
        "  loss = total_loss / total\n",
        "  print(f\"TEST: Accuracy = {accuracy}, Loss = {loss}\")\n",
        "\n",
        "evaluate_model(model, test_dataloader, criterion)"
      ],
      "metadata": {
        "id": "Njcfq-uZLriH",
        "colab": {
          "base_uri": "https://localhost:8080/"
        },
        "outputId": "cdbec534-b174-4fa1-9662-13007ee7a181"
      },
      "execution_count": 9,
      "outputs": [
        {
          "output_type": "stream",
          "name": "stdout",
          "text": [
            "TEST: Accuracy = 0.9845, Loss = 0.13318619398642612\n"
          ]
        }
      ]
    },
    {
      "cell_type": "markdown",
      "source": [
        "#### 8. We would like to see how accurate the trained model is when applied to a set of images of digits with slight differences. The image of a digit in the MNIST dataset has a black background (0 value for pixel values). This might be like writing with white chalk on a blackboard. We make slight changes in the test datasets by applying a simple change `image = 1 - image`. In other words, we invert the pixel intensity values. The resulting images resemble a digit written with a black marker on a whiteboard. Test the model using the updated test_dataset, and report your observations regarding model performance. How would you change your pipeline if you redo this experiment? (15 points)"
      ],
      "metadata": {
        "id": "Mx9bidatV5RT"
      }
    },
    {
      "cell_type": "code",
      "source": [
        "new_transform = transforms.Compose([transforms.ToTensor(), lambda image : 1-image])\n",
        "new_test_dataset = datasets.MNIST(root='data', train = False, transform=new_transform, download = True)\n",
        "new_test_dataloader = DataLoader(new_test_dataset, batch_size = 32, shuffle = True)\n",
        "evaluate_model(model, new_test_dataloader, criterion)"
      ],
      "metadata": {
        "id": "tWL4gwwlTgOl",
        "colab": {
          "base_uri": "https://localhost:8080/"
        },
        "outputId": "86dd92f8-c9eb-4e17-f424-e509a4787475"
      },
      "execution_count": 10,
      "outputs": [
        {
          "output_type": "stream",
          "name": "stdout",
          "text": [
            "TEST: Accuracy = 0.0838, Loss = 16.260554830932616\n"
          ]
        }
      ]
    },
    {
      "cell_type": "markdown",
      "source": [
        "**8: observations**\n",
        "\n",
        "Observing the result above the accuracy of roughly 7% is not good, when images are inverted. The model returns accurate values only for non-inverted images.\n",
        "\n",
        "**8: how would i change my pipeline to re-do the experiment?**\n",
        "\n",
        "The model was not trained to handle inverted images. Therefore, image augmentation can come into a play during the training phase.\n",
        "While passing always the inverted image to the training model most likely causes the model to have low accuracy the moment it is tested and evaluated with non-inverted images, occasionally augmenting or not-augmenting an image in a probabilistic manner is the idea.\n",
        "\n",
        "Therefore, the **transform** parameter when creating `train_dataset` is a composition of function which will include an additional function. That such additional function will either return the same image or invert the image on a probability basis."
      ],
      "metadata": {
        "id": "NU08pyd3FSJN"
      }
    },
    {
      "cell_type": "code",
      "source": [
        "from random import random\n",
        "transform = transforms.Compose([transforms.ToTensor(), lambda image: 1-image if random() < 0.5 else image]) # image is augmented or original half of the times each\n",
        "train_data = datasets.MNIST(root='data', train = True, transform=transform, download = True)\n",
        "test_dataset = datasets.MNIST(root='data', train = False, transform=transform, download = True)\n",
        "train_dataset, validation_dataset = random_split(train_data, [50000, 10000], generator=torch.Generator().manual_seed(42))\n",
        "\n",
        "train_dataloader = DataLoader(train_dataset, batch_size = 32, shuffle = True)\n",
        "test_dataloader = DataLoader(test_dataset, batch_size = 32, shuffle = True)\n",
        "validation_dataloader = DataLoader(validation_dataset, batch_size = 32, shuffle = True)\n",
        "\n",
        "flattened_image_shape = 1*28*28\n",
        "model = initialize_model(flattened_image_shape)\n",
        "criterion, optimizer, device, model = initialize_componenets(model)\n",
        "\n",
        "print(\"---------------------------MODEL GOING TO BE TRAINED\")\n",
        "epochs = 100\n",
        "train_model(model, epochs, train_dataloader, validation_dataloader, criterion, optimizer)\n",
        "\n",
        "print(\"\\n---------------------------MODEL GOING TO BE TESTED\")\n",
        "evaluate_model(model, test_dataloader, criterion) # model tests with a mixture of inverted and non-inverted images"
      ],
      "metadata": {
        "colab": {
          "base_uri": "https://localhost:8080/"
        },
        "id": "5e8cG1-JTDvd",
        "outputId": "fdb3cb0e-0723-46b6-83a2-8472060b1bb5"
      },
      "execution_count": 11,
      "outputs": [
        {
          "output_type": "stream",
          "name": "stdout",
          "text": [
            "cuda\n",
            "---------------------------MODEL GOING TO BE TRAINED\n",
            "0 TRAIN: Accuracy = 0.62078, Loss = 1.070944568119049\n",
            "0 VALIDATION: Accuracy = 0.8637, Loss = 0.43527207639217375\n",
            "1 TRAIN: Accuracy = 0.8862, Loss = 0.3760031789648533\n",
            "1 VALIDATION: Accuracy = 0.9074, Loss = 0.3017822985887528\n",
            "2 TRAIN: Accuracy = 0.91732, Loss = 0.2766354830479622\n",
            "2 VALIDATION: Accuracy = 0.9206, Loss = 0.2575306319832802\n",
            "3 TRAIN: Accuracy = 0.9327, Loss = 0.2249142358613014\n",
            "3 VALIDATION: Accuracy = 0.9348, Loss = 0.21660595892071724\n",
            "4 TRAIN: Accuracy = 0.94166, Loss = 0.19304998689860106\n",
            "4 VALIDATION: Accuracy = 0.9448, Loss = 0.1868622758626938\n",
            "5 TRAIN: Accuracy = 0.9481, Loss = 0.17362838751643897\n",
            "5 VALIDATION: Accuracy = 0.9407, Loss = 0.19982220446318388\n",
            "6 TRAIN: Accuracy = 0.95534, Loss = 0.154315976960361\n",
            "6 VALIDATION: Accuracy = 0.9469, Loss = 0.1841511449456215\n",
            "7 TRAIN: Accuracy = 0.95502, Loss = 0.1488289960798621\n",
            "7 VALIDATION: Accuracy = 0.9539, Loss = 0.16268365965783596\n",
            "8 TRAIN: Accuracy = 0.96026, Loss = 0.1346060852725059\n",
            "8 VALIDATION: Accuracy = 0.9533, Loss = 0.1596245466992259\n",
            "9 TRAIN: Accuracy = 0.9638, Loss = 0.11955344963975251\n",
            "9 VALIDATION: Accuracy = 0.9593, Loss = 0.14568334617651998\n",
            "10 TRAIN: Accuracy = 0.96516, Loss = 0.11817555139295757\n",
            "10 VALIDATION: Accuracy = 0.9622, Loss = 0.13662122803404927\n",
            "11 TRAIN: Accuracy = 0.9673, Loss = 0.10942158028542995\n",
            "11 VALIDATION: Accuracy = 0.9508, Loss = 0.18220431092232467\n",
            "12 TRAIN: Accuracy = 0.96842, Loss = 0.1038552858312428\n",
            "12 VALIDATION: Accuracy = 0.9519, Loss = 0.1712311301726848\n",
            "13 TRAIN: Accuracy = 0.9696, Loss = 0.10126824418924749\n",
            "13 VALIDATION: Accuracy = 0.9587, Loss = 0.1425975500168279\n",
            "14 TRAIN: Accuracy = 0.97246, Loss = 0.09048862178370357\n",
            "14 VALIDATION: Accuracy = 0.9654, Loss = 0.12516235405504703\n",
            "15 TRAIN: Accuracy = 0.97338, Loss = 0.09050293101765215\n",
            "15 VALIDATION: Accuracy = 0.9591, Loss = 0.14274702527299524\n",
            "16 TRAIN: Accuracy = 0.97452, Loss = 0.08491801901157946\n",
            "16 VALIDATION: Accuracy = 0.9563, Loss = 0.15692736991383135\n",
            "17 TRAIN: Accuracy = 0.97468, Loss = 0.08205360597915948\n",
            "17 VALIDATION: Accuracy = 0.9673, Loss = 0.1252722920337692\n",
            "18 TRAIN: Accuracy = 0.97526, Loss = 0.08158765374610201\n",
            "18 VALIDATION: Accuracy = 0.9623, Loss = 0.1395443087777123\n",
            "19 TRAIN: Accuracy = 0.97768, Loss = 0.07620936199286021\n",
            "19 VALIDATION: Accuracy = 0.9665, Loss = 0.12431529547031969\n",
            "20 TRAIN: Accuracy = 0.97866, Loss = 0.07003545032721013\n",
            "20 VALIDATION: Accuracy = 0.9671, Loss = 0.1322885714008473\n",
            "21 TRAIN: Accuracy = 0.97826, Loss = 0.07242773674681782\n",
            "21 VALIDATION: Accuracy = 0.9593, Loss = 0.15701526219770312\n",
            "22 TRAIN: Accuracy = 0.97882, Loss = 0.07168050102989655\n",
            "22 VALIDATION: Accuracy = 0.9623, Loss = 0.13935341291436926\n",
            "23 TRAIN: Accuracy = 0.98028, Loss = 0.06692753608308732\n",
            "23 VALIDATION: Accuracy = 0.9647, Loss = 0.14473667477034033\n",
            "24 TRAIN: Accuracy = 0.98016, Loss = 0.06583382072104141\n",
            "24 VALIDATION: Accuracy = 0.9623, Loss = 0.13773104275059886\n",
            "25 TRAIN: Accuracy = 0.98108, Loss = 0.0634861497671716\n",
            "25 VALIDATION: Accuracy = 0.9678, Loss = 0.13046209500692785\n",
            "26 TRAIN: Accuracy = 0.98124, Loss = 0.06200365560541861\n",
            "26 VALIDATION: Accuracy = 0.9665, Loss = 0.1269199160646647\n",
            "27 TRAIN: Accuracy = 0.98078, Loss = 0.06272135178191587\n",
            "27 VALIDATION: Accuracy = 0.966, Loss = 0.1390951665101573\n",
            "28 TRAIN: Accuracy = 0.98296, Loss = 0.0565835795769468\n",
            "28 VALIDATION: Accuracy = 0.9695, Loss = 0.12143450057581068\n",
            "29 TRAIN: Accuracy = 0.98418, Loss = 0.052991539569683374\n",
            "29 VALIDATION: Accuracy = 0.9703, Loss = 0.11729529945421964\n",
            "30 TRAIN: Accuracy = 0.9827, Loss = 0.0563323095048219\n",
            "30 VALIDATION: Accuracy = 0.9695, Loss = 0.11935520684253424\n",
            "31 TRAIN: Accuracy = 0.98394, Loss = 0.051209984648292885\n",
            "31 VALIDATION: Accuracy = 0.9698, Loss = 0.13119730699744542\n",
            "32 TRAIN: Accuracy = 0.9841, Loss = 0.0530443021141435\n",
            "32 VALIDATION: Accuracy = 0.9707, Loss = 0.11955474696601741\n",
            "33 TRAIN: Accuracy = 0.98516, Loss = 0.04946309284967952\n",
            "33 VALIDATION: Accuracy = 0.9641, Loss = 0.1565534806452226\n",
            "34 TRAIN: Accuracy = 0.98422, Loss = 0.050927238203613084\n",
            "34 VALIDATION: Accuracy = 0.9709, Loss = 0.11868612544070929\n",
            "35 TRAIN: Accuracy = 0.9843, Loss = 0.05172920089542167\n",
            "35 VALIDATION: Accuracy = 0.9696, Loss = 0.12029612786704674\n",
            "36 TRAIN: Accuracy = 0.98586, Loss = 0.0462158545191749\n",
            "36 VALIDATION: Accuracy = 0.9713, Loss = 0.12181304536303506\n",
            "37 TRAIN: Accuracy = 0.98486, Loss = 0.050101543677537705\n",
            "37 VALIDATION: Accuracy = 0.9686, Loss = 0.12126113479668274\n",
            "38 TRAIN: Accuracy = 0.98652, Loss = 0.04400515482619172\n",
            "38 VALIDATION: Accuracy = 0.9688, Loss = 0.145830395879969\n",
            "39 TRAIN: Accuracy = 0.98614, Loss = 0.04610400687696063\n",
            "39 VALIDATION: Accuracy = 0.9731, Loss = 0.11467059960491024\n",
            "40 TRAIN: Accuracy = 0.9877, Loss = 0.04220964281290304\n",
            "40 VALIDATION: Accuracy = 0.9707, Loss = 0.12734589293058962\n",
            "41 TRAIN: Accuracy = 0.98698, Loss = 0.04407127092539042\n",
            "41 VALIDATION: Accuracy = 0.9709, Loss = 0.11636510047521442\n",
            "42 TRAIN: Accuracy = 0.98686, Loss = 0.043292923898061275\n",
            "42 VALIDATION: Accuracy = 0.9673, Loss = 0.12629892990072258\n",
            "43 TRAIN: Accuracy = 0.98654, Loss = 0.04322865032309873\n",
            "43 VALIDATION: Accuracy = 0.9687, Loss = 0.13197659872518852\n",
            "44 TRAIN: Accuracy = 0.98824, Loss = 0.039735564875743\n",
            "44 VALIDATION: Accuracy = 0.9713, Loss = 0.12786661981465294\n",
            "45 TRAIN: Accuracy = 0.98742, Loss = 0.04193306341482443\n",
            "45 VALIDATION: Accuracy = 0.9738, Loss = 0.11912678753259824\n",
            "46 TRAIN: Accuracy = 0.98814, Loss = 0.03840505474728416\n",
            "46 VALIDATION: Accuracy = 0.9723, Loss = 0.12235953093555291\n",
            "47 TRAIN: Accuracy = 0.98662, Loss = 0.04141772299228818\n",
            "47 VALIDATION: Accuracy = 0.9667, Loss = 0.15255889108073897\n",
            "48 TRAIN: Accuracy = 0.98836, Loss = 0.03886967246321495\n",
            "48 VALIDATION: Accuracy = 0.9711, Loss = 0.13537603882063412\n",
            "49 TRAIN: Accuracy = 0.98826, Loss = 0.03917456095869653\n",
            "49 VALIDATION: Accuracy = 0.972, Loss = 0.1297955026156269\n",
            "50 TRAIN: Accuracy = 0.98914, Loss = 0.03514789568127308\n",
            "50 VALIDATION: Accuracy = 0.974, Loss = 0.12826132927940925\n",
            "51 TRAIN: Accuracy = 0.98816, Loss = 0.03948109743702225\n",
            "51 VALIDATION: Accuracy = 0.974, Loss = 0.12135816006546374\n",
            "52 TRAIN: Accuracy = 0.98866, Loss = 0.037129495497643945\n",
            "52 VALIDATION: Accuracy = 0.9717, Loss = 0.1277524139601621\n",
            "53 TRAIN: Accuracy = 0.98914, Loss = 0.035330046668294236\n",
            "53 VALIDATION: Accuracy = 0.9704, Loss = 0.13653490160658402\n",
            "54 TRAIN: Accuracy = 0.9897, Loss = 0.034131285437309415\n",
            "54 VALIDATION: Accuracy = 0.9722, Loss = 0.13030739833053667\n",
            "55 TRAIN: Accuracy = 0.98978, Loss = 0.03484141913102998\n",
            "55 VALIDATION: Accuracy = 0.9707, Loss = 0.14096152884915936\n",
            "56 TRAIN: Accuracy = 0.99016, Loss = 0.03341770490221694\n",
            "56 VALIDATION: Accuracy = 0.977, Loss = 0.10525751353732193\n",
            "57 TRAIN: Accuracy = 0.9895, Loss = 0.03327233095819945\n",
            "57 VALIDATION: Accuracy = 0.9727, Loss = 0.12527993588289246\n",
            "58 TRAIN: Accuracy = 0.9915, Loss = 0.0273820603806866\n",
            "58 VALIDATION: Accuracy = 0.9715, Loss = 0.13842154901984613\n",
            "59 TRAIN: Accuracy = 0.99052, Loss = 0.030705651700415764\n",
            "59 VALIDATION: Accuracy = 0.9748, Loss = 0.11372377332524483\n",
            "60 TRAIN: Accuracy = 0.99114, Loss = 0.029245457862809417\n",
            "60 VALIDATION: Accuracy = 0.9745, Loss = 0.13456243242060628\n",
            "61 TRAIN: Accuracy = 0.98882, Loss = 0.03478504167425475\n",
            "61 VALIDATION: Accuracy = 0.9721, Loss = 0.12711206588051283\n",
            "62 TRAIN: Accuracy = 0.99028, Loss = 0.03337176278097846\n",
            "62 VALIDATION: Accuracy = 0.9719, Loss = 0.13224798911530525\n",
            "63 TRAIN: Accuracy = 0.99114, Loss = 0.02921326514779532\n",
            "63 VALIDATION: Accuracy = 0.976, Loss = 0.12155335761789465\n",
            "64 TRAIN: Accuracy = 0.98978, Loss = 0.03208219764557944\n",
            "64 VALIDATION: Accuracy = 0.974, Loss = 0.13263741829646752\n",
            "65 TRAIN: Accuracy = 0.99102, Loss = 0.029948096846977714\n",
            "65 VALIDATION: Accuracy = 0.9752, Loss = 0.12574643009491265\n",
            "66 TRAIN: Accuracy = 0.99138, Loss = 0.028544353576044085\n",
            "66 VALIDATION: Accuracy = 0.9739, Loss = 0.13011677569523453\n",
            "67 TRAIN: Accuracy = 0.99032, Loss = 0.029260096480649662\n",
            "67 VALIDATION: Accuracy = 0.9741, Loss = 0.13525522286159686\n",
            "68 TRAIN: Accuracy = 0.9901, Loss = 0.032056191317906414\n",
            "68 VALIDATION: Accuracy = 0.9754, Loss = 0.11338211407508934\n",
            "69 TRAIN: Accuracy = 0.99098, Loss = 0.029695963529181607\n",
            "69 VALIDATION: Accuracy = 0.9731, Loss = 0.13486872737836092\n",
            "70 TRAIN: Accuracy = 0.99228, Loss = 0.024943668013058487\n",
            "70 VALIDATION: Accuracy = 0.9742, Loss = 0.14161840423634275\n",
            "71 TRAIN: Accuracy = 0.99092, Loss = 0.031280351367355616\n",
            "71 VALIDATION: Accuracy = 0.9704, Loss = 0.14061241280817777\n",
            "72 TRAIN: Accuracy = 0.9917, Loss = 0.02610801693131114\n",
            "72 VALIDATION: Accuracy = 0.9734, Loss = 0.13280335491368314\n",
            "73 TRAIN: Accuracy = 0.9926, Loss = 0.024590819701972504\n",
            "73 VALIDATION: Accuracy = 0.9706, Loss = 0.1633633506232407\n",
            "74 TRAIN: Accuracy = 0.9907, Loss = 0.028966530831836135\n",
            "74 VALIDATION: Accuracy = 0.9725, Loss = 0.16021755005931773\n",
            "75 TRAIN: Accuracy = 0.99164, Loss = 0.02668918188237556\n",
            "75 VALIDATION: Accuracy = 0.9763, Loss = 0.11953122920206515\n",
            "76 TRAIN: Accuracy = 0.99126, Loss = 0.028790230689553137\n",
            "76 VALIDATION: Accuracy = 0.9706, Loss = 0.1428480063329218\n",
            "77 TRAIN: Accuracy = 0.99344, Loss = 0.022719646401440294\n",
            "77 VALIDATION: Accuracy = 0.9749, Loss = 0.12883982912314532\n",
            "78 TRAIN: Accuracy = 0.99208, Loss = 0.026678465513217307\n",
            "78 VALIDATION: Accuracy = 0.9777, Loss = 0.11671249232658301\n",
            "79 TRAIN: Accuracy = 0.9923, Loss = 0.024641439539120038\n",
            "79 VALIDATION: Accuracy = 0.9743, Loss = 0.1364616649177944\n",
            "80 TRAIN: Accuracy = 0.99334, Loss = 0.0220646282356594\n",
            "80 VALIDATION: Accuracy = 0.9766, Loss = 0.1374105892084779\n",
            "81 TRAIN: Accuracy = 0.99316, Loss = 0.022487116279455658\n",
            "81 VALIDATION: Accuracy = 0.9756, Loss = 0.12899558873412606\n",
            "82 TRAIN: Accuracy = 0.993, Loss = 0.021852150936608267\n",
            "82 VALIDATION: Accuracy = 0.9751, Loss = 0.14216413081398932\n",
            "83 TRAIN: Accuracy = 0.99224, Loss = 0.025200541396989285\n",
            "83 VALIDATION: Accuracy = 0.9745, Loss = 0.14119792831323866\n",
            "84 TRAIN: Accuracy = 0.9939, Loss = 0.020668808454426143\n",
            "84 VALIDATION: Accuracy = 0.9755, Loss = 0.13710077400567533\n",
            "85 TRAIN: Accuracy = 0.99208, Loss = 0.026181622240592478\n",
            "85 VALIDATION: Accuracy = 0.9733, Loss = 0.15254109869021487\n",
            "86 TRAIN: Accuracy = 0.9941, Loss = 0.02003076327953051\n",
            "86 VALIDATION: Accuracy = 0.9761, Loss = 0.12675630421454845\n",
            "87 TRAIN: Accuracy = 0.993, Loss = 0.02226806866839288\n",
            "87 VALIDATION: Accuracy = 0.9757, Loss = 0.14589847485543814\n",
            "88 TRAIN: Accuracy = 0.99326, Loss = 0.022633866012951767\n",
            "88 VALIDATION: Accuracy = 0.9751, Loss = 0.13542608378643053\n",
            "89 TRAIN: Accuracy = 0.99224, Loss = 0.02616262045279029\n",
            "89 VALIDATION: Accuracy = 0.9762, Loss = 0.1287533822442696\n",
            "90 TRAIN: Accuracy = 0.99354, Loss = 0.022568457812013512\n",
            "90 VALIDATION: Accuracy = 0.9777, Loss = 0.11636301410294254\n",
            "91 TRAIN: Accuracy = 0.99372, Loss = 0.021579771181353354\n",
            "91 VALIDATION: Accuracy = 0.9749, Loss = 0.13803972566783249\n",
            "92 TRAIN: Accuracy = 0.99328, Loss = 0.02174577648852256\n",
            "92 VALIDATION: Accuracy = 0.9714, Loss = 0.1691724839309929\n",
            "93 TRAIN: Accuracy = 0.99312, Loss = 0.023602512300166127\n",
            "93 VALIDATION: Accuracy = 0.9737, Loss = 0.13975257278676437\n",
            "94 TRAIN: Accuracy = 0.99272, Loss = 0.023807486761654437\n",
            "94 VALIDATION: Accuracy = 0.9671, Loss = 0.18076562349707237\n",
            "95 TRAIN: Accuracy = 0.99378, Loss = 0.020454474048496193\n",
            "95 VALIDATION: Accuracy = 0.9753, Loss = 0.13299478698137682\n",
            "96 TRAIN: Accuracy = 0.99314, Loss = 0.022414360326250608\n",
            "96 VALIDATION: Accuracy = 0.9744, Loss = 0.1483066300575665\n",
            "97 TRAIN: Accuracy = 0.9941, Loss = 0.019887933698327778\n",
            "97 VALIDATION: Accuracy = 0.9754, Loss = 0.13293854534533747\n",
            "98 TRAIN: Accuracy = 0.99396, Loss = 0.020073855928153424\n",
            "98 VALIDATION: Accuracy = 0.9768, Loss = 0.1390392050634\n",
            "99 TRAIN: Accuracy = 0.99418, Loss = 0.020007128971148123\n",
            "99 VALIDATION: Accuracy = 0.9692, Loss = 0.16314910940692062\n",
            "\n",
            "---------------------------MODEL GOING TO BE TESTED\n",
            "TEST: Accuracy = 0.9715, Loss = 0.15707385350718686\n"
          ]
        }
      ]
    },
    {
      "cell_type": "code",
      "source": [
        "print(\"testing model WITHOUT inverting images\")\n",
        "new_transform = transforms.Compose([transforms.ToTensor()]) # ALL images are NOT inverted\n",
        "new_test_dataset = datasets.MNIST(root='data', train = False, transform=new_transform, download = True)\n",
        "new_test_dataloader = DataLoader(new_test_dataset, batch_size = 32, shuffle = True)\n",
        "evaluate_model(model, new_test_dataloader, criterion)\n",
        "\n",
        "print()\n",
        "\n",
        "print(\"testing model WITH inverted images\")\n",
        "new_transform = transforms.Compose([transforms.ToTensor(), lambda image : 1-image]) # ALL images will be inverted\n",
        "new_test_dataset = datasets.MNIST(root='data', train = False, transform=new_transform, download = True)\n",
        "new_test_dataloader = DataLoader(new_test_dataset, batch_size = 32, shuffle = True)\n",
        "evaluate_model(model, new_test_dataloader, criterion)"
      ],
      "metadata": {
        "colab": {
          "base_uri": "https://localhost:8080/"
        },
        "id": "F_6ykFdhY3v-",
        "outputId": "89589586-63b4-4f8d-9371-1c3f3d191836"
      },
      "execution_count": 12,
      "outputs": [
        {
          "output_type": "stream",
          "name": "stdout",
          "text": [
            "testing model WITHOUT inverting images\n",
            "TEST: Accuracy = 0.9778, Loss = 0.15037903866090427\n",
            "\n",
            "testing model WITH inverted images\n",
            "TEST: Accuracy = 0.9688, Loss = 0.1415584898224566\n"
          ]
        }
      ]
    },
    {
      "cell_type": "markdown",
      "source": [
        "As shown above, the model accuracy now is satisfiable both for **inverted images** and **non-inverted images**."
      ],
      "metadata": {
        "id": "JdKfWKUcb6nQ"
      }
    }
  ]
}